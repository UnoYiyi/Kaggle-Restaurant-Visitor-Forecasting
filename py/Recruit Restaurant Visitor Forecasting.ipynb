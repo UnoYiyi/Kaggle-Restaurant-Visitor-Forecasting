{
 "cells": [
  {
   "cell_type": "markdown",
   "metadata": {},
   "source": [
    "# Recruit Restaurant Visitor Forecasting\n",
    "\n",
    "#### A Kaggle Competition Kernel <br>\n",
    "\n",
    "Created by\n",
    "\n",
    "[Shaoqian Tang](#https://github.com/shaoqiantang)<br>\n",
    "[Yiqing Yang](#https://github.com/yiqingyang75)<br>\n",
    "[Siyu Wang](#https://github.com/swang623)<br>\n",
    "[Yiyi Han](#https://github.com/UnoYiyi)<br>\n",
    "[Anil Jacob](#https://github.com/arjacob)<br>\n",
    "\n",
    "<img src=\"https://cdn.shopify.com/s/files/1/1540/0729/articles/CA1_1045F_2000x2000.jpg?v=1476492525\" alt=\"Alt text that describes the graphic\" title=\"Title text\" />\n",
    "\n"
   ]
  },
  {
   "cell_type": "markdown",
   "metadata": {},
   "source": [
    "## Project Overview\n",
    "\n",
    "[Click Here To View Competition Page](#https://www.kaggle.com/c/recruit-restaurant-visitor-forecasting)\n",
    "\n",
    "This project aims to help restaurants predict __the number of customers to expect__ on a daily basis to optimize inventory and staff resources. \n"
   ]
  },
  {
   "cell_type": "markdown",
   "metadata": {},
   "source": [
    "## Table of Contents\n",
    "\n",
    "1. [Environment Setup](#1)<br>\n",
    "    1.1 [Loading Needed Packages](#1.1)<br>\n",
    "    1.2 [Loading Available Datasets](#1.2)<br>\n",
    "    1.3 [Data Disctionary](#1.3)<br>\n",
    "2. [Data Exploration & Feature Engineering](#2)<br>\n",
    "    2.1 [Train Store Information](#2.1)<br>\n",
    "    2.2 [Visitor Information](#2.2)<br>\n",
    "    2.3 [Reservations](#2.3)<br>\n",
    "    2.4 [Area](#2.4)<br>\n",
    "    2.5 [Genre](#2.4)<br>\n",
    "3. [Data Preparation for Modeling](#3)<br>\n",
    "4. [Modeling](#4)<br>\n",
    "    4.1 [Loading Packages & Setup](#4.1)<br>\n",
    "    4.2 [Define RMSLE](#4.2)<br>\n",
    "    4.3 [Set up Cross Validation](#4.3)<br>\n",
    "    4.4 [Linear Regression](#4.4)<br>\n",
    "    4.5 [Random Forest](#4.5)<br>\n",
    "    4.6 [XGBoost](#4.6)<br>\n",
    "    4.7 [Model Comparison](#4.7)<br>\n",
    "5. [Summary](#5)<br>\n",
    " "
   ]
  },
  {
   "cell_type": "markdown",
   "metadata": {},
   "source": [
    "<a id = '1'></a>\n",
    "\n",
    "## Step 1: Setting up the Environment"
   ]
  },
  {
   "cell_type": "markdown",
   "metadata": {},
   "source": [
    "<a id = '1.1'></a>\n",
    "\n",
    "### 1.1 Loading Needed Packages"
   ]
  },
  {
   "cell_type": "code",
   "execution_count": 1,
   "metadata": {
    "collapsed": true
   },
   "outputs": [],
   "source": [
    "import numpy as np\n",
    "import datetime\n",
    "import pandas as pd\n",
    "import matplotlib as mpl\n",
    "import matplotlib.pyplot as plt\n",
    "import seaborn as sns\n",
    "import math, warnings\n",
    "from scipy import stats\n",
    "from mpl_toolkits.basemap import Basemap\n",
    "plt.style.use('seaborn-whitegrid')\n",
    "%matplotlib inline\n",
    "from matplotlib.pylab import rcParams\n",
    "rcParams['figure.figsize'] = 15, 6\n",
    "warnings.filterwarnings('ignore')\n",
    "\n",
    "from IPython.core.interactiveshell import InteractiveShell\n",
    "InteractiveShell.ast_node_interactivity = \"all\"\n",
    "\n",
    "from sklearn.preprocessing import LabelEncoder"
   ]
  },
  {
   "cell_type": "markdown",
   "metadata": {},
   "source": [
    "<a id = '1.2'></a>\n",
    "### 1.2 Loading Available Datasets"
   ]
  },
  {
   "cell_type": "code",
   "execution_count": 2,
   "metadata": {},
   "outputs": [
    {
     "name": "stdout",
     "output_type": "stream",
     "text": [
      "air_reserve.csv\n",
      "air_store_info.csv\n",
      "air_visit_data.csv\n",
      "date_info.csv\n",
      "hpg_reserve.csv\n",
      "hpg_store_info.csv\n",
      "sample_submission.csv\n",
      "store_id_relation.csv\n",
      "test.libsvm\n",
      "test_x.csv\n",
      "test_y.csv\n",
      "train.libsvm\n",
      "Xtest_book.csv\n",
      "\n"
     ]
    }
   ],
   "source": [
    "from subprocess import check_output\n",
    "print(check_output([\"ls\", \"../input\"]).decode(\"utf8\"))\n",
    "file_list = check_output([\"ls\", \"../input\"]).decode(\"utf8\")\n",
    "file_list = file_list.strip().split('\\n')"
   ]
  },
  {
   "cell_type": "code",
   "execution_count": null,
   "metadata": {
    "collapsed": true
   },
   "outputs": [],
   "source": [
    "for index, file in enumerate(file_list):\n",
    "    var_name = file.rstrip('.csv')\n",
    "    locals()[var_name] = pd.read_csv('../input/' + file)\n",
    "    print(file)"
   ]
  },
  {
   "cell_type": "markdown",
   "metadata": {},
   "source": [
    "<a id = '1.3'></a>\n",
    "### 1.3 Data Dictionaries\n",
    "\n",
    "__Data Sources__\n",
    "- Hot Pepper Gourmet (hpg): similar to Yelp, here users can search restaurants and also make a reservation online\n",
    "- AirREGI / Restaurant Board (air): similar to Square, a reservation control and cash register system"
   ]
  },
  {
   "cell_type": "markdown",
   "metadata": {},
   "source": [
    "__Table 1: air_reserve__\n",
    "\n",
    "Column Name | Column Description\n",
    "-------------|:------------------\n",
    "air_store_id | restaurant id in the air system\n",
    "visit_datetime| time of the reservation\n",
    "reserve_datetime | time the reservation was made\n",
    "reserve_visitors | number of visitors for that reservation\n",
    "\n",
    "\n",
    "__Table 2: hpg_reserve__\n",
    "\n",
    "Column Name | Column Description\n",
    "-------------|:------------------\n",
    "hpg_store_id | restaurant id in the hpg system\n",
    "visit_datetime| time of the reservation\n",
    "reserve_datetime | time the reservation was made\n",
    "reserve_visitors | number of visitors for that reservation\n",
    "\n",
    "__Table 3: air_store_info__\n",
    "\n",
    "Column Name | Column Description\n",
    "-------------|:------------------\n",
    "air_store_id | restaurant id in the air system\n",
    "air_genre_name | genre in the air system\n",
    "air_area_name | area of the restaurant in the air system\n",
    "latitude | latitude\n",
    "longitude | longitude\n",
    "\n",
    "__Table 4: hpg_store_info__\n",
    "\n",
    "Column Name | Column Description\n",
    "-------------|:------------------\n",
    "hpg_store_id | restaurant id in the hpg system\n",
    "hpg_genre_name | genre in the hpg system\n",
    "hpg_area_name | area of the restaurant in the hpg system\n",
    "latitude | latitude\n",
    "longitude | longitude\n",
    "\n",
    "__Table 5: air_visit_data__\n",
    "\n",
    "Column Name | Column Description\n",
    "-------------|:------------------\n",
    "air_store_id | restaurant id in the air system\n",
    "visit_date | date\n",
    "visitors | the number of visitors to the restaurant on the date\n",
    "\n",
    "__Table 6: date_info__\n",
    "\n",
    "Column Name | Column Description\n",
    "-------------|:------------------\n",
    "calendar_date | date\n",
    "day_of_week | day of the week\n",
    "holiday_flg | if the day is a holiday in Japan\n"
   ]
  },
  {
   "cell_type": "markdown",
   "metadata": {},
   "source": [
    "<a id = '2'></a>\n",
    "## Step 2: Data Exploration and Feature Engineering"
   ]
  },
  {
   "cell_type": "code",
   "execution_count": 3,
   "metadata": {},
   "outputs": [
    {
     "name": "stdout",
     "output_type": "stream",
     "text": [
      "air_reserve.csv\n",
      "Shape: (92378, 4)\n",
      "\n",
      "\n",
      "<class 'pandas.core.frame.DataFrame'>\n",
      "RangeIndex: 92378 entries, 0 to 92377\n",
      "Data columns (total 4 columns):\n",
      "air_store_id        92378 non-null object\n",
      "visit_datetime      92378 non-null datetime64[ns]\n",
      "reserve_datetime    92378 non-null datetime64[ns]\n",
      "reserve_visitors    92378 non-null int64\n",
      "dtypes: datetime64[ns](2), int64(1), object(1)\n",
      "memory usage: 2.8+ MB\n",
      "None\n",
      "\n",
      "\n",
      "           air_store_id      visit_datetime    reserve_datetime  \\\n",
      "0  air_877f79706adbfb06 2016-01-01 19:00:00 2016-01-01 16:00:00   \n",
      "1  air_db4b38ebe7a7ceff 2016-01-01 19:00:00 2016-01-01 19:00:00   \n",
      "2  air_db4b38ebe7a7ceff 2016-01-01 19:00:00 2016-01-01 19:00:00   \n",
      "3  air_877f79706adbfb06 2016-01-01 20:00:00 2016-01-01 16:00:00   \n",
      "4  air_db80363d35f10926 2016-01-01 20:00:00 2016-01-01 01:00:00   \n",
      "\n",
      "   reserve_visitors  \n",
      "0                 1  \n",
      "1                 3  \n",
      "2                 6  \n",
      "3                 2  \n",
      "4                 5  \n",
      "***********************************************************************************\n",
      "air_store_info.csv\n",
      "Shape: (829, 5)\n",
      "\n",
      "\n",
      "<class 'pandas.core.frame.DataFrame'>\n",
      "RangeIndex: 829 entries, 0 to 828\n",
      "Data columns (total 5 columns):\n",
      "air_store_id      829 non-null object\n",
      "air_genre_name    829 non-null object\n",
      "air_area_name     829 non-null object\n",
      "latitude          829 non-null float64\n",
      "longitude         829 non-null float64\n",
      "dtypes: float64(2), object(3)\n",
      "memory usage: 32.5+ KB\n",
      "None\n",
      "\n",
      "\n",
      "           air_store_id  air_genre_name                 air_area_name  \\\n",
      "0  air_0f0cdeee6c9bf3d7  Italian/French  Hyōgo-ken Kōbe-shi Kumoidōri   \n",
      "1  air_7cc17a324ae5c7dc  Italian/French  Hyōgo-ken Kōbe-shi Kumoidōri   \n",
      "2  air_fee8dcf4d619598e  Italian/French  Hyōgo-ken Kōbe-shi Kumoidōri   \n",
      "3  air_a17f0778617c76e2  Italian/French  Hyōgo-ken Kōbe-shi Kumoidōri   \n",
      "4  air_83db5aff8f50478e  Italian/French  Tōkyō-to Minato-ku Shibakōen   \n",
      "\n",
      "    latitude   longitude  \n",
      "0  34.695124  135.197852  \n",
      "1  34.695124  135.197852  \n",
      "2  34.695124  135.197852  \n",
      "3  34.695124  135.197852  \n",
      "4  35.658068  139.751599  \n",
      "***********************************************************************************\n",
      "air_visit_data.csv\n",
      "Shape: (252108, 3)\n",
      "\n",
      "\n",
      "<class 'pandas.core.frame.DataFrame'>\n",
      "RangeIndex: 252108 entries, 0 to 252107\n",
      "Data columns (total 3 columns):\n",
      "air_store_id    252108 non-null object\n",
      "visit_date      252108 non-null datetime64[ns]\n",
      "visitors        252108 non-null int64\n",
      "dtypes: datetime64[ns](1), int64(1), object(1)\n",
      "memory usage: 5.8+ MB\n",
      "None\n",
      "\n",
      "\n",
      "           air_store_id visit_date  visitors\n",
      "0  air_ba937bf13d40fb24 2016-01-13        25\n",
      "1  air_ba937bf13d40fb24 2016-01-14        32\n",
      "2  air_ba937bf13d40fb24 2016-01-15        29\n",
      "3  air_ba937bf13d40fb24 2016-01-16        22\n",
      "4  air_ba937bf13d40fb24 2016-01-18         6\n",
      "***********************************************************************************\n",
      "date_info.csv\n",
      "Shape: (517, 3)\n",
      "\n",
      "\n",
      "<class 'pandas.core.frame.DataFrame'>\n",
      "RangeIndex: 517 entries, 0 to 516\n",
      "Data columns (total 3 columns):\n",
      "calendar_date    517 non-null datetime64[ns]\n",
      "day_of_week      517 non-null object\n",
      "holiday_flg      517 non-null int64\n",
      "dtypes: datetime64[ns](1), int64(1), object(1)\n",
      "memory usage: 12.2+ KB\n",
      "None\n",
      "\n",
      "\n",
      "  calendar_date day_of_week  holiday_flg\n",
      "0    2016-01-01      Friday            1\n",
      "1    2016-01-02    Saturday            1\n",
      "2    2016-01-03      Sunday            1\n",
      "3    2016-01-04      Monday            0\n",
      "4    2016-01-05     Tuesday            0\n",
      "***********************************************************************************\n",
      "hpg_reserve.csv\n",
      "Shape: (2000320, 4)\n",
      "\n",
      "\n",
      "<class 'pandas.core.frame.DataFrame'>\n",
      "RangeIndex: 2000320 entries, 0 to 2000319\n",
      "Data columns (total 4 columns):\n",
      "hpg_store_id        object\n",
      "visit_datetime      datetime64[ns]\n",
      "reserve_datetime    datetime64[ns]\n",
      "reserve_visitors    int64\n",
      "dtypes: datetime64[ns](2), int64(1), object(1)\n",
      "memory usage: 61.0+ MB\n",
      "None\n",
      "\n",
      "\n",
      "           hpg_store_id      visit_datetime    reserve_datetime  \\\n",
      "0  hpg_c63f6f42e088e50f 2016-01-01 11:00:00 2016-01-01 09:00:00   \n",
      "1  hpg_dac72789163a3f47 2016-01-01 13:00:00 2016-01-01 06:00:00   \n",
      "2  hpg_c8e24dcf51ca1eb5 2016-01-01 16:00:00 2016-01-01 14:00:00   \n",
      "3  hpg_24bb207e5fd49d4a 2016-01-01 17:00:00 2016-01-01 11:00:00   \n",
      "4  hpg_25291c542ebb3bc2 2016-01-01 17:00:00 2016-01-01 03:00:00   \n",
      "\n",
      "   reserve_visitors  \n",
      "0                 1  \n",
      "1                 3  \n",
      "2                 2  \n",
      "3                 5  \n",
      "4                13  \n",
      "***********************************************************************************\n",
      "hpg_store_info.csv\n",
      "Shape: (4690, 5)\n",
      "\n",
      "\n",
      "<class 'pandas.core.frame.DataFrame'>\n",
      "RangeIndex: 4690 entries, 0 to 4689\n",
      "Data columns (total 5 columns):\n",
      "hpg_store_id      4690 non-null object\n",
      "hpg_genre_name    4690 non-null object\n",
      "hpg_area_name     4690 non-null object\n",
      "latitude          4690 non-null float64\n",
      "longitude         4690 non-null float64\n",
      "dtypes: float64(2), object(3)\n",
      "memory usage: 183.3+ KB\n",
      "None\n",
      "\n",
      "\n",
      "           hpg_store_id  hpg_genre_name                  hpg_area_name  \\\n",
      "0  hpg_6622b62385aec8bf  Japanese style  Tōkyō-to Setagaya-ku Taishidō   \n",
      "1  hpg_e9e068dd49c5fa00  Japanese style  Tōkyō-to Setagaya-ku Taishidō   \n",
      "2  hpg_2976f7acb4b3a3bc  Japanese style  Tōkyō-to Setagaya-ku Taishidō   \n",
      "3  hpg_e51a522e098f024c  Japanese style  Tōkyō-to Setagaya-ku Taishidō   \n",
      "4  hpg_e3d0e1519894f275  Japanese style  Tōkyō-to Setagaya-ku Taishidō   \n",
      "\n",
      "    latitude   longitude  \n",
      "0  35.643675  139.668221  \n",
      "1  35.643675  139.668221  \n",
      "2  35.643675  139.668221  \n",
      "3  35.643675  139.668221  \n",
      "4  35.643675  139.668221  \n",
      "***********************************************************************************\n",
      "sample_submission.csv\n",
      "Shape: (32019, 2)\n",
      "\n",
      "\n",
      "<class 'pandas.core.frame.DataFrame'>\n",
      "RangeIndex: 32019 entries, 0 to 32018\n",
      "Data columns (total 2 columns):\n",
      "id          32019 non-null object\n",
      "visitors    32019 non-null int64\n",
      "dtypes: int64(1), object(1)\n",
      "memory usage: 500.4+ KB\n",
      "None\n",
      "\n",
      "\n",
      "                                id  visitors\n",
      "0  air_00a91d42b08b08d9_2017-04-23         0\n",
      "1  air_00a91d42b08b08d9_2017-04-24         0\n",
      "2  air_00a91d42b08b08d9_2017-04-25         0\n",
      "3  air_00a91d42b08b08d9_2017-04-26         0\n",
      "4  air_00a91d42b08b08d9_2017-04-27         0\n",
      "***********************************************************************************\n",
      "store_id_relation.csv\n",
      "Shape: (150, 2)\n",
      "\n",
      "\n",
      "<class 'pandas.core.frame.DataFrame'>\n",
      "RangeIndex: 150 entries, 0 to 149\n",
      "Data columns (total 2 columns):\n",
      "air_store_id    150 non-null object\n",
      "hpg_store_id    150 non-null object\n",
      "dtypes: object(2)\n",
      "memory usage: 2.4+ KB\n",
      "None\n",
      "\n",
      "\n",
      "           air_store_id          hpg_store_id\n",
      "0  air_63b13c56b7201bd9  hpg_4bc649e72e2a239a\n",
      "1  air_a24bf50c3e90d583  hpg_c34b496d0305a809\n",
      "2  air_c7f78b4f3cba33ff  hpg_cd8ae0d9bbd58ff9\n",
      "3  air_947eb2cae4f3e8f2  hpg_de24ea49dc25d6b8\n",
      "4  air_965b2e0cf4119003  hpg_653238a84804d8e7\n",
      "***********************************************************************************\n",
      "test.libsvm\n",
      "Shape: (50421, 1)\n",
      "\n",
      "\n",
      "<class 'pandas.core.frame.DataFrame'>\n",
      "RangeIndex: 50421 entries, 0 to 50420\n",
      "Data columns (total 1 columns):\n",
      "36 1:1 2:11 3:8 4:35.7261178 5:139.7166049 6:7 7:51 8:55 9:248 10:16 11:19.41497210725212 12:2 13:70 14:20 15:23.91864406779661 16:16 17:66 18:43 19:42.7906976744186 20:-1 21:-1 22:-1    50421 non-null object\n",
      "dtypes: object(1)\n",
      "memory usage: 394.0+ KB\n",
      "None\n",
      "\n",
      "\n",
      "  36 1:1 2:11 3:8 4:35.7261178 5:139.7166049 6:7 7:51 8:55 9:248 10:16 11:19.41497210725212 12:2 13:70 14:20 15:23.91864406779661 16:16 17:66 18:43 19:42.7906976744186 20:-1 21:-1 22:-1\n",
      "0  4 2:3 3:4 4:33.5808273 5:130.3507639 7:9 8:84 ...                                                                                                                                     \n",
      "1  3 2:6 3:1 4:35.6465721 5:139.6532473 6:7 7:41 ...                                                                                                                                     \n",
      "2  31 2:12 3:6 4:35.6938401 5:139.7035494 6:7 7:4...                                                                                                                                     \n",
      "3  15 1:1 2:8 3:6 4:35.6617773 5:139.7040506 6:7 ...                                                                                                                                     \n",
      "4  38 2:6 3:2 4:34.6812614 5:135.5098009 6:8 7:53...                                                                                                                                     \n",
      "***********************************************************************************\n",
      "test_x.csv\n",
      "Shape: (50422, 23)\n",
      "\n",
      "\n",
      "<class 'pandas.core.frame.DataFrame'>\n",
      "RangeIndex: 50422 entries, 0 to 50421\n",
      "Data columns (total 23 columns):\n",
      "holiday_flg           50422 non-null int64\n",
      "fri_or_sat            50422 non-null int64\n",
      "month                 50422 non-null int64\n",
      "air_genre_name        50422 non-null int64\n",
      "latitude              50422 non-null float64\n",
      "longitude             50422 non-null float64\n",
      "area1                 50422 non-null int64\n",
      "area2                 50422 non-null int64\n",
      "area3                 50422 non-null int64\n",
      "area1_genre_max       50422 non-null int64\n",
      "area1_genre_median    50422 non-null float64\n",
      "area1_genre_mean      50422 non-null float64\n",
      "min_all               50422 non-null int64\n",
      "max_all               50422 non-null int64\n",
      "median_all            50422 non-null float64\n",
      "mean_all              50422 non-null float64\n",
      "min_weekday           50422 non-null int64\n",
      "max_weekday           50422 non-null int64\n",
      "median_weekday        50422 non-null float64\n",
      "mean_weekday          50422 non-null float64\n",
      "reserve_visitors      50422 non-null float64\n",
      "delta_2days           50422 non-null float64\n",
      "delta_long            50422 non-null float64\n",
      "dtypes: float64(11), int64(12)\n",
      "memory usage: 8.8 MB\n",
      "None\n",
      "\n",
      "\n",
      "   holiday_flg  fri_or_sat  month  air_genre_name   latitude   longitude  \\\n",
      "0            0           1     11               8  35.726118  139.716605   \n",
      "1            0           0      3               4  33.580827  130.350764   \n",
      "2            0           0      6               1  35.646572  139.653247   \n",
      "3            0           0     12               6  35.693840  139.703549   \n",
      "4            0           1      8               6  35.661777  139.704051   \n",
      "\n",
      "   area1  area2  area3  area1_genre_max     ...      max_all  median_all  \\\n",
      "0      7     51     55              248     ...           70        20.0   \n",
      "1      0      9     84              228     ...          142        19.0   \n",
      "2      7     41     76              877     ...           19         4.0   \n",
      "3      7     44     30              305     ...           77        27.0   \n",
      "4      7     42     78              305     ...           34        16.0   \n",
      "\n",
      "    mean_all  min_weekday  max_weekday  median_weekday  mean_weekday  \\\n",
      "0  23.918644           16           66            43.0     42.790698   \n",
      "1  26.090278            2          117            15.0     21.146341   \n",
      "2   4.602941            1           14             4.0      4.412698   \n",
      "3  27.697509            3           54            16.0     17.647059   \n",
      "4  17.081448           14           19            16.0     15.976190   \n",
      "\n",
      "   reserve_visitors  delta_2days  delta_long  \n",
      "0              -1.0         -1.0        -1.0  \n",
      "1               4.0          1.0         0.0  \n",
      "2              -1.0         -1.0        -1.0  \n",
      "3               6.0          2.0         0.0  \n",
      "4              -1.0         -1.0        -1.0  \n",
      "\n",
      "[5 rows x 23 columns]\n",
      "***********************************************************************************\n",
      "test_y.csv\n",
      "Shape: (50421, 1)\n",
      "\n",
      "\n",
      "<class 'pandas.core.frame.DataFrame'>\n",
      "RangeIndex: 50421 entries, 0 to 50420\n",
      "Data columns (total 1 columns):\n",
      "36    50421 non-null int64\n",
      "dtypes: int64(1)\n",
      "memory usage: 394.0 KB\n",
      "None\n",
      "\n",
      "\n",
      "   36\n",
      "0   4\n",
      "1   3\n",
      "2  31\n",
      "3  15\n",
      "4  38\n",
      "***********************************************************************************\n",
      "train.libsvm\n",
      "Shape: (201685, 1)\n",
      "\n",
      "\n",
      "<class 'pandas.core.frame.DataFrame'>\n",
      "RangeIndex: 201685 entries, 0 to 201684\n",
      "Data columns (total 1 columns):\n",
      "18 2:12 3:1 4:33.5913576 5:130.4148783 7:9 8:14 9:118 10:9 11:12.00157828282828 12:2 13:26 14:11 15:10.89895470383275 16:3 17:22 18:9.5 19:10.52380952380952 20:-1 21:-1 22:-1    201685 non-null object\n",
      "dtypes: object(1)\n",
      "memory usage: 1.5+ MB\n",
      "None\n",
      "\n",
      "\n",
      "  18 2:12 3:1 4:33.5913576 5:130.4148783 7:9 8:14 9:118 10:9 11:12.00157828282828 12:2 13:26 14:11 15:10.89895470383275 16:3 17:22 18:9.5 19:10.52380952380952 20:-1 21:-1 22:-1\n",
      "0  10 1:1 2:9 3:1 4:35.72623189999999 5:139.72324...                                                                                                                            \n",
      "1  7 1:1 2:1 3:2 4:33.5892157 5:130.3928134 7:9 8...                                                                                                                            \n",
      "2  29 2:2 3:7 4:34.7569503 5:134.8411775 6:3 7:17...                                                                                                                            \n",
      "3  12 1:1 2:3 3:1 4:35.6465721 5:139.6532473 6:7 ...                                                                                                                            \n",
      "4  26 2:9 3:13 4:34.6951242 5:135.1978525 6:3 7:2...                                                                                                                            \n",
      "***********************************************************************************\n",
      "Xtest_book.csv\n",
      "Shape: (32019, 24)\n",
      "\n",
      "\n",
      "<class 'pandas.core.frame.DataFrame'>\n",
      "RangeIndex: 32019 entries, 0 to 32018\n",
      "Data columns (total 24 columns):\n",
      "id                    32019 non-null object\n",
      "holiday_flg           32019 non-null int64\n",
      "fri_or_sat            32019 non-null int64\n",
      "month                 32019 non-null int64\n",
      "air_genre_name        32019 non-null int64\n",
      "latitude              32019 non-null float64\n",
      "longitude             32019 non-null float64\n",
      "area1                 32019 non-null int64\n",
      "area2                 32019 non-null int64\n",
      "area3                 32019 non-null int64\n",
      "area1_genre_max       32019 non-null int64\n",
      "area1_genre_median    32019 non-null float64\n",
      "area1_genre_mean      32019 non-null float64\n",
      "min_all               32019 non-null int64\n",
      "max_all               32019 non-null int64\n",
      "median_all            32019 non-null float64\n",
      "mean_all              32019 non-null float64\n",
      "min_weekday           31678 non-null float64\n",
      "max_weekday           31678 non-null float64\n",
      "median_weekday        31678 non-null float64\n",
      "mean_weekday          31678 non-null float64\n",
      "reserve_visitors      32019 non-null float64\n",
      "delta_2days           1269 non-null float64\n",
      "delta_long            1269 non-null float64\n",
      "dtypes: float64(13), int64(10), object(1)\n",
      "memory usage: 5.9+ MB\n",
      "None\n",
      "\n",
      "\n",
      "                                id  holiday_flg  fri_or_sat  month  \\\n",
      "0  air_00a91d42b08b08d9_2017-04-23            0           0      4   \n",
      "1  air_00a91d42b08b08d9_2017-04-24            0           0      4   \n",
      "2  air_00a91d42b08b08d9_2017-04-25            0           0      4   \n",
      "3  air_00a91d42b08b08d9_2017-04-26            0           0      4   \n",
      "4  air_00a91d42b08b08d9_2017-04-27            0           0      4   \n",
      "\n",
      "   air_genre_name   latitude   longitude  area1  area2  area3     ...      \\\n",
      "0               6  35.694003  139.753595      7      5     45     ...       \n",
      "1               6  35.694003  139.753595      7      5     45     ...       \n",
      "2               6  35.694003  139.753595      7      5     45     ...       \n",
      "3               6  35.694003  139.753595      7      5     45     ...       \n",
      "4               6  35.694003  139.753595      7      5     45     ...       \n",
      "\n",
      "   max_all  median_all   mean_all  min_weekday  max_weekday  median_weekday  \\\n",
      "0       99        26.0  26.081897          2.0          2.0             2.0   \n",
      "1       99        26.0  26.081897          1.0         47.0            19.0   \n",
      "2       99        26.0  26.081897          1.0         43.0            24.5   \n",
      "3       99        26.0  26.081897         15.0         52.0            28.0   \n",
      "4       99        26.0  26.081897         15.0         47.0            30.0   \n",
      "\n",
      "   mean_weekday  reserve_visitors  delta_2days  delta_long  \n",
      "0      2.000000               0.0          NaN         NaN  \n",
      "1     22.457143               0.0          NaN         NaN  \n",
      "2     24.350000               0.0          NaN         NaN  \n",
      "3     28.125000               0.0          NaN         NaN  \n",
      "4     29.868421               0.0          NaN         NaN  \n",
      "\n",
      "[5 rows x 24 columns]\n",
      "***********************************************************************************\n"
     ]
    }
   ],
   "source": [
    "# convert to datetime\n",
    "    for col in locals()[var_name].columns:\n",
    "        if col.endswith('datetime') or col.endswith('date'):\n",
    "            locals()[var_name][col] = pd.to_datetime(locals()[var_name][col])\n",
    "    \n",
    "    print('Shape:', locals()[var_name].shape)\n",
    "    print('\\n')\n",
    "    print(locals()[var_name].info())\n",
    "    print('\\n')\n",
    "    print(locals()[var_name].head())\n",
    "    print('***********************************************************************************')"
   ]
  },
  {
   "cell_type": "markdown",
   "metadata": {},
   "source": [
    "<a id = '2.1'></a>\n",
    "\n",
    "### 2.1 Training Set Store Information"
   ]
  },
  {
   "cell_type": "code",
   "execution_count": 4,
   "metadata": {
    "scrolled": true
   },
   "outputs": [
    {
     "data": {
      "text/html": [
       "<div>\n",
       "<style scoped>\n",
       "    .dataframe tbody tr th:only-of-type {\n",
       "        vertical-align: middle;\n",
       "    }\n",
       "\n",
       "    .dataframe tbody tr th {\n",
       "        vertical-align: top;\n",
       "    }\n",
       "\n",
       "    .dataframe thead th {\n",
       "        text-align: right;\n",
       "    }\n",
       "</style>\n",
       "<table border=\"1\" class=\"dataframe\">\n",
       "  <thead>\n",
       "    <tr style=\"text-align: right;\">\n",
       "      <th></th>\n",
       "      <th>hpg_store_id</th>\n",
       "      <th>hpg_genre_name</th>\n",
       "      <th>hpg_area_name</th>\n",
       "      <th>latitude</th>\n",
       "      <th>longitude</th>\n",
       "    </tr>\n",
       "  </thead>\n",
       "  <tbody>\n",
       "    <tr>\n",
       "      <th>0</th>\n",
       "      <td>hpg_6622b62385aec8bf</td>\n",
       "      <td>Japanese style</td>\n",
       "      <td>Tōkyō-to Setagaya-ku Taishidō</td>\n",
       "      <td>35.643675</td>\n",
       "      <td>139.668221</td>\n",
       "    </tr>\n",
       "    <tr>\n",
       "      <th>1</th>\n",
       "      <td>hpg_e9e068dd49c5fa00</td>\n",
       "      <td>Japanese style</td>\n",
       "      <td>Tōkyō-to Setagaya-ku Taishidō</td>\n",
       "      <td>35.643675</td>\n",
       "      <td>139.668221</td>\n",
       "    </tr>\n",
       "    <tr>\n",
       "      <th>2</th>\n",
       "      <td>hpg_2976f7acb4b3a3bc</td>\n",
       "      <td>Japanese style</td>\n",
       "      <td>Tōkyō-to Setagaya-ku Taishidō</td>\n",
       "      <td>35.643675</td>\n",
       "      <td>139.668221</td>\n",
       "    </tr>\n",
       "    <tr>\n",
       "      <th>3</th>\n",
       "      <td>hpg_e51a522e098f024c</td>\n",
       "      <td>Japanese style</td>\n",
       "      <td>Tōkyō-to Setagaya-ku Taishidō</td>\n",
       "      <td>35.643675</td>\n",
       "      <td>139.668221</td>\n",
       "    </tr>\n",
       "    <tr>\n",
       "      <th>4</th>\n",
       "      <td>hpg_e3d0e1519894f275</td>\n",
       "      <td>Japanese style</td>\n",
       "      <td>Tōkyō-to Setagaya-ku Taishidō</td>\n",
       "      <td>35.643675</td>\n",
       "      <td>139.668221</td>\n",
       "    </tr>\n",
       "  </tbody>\n",
       "</table>\n",
       "</div>"
      ],
      "text/plain": [
       "           hpg_store_id  hpg_genre_name                  hpg_area_name  \\\n",
       "0  hpg_6622b62385aec8bf  Japanese style  Tōkyō-to Setagaya-ku Taishidō   \n",
       "1  hpg_e9e068dd49c5fa00  Japanese style  Tōkyō-to Setagaya-ku Taishidō   \n",
       "2  hpg_2976f7acb4b3a3bc  Japanese style  Tōkyō-to Setagaya-ku Taishidō   \n",
       "3  hpg_e51a522e098f024c  Japanese style  Tōkyō-to Setagaya-ku Taishidō   \n",
       "4  hpg_e3d0e1519894f275  Japanese style  Tōkyō-to Setagaya-ku Taishidō   \n",
       "\n",
       "    latitude   longitude  \n",
       "0  35.643675  139.668221  \n",
       "1  35.643675  139.668221  \n",
       "2  35.643675  139.668221  \n",
       "3  35.643675  139.668221  \n",
       "4  35.643675  139.668221  "
      ]
     },
     "execution_count": 4,
     "metadata": {},
     "output_type": "execute_result"
    }
   ],
   "source": [
    "hpg_store_info.head()"
   ]
  },
  {
   "cell_type": "markdown",
   "metadata": {},
   "source": [
    "#### FIGURE 1: Store Distribution map\n",
    "\n",
    "The two maps below show the distribution of stores recorded in air and hpg. While the overall distribution looks similar for both sources, hpg seems to include more restaurants than air."
   ]
  },
  {
   "cell_type": "code",
   "execution_count": 5,
   "metadata": {
    "scrolled": true
   },
   "outputs": [
    {
     "data": {
      "text/plain": [
       "<matplotlib.image.AxesImage at 0x1a0644f66a0>"
      ]
     },
     "execution_count": 5,
     "metadata": {},
     "output_type": "execute_result"
    },
    {
     "data": {
      "text/plain": [
       "<matplotlib.collections.LineCollection at 0x1a064349c88>"
      ]
     },
     "execution_count": 5,
     "metadata": {},
     "output_type": "execute_result"
    },
    {
     "data": {
      "text/plain": [
       "<matplotlib.collections.LineCollection at 0x1a064561e10>"
      ]
     },
     "execution_count": 5,
     "metadata": {},
     "output_type": "execute_result"
    },
    {
     "data": {
      "text/plain": [
       "<matplotlib.collections.LineCollection at 0x1a064580278>"
      ]
     },
     "execution_count": 5,
     "metadata": {},
     "output_type": "execute_result"
    },
    {
     "data": {
      "text/plain": [
       "<matplotlib.collections.PathCollection at 0x1a064580320>"
      ]
     },
     "execution_count": 5,
     "metadata": {},
     "output_type": "execute_result"
    },
    {
     "data": {
      "text/plain": [
       "Text(0.5,1,'air_store distribution')"
      ]
     },
     "execution_count": 5,
     "metadata": {},
     "output_type": "execute_result"
    },
    {
     "data": {
      "text/plain": [
       "<matplotlib.image.AxesImage at 0x1a0643ae5f8>"
      ]
     },
     "execution_count": 5,
     "metadata": {},
     "output_type": "execute_result"
    },
    {
     "data": {
      "text/plain": [
       "<matplotlib.collections.LineCollection at 0x1a06438b278>"
      ]
     },
     "execution_count": 5,
     "metadata": {},
     "output_type": "execute_result"
    },
    {
     "data": {
      "text/plain": [
       "<matplotlib.collections.LineCollection at 0x1a0643ae5c0>"
      ]
     },
     "execution_count": 5,
     "metadata": {},
     "output_type": "execute_result"
    },
    {
     "data": {
      "text/plain": [
       "<matplotlib.collections.LineCollection at 0x1a0643d9048>"
      ]
     },
     "execution_count": 5,
     "metadata": {},
     "output_type": "execute_result"
    },
    {
     "data": {
      "text/plain": [
       "<matplotlib.collections.PathCollection at 0x1a0643d9438>"
      ]
     },
     "execution_count": 5,
     "metadata": {},
     "output_type": "execute_result"
    },
    {
     "data": {
      "text/plain": [
       "Text(0.5,1,'hpg_store distribution')"
      ]
     },
     "execution_count": 5,
     "metadata": {},
     "output_type": "execute_result"
    },
    {
     "data": {
      "image/png": "[encoded data removed]",
      "text/plain": [
       "<matplotlib.figure.Figure at 0x1a0610c3860>"
      ]
     },
     "metadata": {},
     "output_type": "display_data"
    }
   ],
   "source": [
    "fig,ax = plt.subplots(1,2,figsize = (16,16))\n",
    "\n",
    "color = ['red','yellow']\n",
    "title = ['air_store distribution', 'hpg_store distribution']\n",
    "for i,data in enumerate([air_store_info,hpg_store_info]):\n",
    "    m = Basemap(resolution = 'h',lon_0 = 0, lat_0 = 0,llcrnrlon=127, urcrnrlon=147,\n",
    "                      llcrnrlat=29, urcrnrlat=47, ax = ax[i])\n",
    "    m.bluemarble()\n",
    "    m.drawcoastlines(color = 'gray')\n",
    "    m.drawcountries(color = 'gray')\n",
    "    m.drawstates(color = 'gray')\n",
    "    m.scatter(data['longitude'], data['latitude'], latlon = True, color = color[i], marker='o')\n",
    "    ax[i].set_title(title[i])"
   ]
  },
  {
   "cell_type": "code",
   "execution_count": null,
   "metadata": {
    "collapsed": true
   },
   "outputs": [],
   "source": [
    "# Let's see the exact number of stores in each dataset\n",
    "\n",
    "hpg_store_num = hpg_store_info['hpg_store_id'].nunique()\n",
    "air_store_num = air_store_info['air_store_id'],nunique()\n",
    "\n",
    "print(f'There are {hpg_store_num} hpg stores')\n",
    "print(f'There are {air_store_num} air stores')bm\n"
   ]
  },
  {
   "cell_type": "markdown",
   "metadata": {},
   "source": [
    "# !!!!!!NEED A CONCLUSION HERE ABOUT THE NUMBER OF STORES IN EACH DATASET AND IF THE DIFFERENT SIZES MATTER OR NOT (ARE WE CONBINING THEM OR STILL TREATING THEM AS SEPARATE AND WHY"
   ]
  },
  {
   "cell_type": "markdown",
   "metadata": {
    "collapsed": true
   },
   "source": [
    "<a id = '2.2'></a>\n",
    "### 2.2 Visitor Information"
   ]
  },
  {
   "cell_type": "markdown",
   "metadata": {},
   "source": [
    "#### FIGURE 2: Total Visitors by Visit Date (Daily/ Weekly/ Monthly)\n",
    "\n",
    "Visitor data is only available from the air records.\n",
    "\n",
    "__Observations: __\n",
    "- The Daily Visitors graph shows a clear cyclical trend over days in a week. \n",
    "- There is no significant upwarding trend over time except the huge jump in July 2016 (as we explore later, this is due to the increasing number of restaurants, either newly-opened or newly-recorded). \n",
    "- January is the low season for the Japanese Restaurant Industry."
   ]
  },
  {
   "cell_type": "code",
   "execution_count": 6,
   "metadata": {},
   "outputs": [
    {
     "data": {
      "text/plain": [
       "<matplotlib.axes._subplots.AxesSubplot at 0x1a0644a8b38>"
      ]
     },
     "execution_count": 6,
     "metadata": {},
     "output_type": "execute_result"
    },
    {
     "data": {
      "text/plain": [
       "[Text(0,0.5,'Dailyvisitors'), Text(0.5,0,'')]"
      ]
     },
     "execution_count": 6,
     "metadata": {},
     "output_type": "execute_result"
    },
    {
     "data": {
      "text/plain": [
       "<matplotlib.axes._subplots.AxesSubplot at 0x1a0644e9e10>"
      ]
     },
     "execution_count": 6,
     "metadata": {},
     "output_type": "execute_result"
    },
    {
     "data": {
      "text/plain": [
       "[Text(0,0.5,'Weeklyvisitors'), Text(0.5,0,'')]"
      ]
     },
     "execution_count": 6,
     "metadata": {},
     "output_type": "execute_result"
    },
    {
     "data": {
      "text/plain": [
       "<matplotlib.axes._subplots.AxesSubplot at 0x1a0650b0470>"
      ]
     },
     "execution_count": 6,
     "metadata": {},
     "output_type": "execute_result"
    },
    {
     "data": {
      "text/plain": [
       "[Text(0,0.5,'Monthlyvisitors'), Text(0.5,0,'')]"
      ]
     },
     "execution_count": 6,
     "metadata": {},
     "output_type": "execute_result"
    },
    {
     "data": {
      "text/plain": [
       "Text(0.5,0,'visit date')"
      ]
     },
     "execution_count": 6,
     "metadata": {},
     "output_type": "execute_result"
    },
    {
     "data": {
      "image/png": "[encoded data removed]",
      "text/plain": [
       "<matplotlib.figure.Figure at 0x1a0644a8048>"
      ]
     },
     "metadata": {},
     "output_type": "display_data"
    }
   ],
   "source": [
    "fig,ax = plt.subplots(3,1, figsize = (16,16))\n",
    "Fre = [\"Daily\", \"Weekly\", \"Monthly\"]\n",
    "\n",
    "for i,fre in enumerate([\"D\",\"W\",\"M\"]):\n",
    "    air_visit_data.groupby('visit_date')['visitors'].sum().resample(fre).sum().plot(ax = ax[i])\n",
    "    ax[i].set(ylabel = (Fre[i] + ' visitors'), xlabel = \"\")\n",
    "plt.xlabel('visit date', fontsize = 18)"
   ]
  },
  {
   "cell_type": "markdown",
   "metadata": {
    "collapsed": true
   },
   "source": [
    "<a id = '2.3'></a>\n",
    "### 2.3 Reservations"
   ]
  },
  {
   "cell_type": "code",
   "execution_count": 7,
   "metadata": {},
   "outputs": [
    {
     "data": {
      "text/html": [
       "<div>\n",
       "<style scoped>\n",
       "    .dataframe tbody tr th:only-of-type {\n",
       "        vertical-align: middle;\n",
       "    }\n",
       "\n",
       "    .dataframe tbody tr th {\n",
       "        vertical-align: top;\n",
       "    }\n",
       "\n",
       "    .dataframe thead th {\n",
       "        text-align: right;\n",
       "    }\n",
       "</style>\n",
       "<table border=\"1\" class=\"dataframe\">\n",
       "  <thead>\n",
       "    <tr style=\"text-align: right;\">\n",
       "      <th></th>\n",
       "      <th>hpg_store_id</th>\n",
       "      <th>visit_datetime</th>\n",
       "      <th>reserve_datetime</th>\n",
       "      <th>reserve_visitors</th>\n",
       "    </tr>\n",
       "  </thead>\n",
       "  <tbody>\n",
       "    <tr>\n",
       "      <th>103</th>\n",
       "      <td>air_db80363d35f10926</td>\n",
       "      <td>2016-01-01 19:00:00</td>\n",
       "      <td>2016-01-01 15:00:00</td>\n",
       "      <td>4</td>\n",
       "    </tr>\n",
       "    <tr>\n",
       "      <th>121</th>\n",
       "      <td>air_08cb3c4ee6cd6a22</td>\n",
       "      <td>2016-01-01 19:00:00</td>\n",
       "      <td>2016-01-01 16:00:00</td>\n",
       "      <td>2</td>\n",
       "    </tr>\n",
       "    <tr>\n",
       "      <th>272</th>\n",
       "      <td>air_6b15edd1b4fbb96a</td>\n",
       "      <td>2016-01-02 17:00:00</td>\n",
       "      <td>2016-01-01 22:00:00</td>\n",
       "      <td>3</td>\n",
       "    </tr>\n",
       "    <tr>\n",
       "      <th>348</th>\n",
       "      <td>air_37189c92b6c761ec</td>\n",
       "      <td>2016-01-02 18:00:00</td>\n",
       "      <td>2016-01-02 17:00:00</td>\n",
       "      <td>2</td>\n",
       "    </tr>\n",
       "    <tr>\n",
       "      <th>349</th>\n",
       "      <td>air_37189c92b6c761ec</td>\n",
       "      <td>2016-01-02 18:00:00</td>\n",
       "      <td>2016-01-01 20:00:00</td>\n",
       "      <td>2</td>\n",
       "    </tr>\n",
       "  </tbody>\n",
       "</table>\n",
       "</div>"
      ],
      "text/plain": [
       "             hpg_store_id      visit_datetime    reserve_datetime  \\\n",
       "103  air_db80363d35f10926 2016-01-01 19:00:00 2016-01-01 15:00:00   \n",
       "121  air_08cb3c4ee6cd6a22 2016-01-01 19:00:00 2016-01-01 16:00:00   \n",
       "272  air_6b15edd1b4fbb96a 2016-01-02 17:00:00 2016-01-01 22:00:00   \n",
       "348  air_37189c92b6c761ec 2016-01-02 18:00:00 2016-01-02 17:00:00   \n",
       "349  air_37189c92b6c761ec 2016-01-02 18:00:00 2016-01-01 20:00:00   \n",
       "\n",
       "     reserve_visitors  \n",
       "103                 4  \n",
       "121                 2  \n",
       "272                 3  \n",
       "348                 2  \n",
       "349                 2  "
      ]
     },
     "execution_count": 7,
     "metadata": {},
     "output_type": "execute_result"
    }
   ],
   "source": [
    "# air and hpg sometimes have the same store information but record them using different ID number\n",
    "# convert hpg_store_id to air_store_id\n",
    "hpg_reserve = hpg_reserve.merge(store_id_relation, on = 'hpg_store_id', how = 'left')\n",
    "air = hpg_reserve['air_store_id']\n",
    "hpg_reserve['hpg_store_id'] = air\n",
    "hpg_reserve = hpg_reserve[hpg_reserve['hpg_store_id'].notnull()]\n",
    "hpg_reserve = hpg_reserve.drop('air_store_id', axis = 1)\n",
    "hpg_reserve.head()"
   ]
  },
  {
   "cell_type": "code",
   "execution_count": 8,
   "metadata": {
    "scrolled": true
   },
   "outputs": [
    {
     "data": {
      "text/html": [
       "<div>\n",
       "<style scoped>\n",
       "    .dataframe tbody tr th:only-of-type {\n",
       "        vertical-align: middle;\n",
       "    }\n",
       "\n",
       "    .dataframe tbody tr th {\n",
       "        vertical-align: top;\n",
       "    }\n",
       "\n",
       "    .dataframe thead th {\n",
       "        text-align: right;\n",
       "    }\n",
       "</style>\n",
       "<table border=\"1\" class=\"dataframe\">\n",
       "  <thead>\n",
       "    <tr style=\"text-align: right;\">\n",
       "      <th></th>\n",
       "      <th>store_id</th>\n",
       "      <th>visit_datetime</th>\n",
       "      <th>reserve_datetime</th>\n",
       "      <th>reserve_visitors</th>\n",
       "      <th>delta_reservation</th>\n",
       "      <th>delta_2days</th>\n",
       "      <th>delta_7days</th>\n",
       "      <th>delta_long</th>\n",
       "      <th>date</th>\n",
       "    </tr>\n",
       "  </thead>\n",
       "  <tbody>\n",
       "    <tr>\n",
       "      <th>0</th>\n",
       "      <td>air_877f79706adbfb06</td>\n",
       "      <td>2016-01-01 19:00:00</td>\n",
       "      <td>2016-01-01 16:00:00</td>\n",
       "      <td>1</td>\n",
       "      <td>03:00:00</td>\n",
       "      <td>1</td>\n",
       "      <td>0</td>\n",
       "      <td>0</td>\n",
       "      <td>2016-01-01</td>\n",
       "    </tr>\n",
       "    <tr>\n",
       "      <th>1</th>\n",
       "      <td>air_db4b38ebe7a7ceff</td>\n",
       "      <td>2016-01-01 19:00:00</td>\n",
       "      <td>2016-01-01 19:00:00</td>\n",
       "      <td>3</td>\n",
       "      <td>00:00:00</td>\n",
       "      <td>1</td>\n",
       "      <td>0</td>\n",
       "      <td>0</td>\n",
       "      <td>2016-01-01</td>\n",
       "    </tr>\n",
       "    <tr>\n",
       "      <th>2</th>\n",
       "      <td>air_db4b38ebe7a7ceff</td>\n",
       "      <td>2016-01-01 19:00:00</td>\n",
       "      <td>2016-01-01 19:00:00</td>\n",
       "      <td>6</td>\n",
       "      <td>00:00:00</td>\n",
       "      <td>1</td>\n",
       "      <td>0</td>\n",
       "      <td>0</td>\n",
       "      <td>2016-01-01</td>\n",
       "    </tr>\n",
       "    <tr>\n",
       "      <th>3</th>\n",
       "      <td>air_877f79706adbfb06</td>\n",
       "      <td>2016-01-01 20:00:00</td>\n",
       "      <td>2016-01-01 16:00:00</td>\n",
       "      <td>2</td>\n",
       "      <td>04:00:00</td>\n",
       "      <td>1</td>\n",
       "      <td>0</td>\n",
       "      <td>0</td>\n",
       "      <td>2016-01-01</td>\n",
       "    </tr>\n",
       "    <tr>\n",
       "      <th>4</th>\n",
       "      <td>air_db80363d35f10926</td>\n",
       "      <td>2016-01-01 20:00:00</td>\n",
       "      <td>2016-01-01 01:00:00</td>\n",
       "      <td>5</td>\n",
       "      <td>19:00:00</td>\n",
       "      <td>1</td>\n",
       "      <td>0</td>\n",
       "      <td>0</td>\n",
       "      <td>2016-01-01</td>\n",
       "    </tr>\n",
       "  </tbody>\n",
       "</table>\n",
       "</div>"
      ],
      "text/plain": [
       "               store_id      visit_datetime    reserve_datetime  \\\n",
       "0  air_877f79706adbfb06 2016-01-01 19:00:00 2016-01-01 16:00:00   \n",
       "1  air_db4b38ebe7a7ceff 2016-01-01 19:00:00 2016-01-01 19:00:00   \n",
       "2  air_db4b38ebe7a7ceff 2016-01-01 19:00:00 2016-01-01 19:00:00   \n",
       "3  air_877f79706adbfb06 2016-01-01 20:00:00 2016-01-01 16:00:00   \n",
       "4  air_db80363d35f10926 2016-01-01 20:00:00 2016-01-01 01:00:00   \n",
       "\n",
       "   reserve_visitors delta_reservation  delta_2days  delta_7days  delta_long  \\\n",
       "0                 1          03:00:00            1            0           0   \n",
       "1                 3          00:00:00            1            0           0   \n",
       "2                 6          00:00:00            1            0           0   \n",
       "3                 2          04:00:00            1            0           0   \n",
       "4                 5          19:00:00            1            0           0   \n",
       "\n",
       "         date  \n",
       "0  2016-01-01  \n",
       "1  2016-01-01  \n",
       "2  2016-01-01  \n",
       "3  2016-01-01  \n",
       "4  2016-01-01  "
      ]
     },
     "execution_count": 8,
     "metadata": {},
     "output_type": "execute_result"
    }
   ],
   "source": [
    "# We think that actual visit will depend on the time difference between reservation and the expected visit date\n",
    "# therefore we will add new features to capture the relationship\n",
    "\n",
    "def delta_reservation(df):\n",
    "    # Calculating the difference between reservation time and visit time\n",
    "    df['delta_reservation'] = df['visit_datetime'] - df['reserve_datetime']\n",
    "    # creating a variable for reservations made within 2 days of visit\n",
    "    df['delta_2days'] = df['delta_reservation'].apply(lambda x: int(x.days < 2))\n",
    "    # creating a variable for reservations made within 7 days of visit\n",
    "    df['delta_7days'] = df['delta_reservation'].apply(lambda x: int(2 <= x.days < 7))\n",
    "    # creating a variable for reservations made over 1 week in advance\n",
    "    df['delta_long'] = df['delta_reservation'].apply(lambda x: int(x.days >= 7))\n",
    "    return df\n",
    "\n",
    "# Combine rervations from air and hpg\n",
    "air_reserve = delta_reservation(air_reserve)\n",
    "hpg_reserve = delta_reservation(hpg_reserve)\n",
    "\n",
    "air_reserve.rename(columns = {'air_store_id':'store_id'}, inplace = True)\n",
    "hpg_reserve.rename(columns = {'hpg_store_id':'store_id'}, inplace = True)\n",
    "total_reserve = pd.concat([air_reserve, hpg_reserve])\n",
    "total_reserve['date'] = total_reserve['visit_datetime'].apply(lambda x:x.date())\n",
    "total_reserve.head()"
   ]
  },
  {
   "cell_type": "markdown",
   "metadata": {},
   "source": [
    "- __How many unique stores are reserved?__\n",
    "- __How many unique stores are visited?__"
   ]
  },
  {
   "cell_type": "code",
   "execution_count": 9,
   "metadata": {},
   "outputs": [
    {
     "name": "stdout",
     "output_type": "stream",
     "text": [
      "333 stores are reserved\n",
      "829 stores are visited\n"
     ]
    }
   ],
   "source": [
    "num_reserve = total_reserve['store_id'].nunique()\n",
    "num_visit = air_visit_data['air_store_id'].nunique()\n",
    "print(\"{} stores are reserved\".format(num_reserve))\n",
    "print(\"{} stores are visited\".format(num_visit))"
   ]
  },
  {
   "cell_type": "markdown",
   "metadata": {},
   "source": [
    "#### FIGURE 3: Total Number of Reservations VS Total Number of Visitors\n",
    "\n",
    "__Observations: __\n",
    "\n",
    "- In general, reservations are only a small portion of total visits.\n",
    "- There is a huge jump in reservation numbers in November 2016. \n",
    "- Reservation trend does not seem to reflect visitor trend well."
   ]
  },
  {
   "cell_type": "code",
   "execution_count": 10,
   "metadata": {
    "scrolled": false
   },
   "outputs": [
    {
     "data": {
      "text/plain": [
       "[<matplotlib.lines.Line2D at 0x1a05ffd6630>]"
      ]
     },
     "execution_count": 10,
     "metadata": {},
     "output_type": "execute_result"
    },
    {
     "data": {
      "text/plain": [
       "[<matplotlib.lines.Line2D at 0x1a05ffd3e10>]"
      ]
     },
     "execution_count": 10,
     "metadata": {},
     "output_type": "execute_result"
    },
    {
     "data": {
      "text/plain": [
       "<matplotlib.legend.Legend at 0x1a0662b1b00>"
      ]
     },
     "execution_count": 10,
     "metadata": {},
     "output_type": "execute_result"
    },
    {
     "data": {
      "text/plain": [
       "Text(0,0.5,'Visitors')"
      ]
     },
     "execution_count": 10,
     "metadata": {},
     "output_type": "execute_result"
    },
    {
     "data": {
      "text/plain": [
       "Text(0.5,0,'Date')"
      ]
     },
     "execution_count": 10,
     "metadata": {},
     "output_type": "execute_result"
    },
    {
     "data": {
      "image/png": "[encoded data removed]",
      "text/plain": [
       "<matplotlib.figure.Figure at 0x1a0005eb908>"
      ]
     },
     "metadata": {},
     "output_type": "display_data"
    }
   ],
   "source": [
    "reserve_by_date = total_reserve.groupby('date').sum().reset_index()\n",
    "visit_by_date = air_visit_data.groupby('visit_date').sum().reset_index()\n",
    "\n",
    "plt.plot(reserve_by_date['date'], reserve_by_date['reserve_visitors'], color = 'green', label = 'number of reservations')\n",
    "plt.plot(visit_by_date['visit_date'], visit_by_date['visitors'], color = 'blue', label = 'number of visitors')\n",
    "plt.legend(loc = 'upper left')\n",
    "plt.ylabel('Visitors', fontsize = 14)\n",
    "plt.xlabel('Date', fontsize = 14)"
   ]
  },
  {
   "cell_type": "markdown",
   "metadata": {},
   "source": [
    "- __Is the increse at 2016-07 cause by an increase in the number of stores?__\n",
    "- __Yes__"
   ]
  },
  {
   "cell_type": "code",
   "execution_count": 11,
   "metadata": {},
   "outputs": [
    {
     "data": {
      "text/plain": [
       "316"
      ]
     },
     "execution_count": 11,
     "metadata": {},
     "output_type": "execute_result"
    },
    {
     "data": {
      "text/plain": [
       "818"
      ]
     },
     "execution_count": 11,
     "metadata": {},
     "output_type": "execute_result"
    }
   ],
   "source": [
    "air_visit_data_05 = air_visit_data[(air_visit_data['visit_date'].apply(lambda x: x.year) == 2016) & (air_visit_data['visit_date'].apply(lambda x: x.month) < 6)]\n",
    "air_visit_data_07 = air_visit_data[(air_visit_data['visit_date'].apply(lambda x: x.year) == 2016) & (air_visit_data['visit_date'].apply(lambda x: x.month) > 7)]\n",
    "air_visit_data_05['air_store_id'].nunique()\n",
    "air_visit_data_07['air_store_id'].nunique()"
   ]
  },
  {
   "cell_type": "markdown",
   "metadata": {},
   "source": [
    "#### FIGURE 4: Visit Time VS Reservation Time\n",
    "\n",
    "__Observations:__\n",
    "- Most activities happen in the afternoon and evening.\n",
    "- Compared to dinner, very few people have lunch outside."
   ]
  },
  {
   "cell_type": "code",
   "execution_count": 12,
   "metadata": {
    "scrolled": false
   },
   "outputs": [
    {
     "data": {
      "text/plain": [
       "[<matplotlib.lines.Line2D at 0x1a060147cc0>]"
      ]
     },
     "execution_count": 12,
     "metadata": {},
     "output_type": "execute_result"
    },
    {
     "data": {
      "text/plain": [
       "[<matplotlib.lines.Line2D at 0x1a060b8d320>]"
      ]
     },
     "execution_count": 12,
     "metadata": {},
     "output_type": "execute_result"
    },
    {
     "data": {
      "text/plain": [
       "([<matplotlib.axis.XTick at 0x1a0649943c8>,\n",
       "  <matplotlib.axis.XTick at 0x1a06468be48>,\n",
       "  <matplotlib.axis.XTick at 0x1a060b8d898>,\n",
       "  <matplotlib.axis.XTick at 0x1a060b8df28>,\n",
       "  <matplotlib.axis.XTick at 0x1a060b9c6d8>,\n",
       "  <matplotlib.axis.XTick at 0x1a060b9ce48>],\n",
       " <a list of 6 Text xticklabel objects>)"
      ]
     },
     "execution_count": 12,
     "metadata": {},
     "output_type": "execute_result"
    },
    {
     "data": {
      "text/plain": [
       "<matplotlib.legend.Legend at 0x1a060b9c5f8>"
      ]
     },
     "execution_count": 12,
     "metadata": {},
     "output_type": "execute_result"
    },
    {
     "data": {
      "text/plain": [
       "Text(0,0.5,'reserve visitors')"
      ]
     },
     "execution_count": 12,
     "metadata": {},
     "output_type": "execute_result"
    },
    {
     "data": {
      "text/plain": [
       "Text(0.5,0,'time')"
      ]
     },
     "execution_count": 12,
     "metadata": {},
     "output_type": "execute_result"
    },
    {
     "data": {
      "text/plain": [
       "(0, 86400)"
      ]
     },
     "execution_count": 12,
     "metadata": {},
     "output_type": "execute_result"
    },
    {
     "data": {
      "image/png": "[encoded data removed]",
      "text/plain": [
       "<matplotlib.figure.Figure at 0x1a066801d68>"
      ]
     },
     "metadata": {},
     "output_type": "display_data"
    }
   ],
   "source": [
    "df1 = total_reserve.groupby('reserve_datetime')['reserve_visitors'].sum()\n",
    "reserve_time = df1.groupby(df1.index.time).mean().reset_index()\n",
    "\n",
    "df2 = total_reserve.groupby('visit_datetime')['reserve_visitors'].sum()\n",
    "visit_time = df2.groupby(df2.index.time).mean().reset_index()\n",
    "\n",
    "hourly_ticks = 4 * 60 * 60 * np.arange(6) #4 hours per interval, 60 min per hour, 60 second per min, 6(24/4)\n",
    "plt.plot(reserve_time['index'], reserve_time['reserve_visitors'],color = 'red', label = 'reservation')\n",
    "plt.plot(visit_time['index'], visit_time['reserve_visitors'], color = 'blue', label = 'visit')\n",
    "plt.xticks(hourly_ticks)\n",
    "plt.legend(loc = 'upper left')\n",
    "plt.ylabel('reserve visitors', fontsize = 16)\n",
    "plt.xlabel('time', fontsize = 16)\n",
    "plt.xlim(0,4 * 60 * 60 * 6)"
   ]
  },
  {
   "cell_type": "markdown",
   "metadata": {},
   "source": [
    "#### FIGURE 5: Visit Weekday VS Reservation Weekday\n",
    "\n",
    "__Observations: __\n",
    "- There are more reservations made on weekdays than weekends while Friday and Saturday are the most popular days for visits.\n",
    "- Sunday and Monday have the fewest activities."
   ]
  },
  {
   "cell_type": "code",
   "execution_count": 13,
   "metadata": {
    "scrolled": false
   },
   "outputs": [
    {
     "data": {
      "text/plain": [
       "<matplotlib.axes._subplots.AxesSubplot at 0x1a064994a20>"
      ]
     },
     "execution_count": 13,
     "metadata": {},
     "output_type": "execute_result"
    },
    {
     "data": {
      "text/plain": [
       "<matplotlib.axes._subplots.AxesSubplot at 0x1a064994a20>"
      ]
     },
     "execution_count": 13,
     "metadata": {},
     "output_type": "execute_result"
    },
    {
     "data": {
      "text/plain": [
       "<matplotlib.legend.Legend at 0x1a0658605f8>"
      ]
     },
     "execution_count": 13,
     "metadata": {},
     "output_type": "execute_result"
    },
    {
     "data": {
      "text/plain": [
       "Text(0,0.5,'reserve visitors')"
      ]
     },
     "execution_count": 13,
     "metadata": {},
     "output_type": "execute_result"
    },
    {
     "data": {
      "text/plain": [
       "Text(0.5,0,'day of week')"
      ]
     },
     "execution_count": 13,
     "metadata": {},
     "output_type": "execute_result"
    },
    {
     "data": {
      "image/png": "[encoded data removed]",
      "text/plain": [
       "<matplotlib.figure.Figure at 0x1a0555775c0>"
      ]
     },
     "metadata": {},
     "output_type": "display_data"
    }
   ],
   "source": [
    "by_weekday_df1 = df1.groupby(df1.index.dayofweek).mean()\n",
    "by_weekday_df1.index = ['Mon', 'Tues', 'Wed', 'Thurs', 'Fri', 'Sat', 'Sun']\n",
    "by_weekday_df1.plot(color = 'red', label = 'reservation')\n",
    "\n",
    "by_weekday_df2 = df2.groupby(df2.index.dayofweek).mean()\n",
    "by_weekday_df2.index = ['Mon', 'Tues', 'Wed', 'Thurs', 'Fri', 'Sat', 'Sun']\n",
    "by_weekday_df2.plot(color = 'blue', label = 'visit')\n",
    "plt.legend(loc = 'upper left')\n",
    "plt.ylabel('reserve visitors', fontsize = 16)\n",
    "plt.xlabel('day of week', fontsize = 16)"
   ]
  },
  {
   "cell_type": "markdown",
   "metadata": {},
   "source": [
    "#### FIGURE 6: Reservation time on weekday and weekend\n",
    "\n",
    "__Observations:__\n",
    "- There is no obvious difference between reservation time on weekday and weekedend."
   ]
  },
  {
   "cell_type": "code",
   "execution_count": 14,
   "metadata": {},
   "outputs": [
    {
     "data": {
      "text/plain": [
       "<matplotlib.axes._subplots.AxesSubplot at 0x1a06352e470>"
      ]
     },
     "execution_count": 14,
     "metadata": {},
     "output_type": "execute_result"
    },
    {
     "data": {
      "text/plain": [
       "<matplotlib.axes._subplots.AxesSubplot at 0x1a067270898>"
      ]
     },
     "execution_count": 14,
     "metadata": {},
     "output_type": "execute_result"
    },
    {
     "data": {
      "text/plain": [
       "(0, 86400)"
      ]
     },
     "execution_count": 14,
     "metadata": {},
     "output_type": "execute_result"
    },
    {
     "data": {
      "image/png": "[encoded data removed]",
      "text/plain": [
       "<matplotlib.figure.Figure at 0x1a0658641d0>"
      ]
     },
     "metadata": {},
     "output_type": "display_data"
    }
   ],
   "source": [
    "weekend = np.where(df1.index.weekday < 5, 'Weekday', 'Weekend')\n",
    "by_time = df1.groupby([weekend, df1.index.time]).mean()\n",
    "\n",
    "fig, ax = plt.subplots(1, 2, figsize=(14, 5))\n",
    "by_time.ix['Weekday'].plot(ax=ax[0], title='Weekdays',\n",
    "                           xticks=hourly_ticks)\n",
    "by_time.ix['Weekend'].plot(ax=ax[1], title='Weekends',\n",
    "                           xticks=hourly_ticks);\n",
    "plt.xlim(0,4 * 60 * 60 * 6)"
   ]
  },
  {
   "cell_type": "markdown",
   "metadata": {},
   "source": [
    "#### FIGURE 7: Average Number of Visitors per Store for Holidays and non-Holidays.\n",
    "\n",
    "__Observations:__\n",
    "- There are more visitos on holidays. We need to do a statistical test to see if the difference is significant."
   ]
  },
  {
   "cell_type": "code",
   "execution_count": null,
   "metadata": {
    "collapsed": true
   },
   "outputs": [],
   "source": [
    "date_info = date_info.rename(columns = {'calendar_date':'visit_date'})\n",
    "air_holiday = air_visit_data.merge(date_info, how = 'inner', on = 'visit_date')\n",
    "holiday = air_holiday.groupby('holiday_flg')['visitors'].mean()\n",
    "holiday.index = ['not holiday', 'holiday']\n",
    "holiday.plot(kind = 'bar')\n",
    "plt.xticks(rotation = 'horizontal', fontsize = 16)\n",
    "plt.ylabel('visitors', fontsize =16)"
   ]
  },
  {
   "cell_type": "code",
   "execution_count": 16,
   "metadata": {},
   "outputs": [
    {
     "data": {
      "text/plain": [
       "not holiday    20.828064\n",
       "holiday        23.703327\n",
       "Name: visitors, dtype: float64"
      ]
     },
     "execution_count": 16,
     "metadata": {},
     "output_type": "execute_result"
    },
    {
     "data": {
      "text/plain": [
       "Ttest_indResult(statistic=-18.90934338944833, pvalue=1.0851683125688138e-79)"
      ]
     },
     "execution_count": 16,
     "metadata": {},
     "output_type": "execute_result"
    }
   ],
   "source": [
    "date_info = date_info.rename(columns = {'calendar_date':'visit_date'})\n",
    "air_holiday = air_visit_data.merge(date_info, how = 'inner', on = 'visit_date')\n",
    "holiday = air_holiday.groupby('holiday_flg')['visitors'].mean()\n",
    "holiday.index = ['not holiday', 'holiday']\n",
    "holiday\n",
    "\n",
    "# Hypothesis testing\n",
    "holiday_0 = air_holiday[air_holiday['holiday_flg'] == 0]['visitors']\n",
    "holiday_1 = air_holiday[air_holiday['holiday_flg'] == 1]['visitors']\n",
    "stats.ttest_ind(holiday_0, holiday_1)"
   ]
  },
  {
   "cell_type": "markdown",
   "metadata": {},
   "source": [
    "Seems holiday has even a positive influence."
   ]
  },
  {
   "cell_type": "markdown",
   "metadata": {},
   "source": [
    "<a id = '2.4'></a>\n",
    "### 2.4 Area"
   ]
  },
  {
   "cell_type": "code",
   "execution_count": 17,
   "metadata": {
    "scrolled": false
   },
   "outputs": [
    {
     "data": {
      "text/plain": [
       "829"
      ]
     },
     "execution_count": 17,
     "metadata": {},
     "output_type": "execute_result"
    },
    {
     "data": {
      "text/html": [
       "<div>\n",
       "<style scoped>\n",
       "    .dataframe tbody tr th:only-of-type {\n",
       "        vertical-align: middle;\n",
       "    }\n",
       "\n",
       "    .dataframe tbody tr th {\n",
       "        vertical-align: top;\n",
       "    }\n",
       "\n",
       "    .dataframe thead th {\n",
       "        text-align: right;\n",
       "    }\n",
       "</style>\n",
       "<table border=\"1\" class=\"dataframe\">\n",
       "  <thead>\n",
       "    <tr style=\"text-align: right;\">\n",
       "      <th></th>\n",
       "      <th>air_store_id</th>\n",
       "      <th>visit_date</th>\n",
       "      <th>visitors</th>\n",
       "      <th>air_genre_name</th>\n",
       "      <th>air_area_name</th>\n",
       "      <th>latitude</th>\n",
       "      <th>longitude</th>\n",
       "    </tr>\n",
       "  </thead>\n",
       "  <tbody>\n",
       "    <tr>\n",
       "      <th>0</th>\n",
       "      <td>air_ba937bf13d40fb24</td>\n",
       "      <td>2016-01-13</td>\n",
       "      <td>25</td>\n",
       "      <td>Dining bar</td>\n",
       "      <td>Tōkyō-to Minato-ku Shibakōen</td>\n",
       "      <td>35.658068</td>\n",
       "      <td>139.751599</td>\n",
       "    </tr>\n",
       "    <tr>\n",
       "      <th>1</th>\n",
       "      <td>air_ba937bf13d40fb24</td>\n",
       "      <td>2016-01-14</td>\n",
       "      <td>32</td>\n",
       "      <td>Dining bar</td>\n",
       "      <td>Tōkyō-to Minato-ku Shibakōen</td>\n",
       "      <td>35.658068</td>\n",
       "      <td>139.751599</td>\n",
       "    </tr>\n",
       "    <tr>\n",
       "      <th>2</th>\n",
       "      <td>air_ba937bf13d40fb24</td>\n",
       "      <td>2016-01-15</td>\n",
       "      <td>29</td>\n",
       "      <td>Dining bar</td>\n",
       "      <td>Tōkyō-to Minato-ku Shibakōen</td>\n",
       "      <td>35.658068</td>\n",
       "      <td>139.751599</td>\n",
       "    </tr>\n",
       "    <tr>\n",
       "      <th>3</th>\n",
       "      <td>air_ba937bf13d40fb24</td>\n",
       "      <td>2016-01-16</td>\n",
       "      <td>22</td>\n",
       "      <td>Dining bar</td>\n",
       "      <td>Tōkyō-to Minato-ku Shibakōen</td>\n",
       "      <td>35.658068</td>\n",
       "      <td>139.751599</td>\n",
       "    </tr>\n",
       "    <tr>\n",
       "      <th>4</th>\n",
       "      <td>air_ba937bf13d40fb24</td>\n",
       "      <td>2016-01-18</td>\n",
       "      <td>6</td>\n",
       "      <td>Dining bar</td>\n",
       "      <td>Tōkyō-to Minato-ku Shibakōen</td>\n",
       "      <td>35.658068</td>\n",
       "      <td>139.751599</td>\n",
       "    </tr>\n",
       "  </tbody>\n",
       "</table>\n",
       "</div>"
      ],
      "text/plain": [
       "           air_store_id visit_date  visitors air_genre_name  \\\n",
       "0  air_ba937bf13d40fb24 2016-01-13        25     Dining bar   \n",
       "1  air_ba937bf13d40fb24 2016-01-14        32     Dining bar   \n",
       "2  air_ba937bf13d40fb24 2016-01-15        29     Dining bar   \n",
       "3  air_ba937bf13d40fb24 2016-01-16        22     Dining bar   \n",
       "4  air_ba937bf13d40fb24 2016-01-18         6     Dining bar   \n",
       "\n",
       "                  air_area_name   latitude   longitude  \n",
       "0  Tōkyō-to Minato-ku Shibakōen  35.658068  139.751599  \n",
       "1  Tōkyō-to Minato-ku Shibakōen  35.658068  139.751599  \n",
       "2  Tōkyō-to Minato-ku Shibakōen  35.658068  139.751599  \n",
       "3  Tōkyō-to Minato-ku Shibakōen  35.658068  139.751599  \n",
       "4  Tōkyō-to Minato-ku Shibakōen  35.658068  139.751599  "
      ]
     },
     "execution_count": 17,
     "metadata": {},
     "output_type": "execute_result"
    }
   ],
   "source": [
    "store_info = air_visit_data.copy()\n",
    "store_info = store_info.merge(air_store_info,on = \"air_store_id\", how = 'inner')\n",
    "store_info['air_store_id'].nunique()\n",
    "store_info.head()"
   ]
  },
  {
   "cell_type": "code",
   "execution_count": 18,
   "metadata": {},
   "outputs": [
    {
     "data": {
      "text/html": [
       "<div>\n",
       "<style scoped>\n",
       "    .dataframe tbody tr th:only-of-type {\n",
       "        vertical-align: middle;\n",
       "    }\n",
       "\n",
       "    .dataframe tbody tr th {\n",
       "        vertical-align: top;\n",
       "    }\n",
       "\n",
       "    .dataframe thead th {\n",
       "        text-align: right;\n",
       "    }\n",
       "</style>\n",
       "<table border=\"1\" class=\"dataframe\">\n",
       "  <thead>\n",
       "    <tr style=\"text-align: right;\">\n",
       "      <th></th>\n",
       "      <th>air_store_id</th>\n",
       "      <th>visit_date</th>\n",
       "      <th>visitors</th>\n",
       "      <th>air_genre_name</th>\n",
       "      <th>air_area_name</th>\n",
       "      <th>latitude</th>\n",
       "      <th>longitude</th>\n",
       "      <th>area1</th>\n",
       "      <th>area2</th>\n",
       "      <th>area3</th>\n",
       "    </tr>\n",
       "  </thead>\n",
       "  <tbody>\n",
       "    <tr>\n",
       "      <th>0</th>\n",
       "      <td>air_ba937bf13d40fb24</td>\n",
       "      <td>2016-01-13</td>\n",
       "      <td>25</td>\n",
       "      <td>Dining bar</td>\n",
       "      <td>Tōkyō-to Minato-ku Shibakōen</td>\n",
       "      <td>35.658068</td>\n",
       "      <td>139.751599</td>\n",
       "      <td>Tōkyō-to</td>\n",
       "      <td>Minato-ku</td>\n",
       "      <td>Shibakōen</td>\n",
       "    </tr>\n",
       "    <tr>\n",
       "      <th>1</th>\n",
       "      <td>air_ba937bf13d40fb24</td>\n",
       "      <td>2016-01-14</td>\n",
       "      <td>32</td>\n",
       "      <td>Dining bar</td>\n",
       "      <td>Tōkyō-to Minato-ku Shibakōen</td>\n",
       "      <td>35.658068</td>\n",
       "      <td>139.751599</td>\n",
       "      <td>Tōkyō-to</td>\n",
       "      <td>Minato-ku</td>\n",
       "      <td>Shibakōen</td>\n",
       "    </tr>\n",
       "    <tr>\n",
       "      <th>2</th>\n",
       "      <td>air_ba937bf13d40fb24</td>\n",
       "      <td>2016-01-15</td>\n",
       "      <td>29</td>\n",
       "      <td>Dining bar</td>\n",
       "      <td>Tōkyō-to Minato-ku Shibakōen</td>\n",
       "      <td>35.658068</td>\n",
       "      <td>139.751599</td>\n",
       "      <td>Tōkyō-to</td>\n",
       "      <td>Minato-ku</td>\n",
       "      <td>Shibakōen</td>\n",
       "    </tr>\n",
       "    <tr>\n",
       "      <th>3</th>\n",
       "      <td>air_ba937bf13d40fb24</td>\n",
       "      <td>2016-01-16</td>\n",
       "      <td>22</td>\n",
       "      <td>Dining bar</td>\n",
       "      <td>Tōkyō-to Minato-ku Shibakōen</td>\n",
       "      <td>35.658068</td>\n",
       "      <td>139.751599</td>\n",
       "      <td>Tōkyō-to</td>\n",
       "      <td>Minato-ku</td>\n",
       "      <td>Shibakōen</td>\n",
       "    </tr>\n",
       "    <tr>\n",
       "      <th>4</th>\n",
       "      <td>air_ba937bf13d40fb24</td>\n",
       "      <td>2016-01-18</td>\n",
       "      <td>6</td>\n",
       "      <td>Dining bar</td>\n",
       "      <td>Tōkyō-to Minato-ku Shibakōen</td>\n",
       "      <td>35.658068</td>\n",
       "      <td>139.751599</td>\n",
       "      <td>Tōkyō-to</td>\n",
       "      <td>Minato-ku</td>\n",
       "      <td>Shibakōen</td>\n",
       "    </tr>\n",
       "  </tbody>\n",
       "</table>\n",
       "</div>"
      ],
      "text/plain": [
       "           air_store_id visit_date  visitors air_genre_name  \\\n",
       "0  air_ba937bf13d40fb24 2016-01-13        25     Dining bar   \n",
       "1  air_ba937bf13d40fb24 2016-01-14        32     Dining bar   \n",
       "2  air_ba937bf13d40fb24 2016-01-15        29     Dining bar   \n",
       "3  air_ba937bf13d40fb24 2016-01-16        22     Dining bar   \n",
       "4  air_ba937bf13d40fb24 2016-01-18         6     Dining bar   \n",
       "\n",
       "                  air_area_name   latitude   longitude     area1      area2  \\\n",
       "0  Tōkyō-to Minato-ku Shibakōen  35.658068  139.751599  Tōkyō-to  Minato-ku   \n",
       "1  Tōkyō-to Minato-ku Shibakōen  35.658068  139.751599  Tōkyō-to  Minato-ku   \n",
       "2  Tōkyō-to Minato-ku Shibakōen  35.658068  139.751599  Tōkyō-to  Minato-ku   \n",
       "3  Tōkyō-to Minato-ku Shibakōen  35.658068  139.751599  Tōkyō-to  Minato-ku   \n",
       "4  Tōkyō-to Minato-ku Shibakōen  35.658068  139.751599  Tōkyō-to  Minato-ku   \n",
       "\n",
       "       area3  \n",
       "0  Shibakōen  \n",
       "1  Shibakōen  \n",
       "2  Shibakōen  \n",
       "3  Shibakōen  \n",
       "4  Shibakōen  "
      ]
     },
     "execution_count": 18,
     "metadata": {},
     "output_type": "execute_result"
    }
   ],
   "source": [
    "store_info[\"area1\"],store_info[\"area2\"],store_info[\"area3\"] = store_info[\"air_area_name\"].str.split(' ', 2).str\n",
    "store_info.head()"
   ]
  },
  {
   "cell_type": "markdown",
   "metadata": {},
   "source": [
    "#### FIGURE 8: Average Number of Visitors by Area\n",
    "\n",
    "__Observations: __\n",
    "- Shizuoka-ken has the highest average number of visitors while Fukuoka-ken has the lowest."
   ]
  },
  {
   "cell_type": "code",
   "execution_count": 19,
   "metadata": {
    "scrolled": false
   },
   "outputs": [
    {
     "data": {
      "text/plain": [
       "<matplotlib.axes._subplots.AxesSubplot at 0x1a003f37240>"
      ]
     },
     "execution_count": 19,
     "metadata": {},
     "output_type": "execute_result"
    },
    {
     "data": {
      "image/png": "[encoded data removed]",
      "text/plain": [
       "<matplotlib.figure.Figure at 0x1a067279b70>"
      ]
     },
     "metadata": {},
     "output_type": "display_data"
    }
   ],
   "source": [
    "#area1 = store_info.groupby(\"area1\")[\"visitors\"].mean().reset_index()\n",
    "#area1.head(3)\n",
    "sns.barplot(x = store_info[\"area1\"], y=store_info[\"visitors\"])"
   ]
  },
  {
   "cell_type": "markdown",
   "metadata": {},
   "source": [
    "<a id = '2.5'></a>\n",
    "### 2.5 Genre"
   ]
  },
  {
   "cell_type": "markdown",
   "metadata": {},
   "source": [
    "#### FIGURE 9: Average Number of Visitors by Genre\n",
    "\n",
    "__Observations:__\n",
    "- Asian Restaurants are the most popular.\n",
    "- Bar/Cocktail is the least popular."
   ]
  },
  {
   "cell_type": "code",
   "execution_count": 20,
   "metadata": {},
   "outputs": [
    {
     "data": {
      "text/plain": [
       "<matplotlib.axes._subplots.AxesSubplot at 0x1a05fe895f8>"
      ]
     },
     "execution_count": 20,
     "metadata": {},
     "output_type": "execute_result"
    },
    {
     "data": {
      "image/png": "[encoded data removed]",
      "text/plain": [
       "<matplotlib.figure.Figure at 0x1a064671908>"
      ]
     },
     "metadata": {},
     "output_type": "display_data"
    }
   ],
   "source": [
    "sns.barplot(x = store_info[\"air_genre_name\"], y=store_info[\"visitors\"])"
   ]
  },
  {
   "cell_type": "code",
   "execution_count": 21,
   "metadata": {},
   "outputs": [
    {
     "data": {
      "text/html": [
       "<div>\n",
       "<style scoped>\n",
       "    .dataframe tbody tr th:only-of-type {\n",
       "        vertical-align: middle;\n",
       "    }\n",
       "\n",
       "    .dataframe tbody tr th {\n",
       "        vertical-align: top;\n",
       "    }\n",
       "\n",
       "    .dataframe thead th {\n",
       "        text-align: right;\n",
       "    }\n",
       "</style>\n",
       "<table border=\"1\" class=\"dataframe\">\n",
       "  <thead>\n",
       "    <tr style=\"text-align: right;\">\n",
       "      <th></th>\n",
       "      <th>area1</th>\n",
       "      <th>air_genre_name</th>\n",
       "      <th>area1_genre_max</th>\n",
       "      <th>area1_genre_median</th>\n",
       "      <th>area1_genre_mean</th>\n",
       "    </tr>\n",
       "  </thead>\n",
       "  <tbody>\n",
       "    <tr>\n",
       "      <th>0</th>\n",
       "      <td>Fukuoka-ken</td>\n",
       "      <td>Bar/Cocktail</td>\n",
       "      <td>118</td>\n",
       "      <td>9.0</td>\n",
       "      <td>12.001578</td>\n",
       "    </tr>\n",
       "    <tr>\n",
       "      <th>1</th>\n",
       "      <td>Fukuoka-ken</td>\n",
       "      <td>Cafe/Sweets</td>\n",
       "      <td>627</td>\n",
       "      <td>16.0</td>\n",
       "      <td>21.050838</td>\n",
       "    </tr>\n",
       "    <tr>\n",
       "      <th>2</th>\n",
       "      <td>Fukuoka-ken</td>\n",
       "      <td>Creative cuisine</td>\n",
       "      <td>88</td>\n",
       "      <td>16.0</td>\n",
       "      <td>20.742284</td>\n",
       "    </tr>\n",
       "  </tbody>\n",
       "</table>\n",
       "</div>"
      ],
      "text/plain": [
       "         area1    air_genre_name  area1_genre_max  area1_genre_median  \\\n",
       "0  Fukuoka-ken      Bar/Cocktail              118                 9.0   \n",
       "1  Fukuoka-ken       Cafe/Sweets              627                16.0   \n",
       "2  Fukuoka-ken  Creative cuisine               88                16.0   \n",
       "\n",
       "   area1_genre_mean  \n",
       "0         12.001578  \n",
       "1         21.050838  \n",
       "2         20.742284  "
      ]
     },
     "execution_count": 21,
     "metadata": {},
     "output_type": "execute_result"
    }
   ],
   "source": [
    "genre_area = store_info.groupby([\"area1\",\"air_genre_name\"])[\"visitors\"].aggregate([max,np.median,np.mean]).reset_index()\n",
    "genre_area.rename(columns={'max': 'area1_genre_max', 'median': 'area1_genre_median','mean': 'area1_genre_mean'},inplace=True)\n",
    "genre_area.head(3)"
   ]
  },
  {
   "cell_type": "markdown",
   "metadata": {
    "collapsed": true
   },
   "source": [
    "<a id = '3'></a>\n",
    "## Step 3: Data Preparation for Modeling"
   ]
  },
  {
   "cell_type": "markdown",
   "metadata": {},
   "source": [
    "### 3.1 Initialize train and text, merge with visit date (weekday and holiday)"
   ]
  },
  {
   "cell_type": "code",
   "execution_count": 22,
   "metadata": {
    "scrolled": false
   },
   "outputs": [
    {
     "data": {
      "text/html": [
       "<div>\n",
       "<style scoped>\n",
       "    .dataframe tbody tr th:only-of-type {\n",
       "        vertical-align: middle;\n",
       "    }\n",
       "\n",
       "    .dataframe tbody tr th {\n",
       "        vertical-align: top;\n",
       "    }\n",
       "\n",
       "    .dataframe thead th {\n",
       "        text-align: right;\n",
       "    }\n",
       "</style>\n",
       "<table border=\"1\" class=\"dataframe\">\n",
       "  <thead>\n",
       "    <tr style=\"text-align: right;\">\n",
       "      <th></th>\n",
       "      <th>air_store_id</th>\n",
       "      <th>visit_date</th>\n",
       "      <th>visitors</th>\n",
       "      <th>day_of_week</th>\n",
       "      <th>holiday_flg</th>\n",
       "      <th>fri_or_sat</th>\n",
       "      <th>month</th>\n",
       "    </tr>\n",
       "  </thead>\n",
       "  <tbody>\n",
       "    <tr>\n",
       "      <th>0</th>\n",
       "      <td>air_ba937bf13d40fb24</td>\n",
       "      <td>2016-01-13</td>\n",
       "      <td>25</td>\n",
       "      <td>2</td>\n",
       "      <td>0</td>\n",
       "      <td>0</td>\n",
       "      <td>1</td>\n",
       "    </tr>\n",
       "    <tr>\n",
       "      <th>1</th>\n",
       "      <td>air_ba937bf13d40fb24</td>\n",
       "      <td>2016-01-14</td>\n",
       "      <td>32</td>\n",
       "      <td>3</td>\n",
       "      <td>0</td>\n",
       "      <td>0</td>\n",
       "      <td>1</td>\n",
       "    </tr>\n",
       "    <tr>\n",
       "      <th>2</th>\n",
       "      <td>air_ba937bf13d40fb24</td>\n",
       "      <td>2016-01-15</td>\n",
       "      <td>29</td>\n",
       "      <td>4</td>\n",
       "      <td>0</td>\n",
       "      <td>1</td>\n",
       "      <td>1</td>\n",
       "    </tr>\n",
       "    <tr>\n",
       "      <th>3</th>\n",
       "      <td>air_ba937bf13d40fb24</td>\n",
       "      <td>2016-01-16</td>\n",
       "      <td>22</td>\n",
       "      <td>5</td>\n",
       "      <td>0</td>\n",
       "      <td>1</td>\n",
       "      <td>1</td>\n",
       "    </tr>\n",
       "    <tr>\n",
       "      <th>4</th>\n",
       "      <td>air_ba937bf13d40fb24</td>\n",
       "      <td>2016-01-18</td>\n",
       "      <td>6</td>\n",
       "      <td>0</td>\n",
       "      <td>0</td>\n",
       "      <td>0</td>\n",
       "      <td>1</td>\n",
       "    </tr>\n",
       "  </tbody>\n",
       "</table>\n",
       "</div>"
      ],
      "text/plain": [
       "           air_store_id visit_date  visitors  day_of_week  holiday_flg  \\\n",
       "0  air_ba937bf13d40fb24 2016-01-13        25            2            0   \n",
       "1  air_ba937bf13d40fb24 2016-01-14        32            3            0   \n",
       "2  air_ba937bf13d40fb24 2016-01-15        29            4            0   \n",
       "3  air_ba937bf13d40fb24 2016-01-16        22            5            0   \n",
       "4  air_ba937bf13d40fb24 2016-01-18         6            0            0   \n",
       "\n",
       "   fri_or_sat  month  \n",
       "0           0      1  \n",
       "1           0      1  \n",
       "2           1      1  \n",
       "3           1      1  \n",
       "4           0      1  "
      ]
     },
     "execution_count": 22,
     "metadata": {},
     "output_type": "execute_result"
    },
    {
     "data": {
      "text/html": [
       "<div>\n",
       "<style scoped>\n",
       "    .dataframe tbody tr th:only-of-type {\n",
       "        vertical-align: middle;\n",
       "    }\n",
       "\n",
       "    .dataframe tbody tr th {\n",
       "        vertical-align: top;\n",
       "    }\n",
       "\n",
       "    .dataframe thead th {\n",
       "        text-align: right;\n",
       "    }\n",
       "</style>\n",
       "<table border=\"1\" class=\"dataframe\">\n",
       "  <thead>\n",
       "    <tr style=\"text-align: right;\">\n",
       "      <th></th>\n",
       "      <th>id</th>\n",
       "      <th>visitors</th>\n",
       "      <th>air_store_id</th>\n",
       "      <th>visit_date</th>\n",
       "      <th>day_of_week</th>\n",
       "      <th>holiday_flg</th>\n",
       "      <th>fri_or_sat</th>\n",
       "      <th>month</th>\n",
       "    </tr>\n",
       "  </thead>\n",
       "  <tbody>\n",
       "    <tr>\n",
       "      <th>0</th>\n",
       "      <td>air_00a91d42b08b08d9_2017-04-23</td>\n",
       "      <td>0</td>\n",
       "      <td>air_00a91d42b08b08d9</td>\n",
       "      <td>2017-04-23</td>\n",
       "      <td>6</td>\n",
       "      <td>0</td>\n",
       "      <td>0</td>\n",
       "      <td>4</td>\n",
       "    </tr>\n",
       "    <tr>\n",
       "      <th>1</th>\n",
       "      <td>air_00a91d42b08b08d9_2017-04-24</td>\n",
       "      <td>0</td>\n",
       "      <td>air_00a91d42b08b08d9</td>\n",
       "      <td>2017-04-24</td>\n",
       "      <td>0</td>\n",
       "      <td>0</td>\n",
       "      <td>0</td>\n",
       "      <td>4</td>\n",
       "    </tr>\n",
       "    <tr>\n",
       "      <th>2</th>\n",
       "      <td>air_00a91d42b08b08d9_2017-04-25</td>\n",
       "      <td>0</td>\n",
       "      <td>air_00a91d42b08b08d9</td>\n",
       "      <td>2017-04-25</td>\n",
       "      <td>1</td>\n",
       "      <td>0</td>\n",
       "      <td>0</td>\n",
       "      <td>4</td>\n",
       "    </tr>\n",
       "    <tr>\n",
       "      <th>3</th>\n",
       "      <td>air_00a91d42b08b08d9_2017-04-26</td>\n",
       "      <td>0</td>\n",
       "      <td>air_00a91d42b08b08d9</td>\n",
       "      <td>2017-04-26</td>\n",
       "      <td>2</td>\n",
       "      <td>0</td>\n",
       "      <td>0</td>\n",
       "      <td>4</td>\n",
       "    </tr>\n",
       "    <tr>\n",
       "      <th>4</th>\n",
       "      <td>air_00a91d42b08b08d9_2017-04-27</td>\n",
       "      <td>0</td>\n",
       "      <td>air_00a91d42b08b08d9</td>\n",
       "      <td>2017-04-27</td>\n",
       "      <td>3</td>\n",
       "      <td>0</td>\n",
       "      <td>0</td>\n",
       "      <td>4</td>\n",
       "    </tr>\n",
       "  </tbody>\n",
       "</table>\n",
       "</div>"
      ],
      "text/plain": [
       "                                id  visitors          air_store_id visit_date  \\\n",
       "0  air_00a91d42b08b08d9_2017-04-23         0  air_00a91d42b08b08d9 2017-04-23   \n",
       "1  air_00a91d42b08b08d9_2017-04-24         0  air_00a91d42b08b08d9 2017-04-24   \n",
       "2  air_00a91d42b08b08d9_2017-04-25         0  air_00a91d42b08b08d9 2017-04-25   \n",
       "3  air_00a91d42b08b08d9_2017-04-26         0  air_00a91d42b08b08d9 2017-04-26   \n",
       "4  air_00a91d42b08b08d9_2017-04-27         0  air_00a91d42b08b08d9 2017-04-27   \n",
       "\n",
       "   day_of_week  holiday_flg  fri_or_sat  month  \n",
       "0            6            0           0      4  \n",
       "1            0            0           0      4  \n",
       "2            1            0           0      4  \n",
       "3            2            0           0      4  \n",
       "4            3            0           0      4  "
      ]
     },
     "execution_count": 22,
     "metadata": {},
     "output_type": "execute_result"
    }
   ],
   "source": [
    "train = air_visit_data.copy()\n",
    "date_info = date_info.rename(columns = {'calendar_date':'visit_date'})\n",
    "train = train.merge(date_info, how = 'left', on = 'visit_date')\n",
    "#train = train.join(pd.get_dummies(train[\"day_of_week\"],drop_first=True))\n",
    "train[\"day_of_week\"] = train[\"visit_date\"].dt.weekday  #0 is monday, 6 is Sunday\n",
    "train[\"fri_or_sat\"] = train[\"day_of_week\"].apply(lambda x: 1 if (x == 4 or x ==5) else 0)\n",
    "train[\"month\"] = train[\"visit_date\"].dt.month\n",
    "train.head()\n",
    "\n",
    "test = sample_submission.copy()\n",
    "test[\"air_store_id\"] = test[\"id\"].apply(lambda x: x[0:20])\n",
    "test[\"visit_date\"] = test[\"id\"].apply(lambda x: x[21:])\n",
    "test[\"visit_date\"] = pd.to_datetime(test[\"visit_date\"]) \n",
    "test = test.merge(date_info, how = 'left', on = 'visit_date')\n",
    "#test = test.join(pd.get_dummies(train[\"day_of_week\"],drop_first=True))\n",
    "test[\"day_of_week\"] = test[\"visit_date\"].dt.weekday  #0 is monday, 6 is Sunday\n",
    "test[\"fri_or_sat\"] = test[\"day_of_week\"].apply(lambda x: 1 if (x == 4 or x ==5) else 0)\n",
    "test[\"month\"] = test[\"visit_date\"].dt.month\n",
    "test.head()"
   ]
  },
  {
   "cell_type": "markdown",
   "metadata": {},
   "source": [
    "### 3.2 Merge with store information (gerne and area)"
   ]
  },
  {
   "cell_type": "code",
   "execution_count": 23,
   "metadata": {
    "scrolled": true
   },
   "outputs": [
    {
     "data": {
      "text/html": [
       "<div>\n",
       "<style scoped>\n",
       "    .dataframe tbody tr th:only-of-type {\n",
       "        vertical-align: middle;\n",
       "    }\n",
       "\n",
       "    .dataframe tbody tr th {\n",
       "        vertical-align: top;\n",
       "    }\n",
       "\n",
       "    .dataframe thead th {\n",
       "        text-align: right;\n",
       "    }\n",
       "</style>\n",
       "<table border=\"1\" class=\"dataframe\">\n",
       "  <thead>\n",
       "    <tr style=\"text-align: right;\">\n",
       "      <th></th>\n",
       "      <th>air_store_id</th>\n",
       "      <th>visit_date</th>\n",
       "      <th>visitors</th>\n",
       "      <th>day_of_week</th>\n",
       "      <th>holiday_flg</th>\n",
       "      <th>fri_or_sat</th>\n",
       "      <th>month</th>\n",
       "      <th>air_genre_name</th>\n",
       "      <th>air_area_name</th>\n",
       "      <th>latitude</th>\n",
       "      <th>longitude</th>\n",
       "      <th>area1</th>\n",
       "      <th>area2</th>\n",
       "      <th>area3</th>\n",
       "      <th>area1_genre_max</th>\n",
       "      <th>area1_genre_median</th>\n",
       "      <th>area1_genre_mean</th>\n",
       "    </tr>\n",
       "  </thead>\n",
       "  <tbody>\n",
       "    <tr>\n",
       "      <th>0</th>\n",
       "      <td>air_ba937bf13d40fb24</td>\n",
       "      <td>2016-01-13</td>\n",
       "      <td>25</td>\n",
       "      <td>2</td>\n",
       "      <td>0</td>\n",
       "      <td>0</td>\n",
       "      <td>1</td>\n",
       "      <td>Dining bar</td>\n",
       "      <td>Tōkyō-to Minato-ku Shibakōen</td>\n",
       "      <td>35.658068</td>\n",
       "      <td>139.751599</td>\n",
       "      <td>Tōkyō-to</td>\n",
       "      <td>Minato-ku</td>\n",
       "      <td>Shibakōen</td>\n",
       "      <td>348</td>\n",
       "      <td>14.0</td>\n",
       "      <td>17.928582</td>\n",
       "    </tr>\n",
       "    <tr>\n",
       "      <th>1</th>\n",
       "      <td>air_ba937bf13d40fb24</td>\n",
       "      <td>2016-01-14</td>\n",
       "      <td>32</td>\n",
       "      <td>3</td>\n",
       "      <td>0</td>\n",
       "      <td>0</td>\n",
       "      <td>1</td>\n",
       "      <td>Dining bar</td>\n",
       "      <td>Tōkyō-to Minato-ku Shibakōen</td>\n",
       "      <td>35.658068</td>\n",
       "      <td>139.751599</td>\n",
       "      <td>Tōkyō-to</td>\n",
       "      <td>Minato-ku</td>\n",
       "      <td>Shibakōen</td>\n",
       "      <td>348</td>\n",
       "      <td>14.0</td>\n",
       "      <td>17.928582</td>\n",
       "    </tr>\n",
       "    <tr>\n",
       "      <th>2</th>\n",
       "      <td>air_ba937bf13d40fb24</td>\n",
       "      <td>2016-01-15</td>\n",
       "      <td>29</td>\n",
       "      <td>4</td>\n",
       "      <td>0</td>\n",
       "      <td>1</td>\n",
       "      <td>1</td>\n",
       "      <td>Dining bar</td>\n",
       "      <td>Tōkyō-to Minato-ku Shibakōen</td>\n",
       "      <td>35.658068</td>\n",
       "      <td>139.751599</td>\n",
       "      <td>Tōkyō-to</td>\n",
       "      <td>Minato-ku</td>\n",
       "      <td>Shibakōen</td>\n",
       "      <td>348</td>\n",
       "      <td>14.0</td>\n",
       "      <td>17.928582</td>\n",
       "    </tr>\n",
       "  </tbody>\n",
       "</table>\n",
       "</div>"
      ],
      "text/plain": [
       "           air_store_id visit_date  visitors  day_of_week  holiday_flg  \\\n",
       "0  air_ba937bf13d40fb24 2016-01-13        25            2            0   \n",
       "1  air_ba937bf13d40fb24 2016-01-14        32            3            0   \n",
       "2  air_ba937bf13d40fb24 2016-01-15        29            4            0   \n",
       "\n",
       "   fri_or_sat  month air_genre_name                 air_area_name   latitude  \\\n",
       "0           0      1     Dining bar  Tōkyō-to Minato-ku Shibakōen  35.658068   \n",
       "1           0      1     Dining bar  Tōkyō-to Minato-ku Shibakōen  35.658068   \n",
       "2           1      1     Dining bar  Tōkyō-to Minato-ku Shibakōen  35.658068   \n",
       "\n",
       "    longitude     area1      area2      area3  area1_genre_max  \\\n",
       "0  139.751599  Tōkyō-to  Minato-ku  Shibakōen              348   \n",
       "1  139.751599  Tōkyō-to  Minato-ku  Shibakōen              348   \n",
       "2  139.751599  Tōkyō-to  Minato-ku  Shibakōen              348   \n",
       "\n",
       "   area1_genre_median  area1_genre_mean  \n",
       "0                14.0         17.928582  \n",
       "1                14.0         17.928582  \n",
       "2                14.0         17.928582  "
      ]
     },
     "execution_count": 23,
     "metadata": {},
     "output_type": "execute_result"
    }
   ],
   "source": [
    "train = train.merge(air_store_info,on = \"air_store_id\", how = 'inner')\n",
    "train[\"area1\"],train[\"area2\"],train[\"area3\"] = train[\"air_area_name\"].str.split(' ', 2).str\n",
    "train = train.merge(genre_area,on = [\"air_genre_name\",\"area1\"],how = \"left\")\n",
    "#train = train.join(pd.get_dummies(train[\"air_genre_name\"],drop_first=True))\n",
    "#train = train.join(pd.get_dummies(train[\"area2\"],drop_first=True))\n",
    "#train = train.drop(['air_genre_name','air_area_name','area2','latitude','longitude'], axis = 1)\n",
    "train.head(3)\n",
    "\n",
    "test = test.merge(air_store_info,on = \"air_store_id\", how = 'inner')\n",
    "test[\"area1\"],test[\"area2\"],test[\"area3\"] = test[\"air_area_name\"].str.split(' ', 2).str\n",
    "test = test.merge(genre_area,on = [\"air_genre_name\",\"area1\"],how = \"left\")\n",
    "#test = test.join(pd.get_dummies(test[\"air_genre_name\"],drop_first=True))\n",
    "#test = test.join(pd.get_dummies(test[\"area2\"],drop_first=True))\n",
    "#test = test.drop(['air_genre_name','air_area_name','latitude','longitude'], axis = 1)"
   ]
  },
  {
   "cell_type": "code",
   "execution_count": 24,
   "metadata": {},
   "outputs": [
    {
     "name": "stdout",
     "output_type": "stream",
     "text": [
      "air_genre_name\n"
     ]
    },
    {
     "data": {
      "text/plain": [
       "LabelEncoder()"
      ]
     },
     "execution_count": 24,
     "metadata": {},
     "output_type": "execute_result"
    },
    {
     "name": "stdout",
     "output_type": "stream",
     "text": [
      "air_area_name\n"
     ]
    },
    {
     "data": {
      "text/plain": [
       "LabelEncoder()"
      ]
     },
     "execution_count": 24,
     "metadata": {},
     "output_type": "execute_result"
    },
    {
     "name": "stdout",
     "output_type": "stream",
     "text": [
      "area1\n"
     ]
    },
    {
     "data": {
      "text/plain": [
       "LabelEncoder()"
      ]
     },
     "execution_count": 24,
     "metadata": {},
     "output_type": "execute_result"
    },
    {
     "name": "stdout",
     "output_type": "stream",
     "text": [
      "area2\n"
     ]
    },
    {
     "data": {
      "text/plain": [
       "LabelEncoder()"
      ]
     },
     "execution_count": 24,
     "metadata": {},
     "output_type": "execute_result"
    },
    {
     "name": "stdout",
     "output_type": "stream",
     "text": [
      "area3\n"
     ]
    },
    {
     "data": {
      "text/plain": [
       "LabelEncoder()"
      ]
     },
     "execution_count": 24,
     "metadata": {},
     "output_type": "execute_result"
    }
   ],
   "source": [
    "for f in train.iloc[:,1:].columns: \n",
    "    if train[f].dtype=='object':\n",
    "        print(f)\n",
    "        lbl = LabelEncoder()\n",
    "        lbl.fit(list(train[f].values.astype('str')) + list(test[f].values.astype('str')))\n",
    "        train[f] = lbl.transform(list(train[f].values.astype('str')))\n",
    "        test[f] = lbl.transform(list(test[f].values.astype('str')))"
   ]
  },
  {
   "cell_type": "markdown",
   "metadata": {},
   "source": [
    "### 3.3 Merge with min/max/mean/median visit by store"
   ]
  },
  {
   "cell_type": "code",
   "execution_count": 25,
   "metadata": {
    "scrolled": true
   },
   "outputs": [
    {
     "data": {
      "text/html": [
       "<div>\n",
       "<style scoped>\n",
       "    .dataframe tbody tr th:only-of-type {\n",
       "        vertical-align: middle;\n",
       "    }\n",
       "\n",
       "    .dataframe tbody tr th {\n",
       "        vertical-align: top;\n",
       "    }\n",
       "\n",
       "    .dataframe thead th {\n",
       "        text-align: right;\n",
       "    }\n",
       "</style>\n",
       "<table border=\"1\" class=\"dataframe\">\n",
       "  <thead>\n",
       "    <tr style=\"text-align: right;\">\n",
       "      <th></th>\n",
       "      <th>air_store_id</th>\n",
       "      <th>visit_date</th>\n",
       "      <th>visitors</th>\n",
       "      <th>day_of_week</th>\n",
       "      <th>holiday_flg</th>\n",
       "      <th>fri_or_sat</th>\n",
       "      <th>month</th>\n",
       "      <th>air_genre_name</th>\n",
       "      <th>air_area_name</th>\n",
       "      <th>latitude</th>\n",
       "      <th>...</th>\n",
       "      <th>area1</th>\n",
       "      <th>area2</th>\n",
       "      <th>area3</th>\n",
       "      <th>area1_genre_max</th>\n",
       "      <th>area1_genre_median</th>\n",
       "      <th>area1_genre_mean</th>\n",
       "      <th>min</th>\n",
       "      <th>max</th>\n",
       "      <th>median</th>\n",
       "      <th>mean</th>\n",
       "    </tr>\n",
       "  </thead>\n",
       "  <tbody>\n",
       "    <tr>\n",
       "      <th>0</th>\n",
       "      <td>air_ba937bf13d40fb24</td>\n",
       "      <td>2016-01-13</td>\n",
       "      <td>25</td>\n",
       "      <td>2</td>\n",
       "      <td>0</td>\n",
       "      <td>0</td>\n",
       "      <td>1</td>\n",
       "      <td>4</td>\n",
       "      <td>62</td>\n",
       "      <td>35.658068</td>\n",
       "      <td>...</td>\n",
       "      <td>7</td>\n",
       "      <td>29</td>\n",
       "      <td>77</td>\n",
       "      <td>348</td>\n",
       "      <td>14.0</td>\n",
       "      <td>17.928582</td>\n",
       "      <td>1</td>\n",
       "      <td>61</td>\n",
       "      <td>22.0</td>\n",
       "      <td>22.782609</td>\n",
       "    </tr>\n",
       "    <tr>\n",
       "      <th>1</th>\n",
       "      <td>air_ba937bf13d40fb24</td>\n",
       "      <td>2016-01-14</td>\n",
       "      <td>32</td>\n",
       "      <td>3</td>\n",
       "      <td>0</td>\n",
       "      <td>0</td>\n",
       "      <td>1</td>\n",
       "      <td>4</td>\n",
       "      <td>62</td>\n",
       "      <td>35.658068</td>\n",
       "      <td>...</td>\n",
       "      <td>7</td>\n",
       "      <td>29</td>\n",
       "      <td>77</td>\n",
       "      <td>348</td>\n",
       "      <td>14.0</td>\n",
       "      <td>17.928582</td>\n",
       "      <td>1</td>\n",
       "      <td>61</td>\n",
       "      <td>22.0</td>\n",
       "      <td>22.782609</td>\n",
       "    </tr>\n",
       "    <tr>\n",
       "      <th>2</th>\n",
       "      <td>air_ba937bf13d40fb24</td>\n",
       "      <td>2016-01-15</td>\n",
       "      <td>29</td>\n",
       "      <td>4</td>\n",
       "      <td>0</td>\n",
       "      <td>1</td>\n",
       "      <td>1</td>\n",
       "      <td>4</td>\n",
       "      <td>62</td>\n",
       "      <td>35.658068</td>\n",
       "      <td>...</td>\n",
       "      <td>7</td>\n",
       "      <td>29</td>\n",
       "      <td>77</td>\n",
       "      <td>348</td>\n",
       "      <td>14.0</td>\n",
       "      <td>17.928582</td>\n",
       "      <td>1</td>\n",
       "      <td>61</td>\n",
       "      <td>22.0</td>\n",
       "      <td>22.782609</td>\n",
       "    </tr>\n",
       "  </tbody>\n",
       "</table>\n",
       "<p>3 rows × 21 columns</p>\n",
       "</div>"
      ],
      "text/plain": [
       "           air_store_id visit_date  visitors  day_of_week  holiday_flg  \\\n",
       "0  air_ba937bf13d40fb24 2016-01-13        25            2            0   \n",
       "1  air_ba937bf13d40fb24 2016-01-14        32            3            0   \n",
       "2  air_ba937bf13d40fb24 2016-01-15        29            4            0   \n",
       "\n",
       "   fri_or_sat  month  air_genre_name  air_area_name   latitude    ...      \\\n",
       "0           0      1               4             62  35.658068    ...       \n",
       "1           0      1               4             62  35.658068    ...       \n",
       "2           1      1               4             62  35.658068    ...       \n",
       "\n",
       "   area1  area2  area3  area1_genre_max  area1_genre_median  area1_genre_mean  \\\n",
       "0      7     29     77              348                14.0         17.928582   \n",
       "1      7     29     77              348                14.0         17.928582   \n",
       "2      7     29     77              348                14.0         17.928582   \n",
       "\n",
       "   min  max  median       mean  \n",
       "0    1   61    22.0  22.782609  \n",
       "1    1   61    22.0  22.782609  \n",
       "2    1   61    22.0  22.782609  \n",
       "\n",
       "[3 rows x 21 columns]"
      ]
     },
     "execution_count": 25,
     "metadata": {},
     "output_type": "execute_result"
    }
   ],
   "source": [
    "visit_by_store = train.groupby([\"air_store_id\"])[\"visitors\"].aggregate([min,max,np.median,np.mean]).reset_index()\n",
    "train = train.merge(visit_by_store,how = \"left\", on = \"air_store_id\")\n",
    "test = test.merge(visit_by_store,how = \"left\", on = \"air_store_id\")\n",
    "train.head(3)"
   ]
  },
  {
   "cell_type": "markdown",
   "metadata": {},
   "source": [
    "### 3.4 Merge with min/max/mean/median visit by store on same weekday"
   ]
  },
  {
   "cell_type": "code",
   "execution_count": 26,
   "metadata": {
    "scrolled": true
   },
   "outputs": [
    {
     "data": {
      "text/html": [
       "<div>\n",
       "<style scoped>\n",
       "    .dataframe tbody tr th:only-of-type {\n",
       "        vertical-align: middle;\n",
       "    }\n",
       "\n",
       "    .dataframe tbody tr th {\n",
       "        vertical-align: top;\n",
       "    }\n",
       "\n",
       "    .dataframe thead th {\n",
       "        text-align: right;\n",
       "    }\n",
       "</style>\n",
       "<table border=\"1\" class=\"dataframe\">\n",
       "  <thead>\n",
       "    <tr style=\"text-align: right;\">\n",
       "      <th></th>\n",
       "      <th>air_store_id</th>\n",
       "      <th>visit_date</th>\n",
       "      <th>visitors</th>\n",
       "      <th>day_of_week</th>\n",
       "      <th>holiday_flg</th>\n",
       "      <th>fri_or_sat</th>\n",
       "      <th>month</th>\n",
       "      <th>air_genre_name</th>\n",
       "      <th>air_area_name</th>\n",
       "      <th>latitude</th>\n",
       "      <th>...</th>\n",
       "      <th>area1_genre_median</th>\n",
       "      <th>area1_genre_mean</th>\n",
       "      <th>min_all</th>\n",
       "      <th>max_all</th>\n",
       "      <th>median_all</th>\n",
       "      <th>mean_all</th>\n",
       "      <th>min_weekday</th>\n",
       "      <th>max_weekday</th>\n",
       "      <th>median_weekday</th>\n",
       "      <th>mean_weekday</th>\n",
       "    </tr>\n",
       "  </thead>\n",
       "  <tbody>\n",
       "    <tr>\n",
       "      <th>0</th>\n",
       "      <td>air_ba937bf13d40fb24</td>\n",
       "      <td>2016-01-13</td>\n",
       "      <td>25</td>\n",
       "      <td>2</td>\n",
       "      <td>0</td>\n",
       "      <td>0</td>\n",
       "      <td>1</td>\n",
       "      <td>4</td>\n",
       "      <td>62</td>\n",
       "      <td>35.658068</td>\n",
       "      <td>...</td>\n",
       "      <td>14.0</td>\n",
       "      <td>17.928582</td>\n",
       "      <td>1</td>\n",
       "      <td>61</td>\n",
       "      <td>22.0</td>\n",
       "      <td>22.782609</td>\n",
       "      <td>7</td>\n",
       "      <td>57</td>\n",
       "      <td>25.0</td>\n",
       "      <td>23.843750</td>\n",
       "    </tr>\n",
       "    <tr>\n",
       "      <th>1</th>\n",
       "      <td>air_ba937bf13d40fb24</td>\n",
       "      <td>2016-01-14</td>\n",
       "      <td>32</td>\n",
       "      <td>3</td>\n",
       "      <td>0</td>\n",
       "      <td>0</td>\n",
       "      <td>1</td>\n",
       "      <td>4</td>\n",
       "      <td>62</td>\n",
       "      <td>35.658068</td>\n",
       "      <td>...</td>\n",
       "      <td>14.0</td>\n",
       "      <td>17.928582</td>\n",
       "      <td>1</td>\n",
       "      <td>61</td>\n",
       "      <td>22.0</td>\n",
       "      <td>22.782609</td>\n",
       "      <td>2</td>\n",
       "      <td>54</td>\n",
       "      <td>21.0</td>\n",
       "      <td>20.292308</td>\n",
       "    </tr>\n",
       "    <tr>\n",
       "      <th>2</th>\n",
       "      <td>air_ba937bf13d40fb24</td>\n",
       "      <td>2016-01-15</td>\n",
       "      <td>29</td>\n",
       "      <td>4</td>\n",
       "      <td>0</td>\n",
       "      <td>1</td>\n",
       "      <td>1</td>\n",
       "      <td>4</td>\n",
       "      <td>62</td>\n",
       "      <td>35.658068</td>\n",
       "      <td>...</td>\n",
       "      <td>14.0</td>\n",
       "      <td>17.928582</td>\n",
       "      <td>1</td>\n",
       "      <td>61</td>\n",
       "      <td>22.0</td>\n",
       "      <td>22.782609</td>\n",
       "      <td>4</td>\n",
       "      <td>61</td>\n",
       "      <td>35.0</td>\n",
       "      <td>34.738462</td>\n",
       "    </tr>\n",
       "    <tr>\n",
       "      <th>3</th>\n",
       "      <td>air_ba937bf13d40fb24</td>\n",
       "      <td>2016-01-16</td>\n",
       "      <td>22</td>\n",
       "      <td>5</td>\n",
       "      <td>0</td>\n",
       "      <td>1</td>\n",
       "      <td>1</td>\n",
       "      <td>4</td>\n",
       "      <td>62</td>\n",
       "      <td>35.658068</td>\n",
       "      <td>...</td>\n",
       "      <td>14.0</td>\n",
       "      <td>17.928582</td>\n",
       "      <td>1</td>\n",
       "      <td>61</td>\n",
       "      <td>22.0</td>\n",
       "      <td>22.782609</td>\n",
       "      <td>6</td>\n",
       "      <td>53</td>\n",
       "      <td>27.0</td>\n",
       "      <td>27.651515</td>\n",
       "    </tr>\n",
       "    <tr>\n",
       "      <th>4</th>\n",
       "      <td>air_ba937bf13d40fb24</td>\n",
       "      <td>2016-01-18</td>\n",
       "      <td>6</td>\n",
       "      <td>0</td>\n",
       "      <td>0</td>\n",
       "      <td>0</td>\n",
       "      <td>1</td>\n",
       "      <td>4</td>\n",
       "      <td>62</td>\n",
       "      <td>35.658068</td>\n",
       "      <td>...</td>\n",
       "      <td>14.0</td>\n",
       "      <td>17.928582</td>\n",
       "      <td>1</td>\n",
       "      <td>61</td>\n",
       "      <td>22.0</td>\n",
       "      <td>22.782609</td>\n",
       "      <td>2</td>\n",
       "      <td>34</td>\n",
       "      <td>12.0</td>\n",
       "      <td>13.754386</td>\n",
       "    </tr>\n",
       "  </tbody>\n",
       "</table>\n",
       "<p>5 rows × 25 columns</p>\n",
       "</div>"
      ],
      "text/plain": [
       "           air_store_id visit_date  visitors  day_of_week  holiday_flg  \\\n",
       "0  air_ba937bf13d40fb24 2016-01-13        25            2            0   \n",
       "1  air_ba937bf13d40fb24 2016-01-14        32            3            0   \n",
       "2  air_ba937bf13d40fb24 2016-01-15        29            4            0   \n",
       "3  air_ba937bf13d40fb24 2016-01-16        22            5            0   \n",
       "4  air_ba937bf13d40fb24 2016-01-18         6            0            0   \n",
       "\n",
       "   fri_or_sat  month  air_genre_name  air_area_name   latitude      ...       \\\n",
       "0           0      1               4             62  35.658068      ...        \n",
       "1           0      1               4             62  35.658068      ...        \n",
       "2           1      1               4             62  35.658068      ...        \n",
       "3           1      1               4             62  35.658068      ...        \n",
       "4           0      1               4             62  35.658068      ...        \n",
       "\n",
       "   area1_genre_median  area1_genre_mean  min_all  max_all  median_all  \\\n",
       "0                14.0         17.928582        1       61        22.0   \n",
       "1                14.0         17.928582        1       61        22.0   \n",
       "2                14.0         17.928582        1       61        22.0   \n",
       "3                14.0         17.928582        1       61        22.0   \n",
       "4                14.0         17.928582        1       61        22.0   \n",
       "\n",
       "    mean_all  min_weekday  max_weekday  median_weekday  mean_weekday  \n",
       "0  22.782609            7           57            25.0     23.843750  \n",
       "1  22.782609            2           54            21.0     20.292308  \n",
       "2  22.782609            4           61            35.0     34.738462  \n",
       "3  22.782609            6           53            27.0     27.651515  \n",
       "4  22.782609            2           34            12.0     13.754386  \n",
       "\n",
       "[5 rows x 25 columns]"
      ]
     },
     "execution_count": 26,
     "metadata": {},
     "output_type": "execute_result"
    }
   ],
   "source": [
    "visit_by_store_weekly = train.groupby([\"air_store_id\",\"day_of_week\"])[\"visitors\"].aggregate([min,max,np.median,np.mean]).reset_index()\n",
    "train = train.merge(visit_by_store_weekly,how = \"left\", on = [\"air_store_id\",\"day_of_week\"], suffixes=[\"_all\", \"_weekday\"])\n",
    "test = test.merge(visit_by_store_weekly,how = \"left\", on = [\"air_store_id\",\"day_of_week\"], suffixes=[\"_all\", \"_weekday\"])\n",
    "train.head()"
   ]
  },
  {
   "cell_type": "markdown",
   "metadata": {},
   "source": [
    "### 3.5 Merge with reserve by date"
   ]
  },
  {
   "cell_type": "code",
   "execution_count": 27,
   "metadata": {
    "scrolled": true
   },
   "outputs": [
    {
     "data": {
      "text/html": [
       "<div>\n",
       "<style scoped>\n",
       "    .dataframe tbody tr th:only-of-type {\n",
       "        vertical-align: middle;\n",
       "    }\n",
       "\n",
       "    .dataframe tbody tr th {\n",
       "        vertical-align: top;\n",
       "    }\n",
       "\n",
       "    .dataframe thead th {\n",
       "        text-align: right;\n",
       "    }\n",
       "</style>\n",
       "<table border=\"1\" class=\"dataframe\">\n",
       "  <thead>\n",
       "    <tr style=\"text-align: right;\">\n",
       "      <th></th>\n",
       "      <th>air_store_id</th>\n",
       "      <th>visit_date</th>\n",
       "      <th>visitors</th>\n",
       "      <th>day_of_week</th>\n",
       "      <th>holiday_flg</th>\n",
       "      <th>fri_or_sat</th>\n",
       "      <th>month</th>\n",
       "      <th>air_genre_name</th>\n",
       "      <th>air_area_name</th>\n",
       "      <th>latitude</th>\n",
       "      <th>...</th>\n",
       "      <th>median_all</th>\n",
       "      <th>mean_all</th>\n",
       "      <th>min_weekday</th>\n",
       "      <th>max_weekday</th>\n",
       "      <th>median_weekday</th>\n",
       "      <th>mean_weekday</th>\n",
       "      <th>reserve_visitors</th>\n",
       "      <th>delta_2days</th>\n",
       "      <th>delta_7days</th>\n",
       "      <th>delta_long</th>\n",
       "    </tr>\n",
       "  </thead>\n",
       "  <tbody>\n",
       "    <tr>\n",
       "      <th>0</th>\n",
       "      <td>air_ba937bf13d40fb24</td>\n",
       "      <td>2016-01-13</td>\n",
       "      <td>25</td>\n",
       "      <td>2</td>\n",
       "      <td>0</td>\n",
       "      <td>0</td>\n",
       "      <td>1</td>\n",
       "      <td>4</td>\n",
       "      <td>62</td>\n",
       "      <td>35.658068</td>\n",
       "      <td>...</td>\n",
       "      <td>22.0</td>\n",
       "      <td>22.782609</td>\n",
       "      <td>7</td>\n",
       "      <td>57</td>\n",
       "      <td>25.0</td>\n",
       "      <td>23.843750</td>\n",
       "      <td>NaN</td>\n",
       "      <td>NaN</td>\n",
       "      <td>NaN</td>\n",
       "      <td>NaN</td>\n",
       "    </tr>\n",
       "    <tr>\n",
       "      <th>1</th>\n",
       "      <td>air_ba937bf13d40fb24</td>\n",
       "      <td>2016-01-14</td>\n",
       "      <td>32</td>\n",
       "      <td>3</td>\n",
       "      <td>0</td>\n",
       "      <td>0</td>\n",
       "      <td>1</td>\n",
       "      <td>4</td>\n",
       "      <td>62</td>\n",
       "      <td>35.658068</td>\n",
       "      <td>...</td>\n",
       "      <td>22.0</td>\n",
       "      <td>22.782609</td>\n",
       "      <td>2</td>\n",
       "      <td>54</td>\n",
       "      <td>21.0</td>\n",
       "      <td>20.292308</td>\n",
       "      <td>NaN</td>\n",
       "      <td>NaN</td>\n",
       "      <td>NaN</td>\n",
       "      <td>NaN</td>\n",
       "    </tr>\n",
       "    <tr>\n",
       "      <th>2</th>\n",
       "      <td>air_ba937bf13d40fb24</td>\n",
       "      <td>2016-01-15</td>\n",
       "      <td>29</td>\n",
       "      <td>4</td>\n",
       "      <td>0</td>\n",
       "      <td>1</td>\n",
       "      <td>1</td>\n",
       "      <td>4</td>\n",
       "      <td>62</td>\n",
       "      <td>35.658068</td>\n",
       "      <td>...</td>\n",
       "      <td>22.0</td>\n",
       "      <td>22.782609</td>\n",
       "      <td>4</td>\n",
       "      <td>61</td>\n",
       "      <td>35.0</td>\n",
       "      <td>34.738462</td>\n",
       "      <td>NaN</td>\n",
       "      <td>NaN</td>\n",
       "      <td>NaN</td>\n",
       "      <td>NaN</td>\n",
       "    </tr>\n",
       "    <tr>\n",
       "      <th>3</th>\n",
       "      <td>air_ba937bf13d40fb24</td>\n",
       "      <td>2016-01-16</td>\n",
       "      <td>22</td>\n",
       "      <td>5</td>\n",
       "      <td>0</td>\n",
       "      <td>1</td>\n",
       "      <td>1</td>\n",
       "      <td>4</td>\n",
       "      <td>62</td>\n",
       "      <td>35.658068</td>\n",
       "      <td>...</td>\n",
       "      <td>22.0</td>\n",
       "      <td>22.782609</td>\n",
       "      <td>6</td>\n",
       "      <td>53</td>\n",
       "      <td>27.0</td>\n",
       "      <td>27.651515</td>\n",
       "      <td>NaN</td>\n",
       "      <td>NaN</td>\n",
       "      <td>NaN</td>\n",
       "      <td>NaN</td>\n",
       "    </tr>\n",
       "    <tr>\n",
       "      <th>4</th>\n",
       "      <td>air_ba937bf13d40fb24</td>\n",
       "      <td>2016-01-18</td>\n",
       "      <td>6</td>\n",
       "      <td>0</td>\n",
       "      <td>0</td>\n",
       "      <td>0</td>\n",
       "      <td>1</td>\n",
       "      <td>4</td>\n",
       "      <td>62</td>\n",
       "      <td>35.658068</td>\n",
       "      <td>...</td>\n",
       "      <td>22.0</td>\n",
       "      <td>22.782609</td>\n",
       "      <td>2</td>\n",
       "      <td>34</td>\n",
       "      <td>12.0</td>\n",
       "      <td>13.754386</td>\n",
       "      <td>NaN</td>\n",
       "      <td>NaN</td>\n",
       "      <td>NaN</td>\n",
       "      <td>NaN</td>\n",
       "    </tr>\n",
       "  </tbody>\n",
       "</table>\n",
       "<p>5 rows × 29 columns</p>\n",
       "</div>"
      ],
      "text/plain": [
       "           air_store_id visit_date  visitors  day_of_week  holiday_flg  \\\n",
       "0  air_ba937bf13d40fb24 2016-01-13        25            2            0   \n",
       "1  air_ba937bf13d40fb24 2016-01-14        32            3            0   \n",
       "2  air_ba937bf13d40fb24 2016-01-15        29            4            0   \n",
       "3  air_ba937bf13d40fb24 2016-01-16        22            5            0   \n",
       "4  air_ba937bf13d40fb24 2016-01-18         6            0            0   \n",
       "\n",
       "   fri_or_sat  month  air_genre_name  air_area_name   latitude     ...      \\\n",
       "0           0      1               4             62  35.658068     ...       \n",
       "1           0      1               4             62  35.658068     ...       \n",
       "2           1      1               4             62  35.658068     ...       \n",
       "3           1      1               4             62  35.658068     ...       \n",
       "4           0      1               4             62  35.658068     ...       \n",
       "\n",
       "   median_all   mean_all  min_weekday  max_weekday  median_weekday  \\\n",
       "0        22.0  22.782609            7           57            25.0   \n",
       "1        22.0  22.782609            2           54            21.0   \n",
       "2        22.0  22.782609            4           61            35.0   \n",
       "3        22.0  22.782609            6           53            27.0   \n",
       "4        22.0  22.782609            2           34            12.0   \n",
       "\n",
       "   mean_weekday  reserve_visitors  delta_2days  delta_7days  delta_long  \n",
       "0     23.843750               NaN          NaN          NaN         NaN  \n",
       "1     20.292308               NaN          NaN          NaN         NaN  \n",
       "2     34.738462               NaN          NaN          NaN         NaN  \n",
       "3     27.651515               NaN          NaN          NaN         NaN  \n",
       "4     13.754386               NaN          NaN          NaN         NaN  \n",
       "\n",
       "[5 rows x 29 columns]"
      ]
     },
     "execution_count": 27,
     "metadata": {},
     "output_type": "execute_result"
    }
   ],
   "source": [
    "reserve_by_date = total_reserve.groupby([\"store_id\",\"date\"]).sum().reset_index()\n",
    "reserve_by_date = reserve_by_date.rename(columns = {'store_id':'air_store_id','date':'visit_date'})\n",
    "reserve_by_date[\"visit_date\"] = pd.to_datetime(reserve_by_date[\"visit_date\"])\n",
    "\n",
    "train = train.merge(reserve_by_date, how = \"left\", on=[\"air_store_id\",\"visit_date\"])\n",
    "test = test.merge(reserve_by_date, how = \"left\", on=[\"air_store_id\",\"visit_date\"])\n",
    "train.head()"
   ]
  },
  {
   "cell_type": "markdown",
   "metadata": {},
   "source": [
    "### 3.6 Final Touch"
   ]
  },
  {
   "cell_type": "code",
   "execution_count": 28,
   "metadata": {
    "scrolled": true
   },
   "outputs": [
    {
     "name": "stdout",
     "output_type": "stream",
     "text": [
      "There are 829 unique restaurants in train data set, while just 333 of them have reservation.\n"
     ]
    }
   ],
   "source": [
    "print(\"There are {} unique restaurants in train data set, while just {} of them have reservation.\".format(\n",
    "    train[\"air_store_id\"].nunique(),reserve_by_date[\"air_store_id\"].nunique()))"
   ]
  },
  {
   "cell_type": "markdown",
   "metadata": {},
   "source": [
    "__For restaurants that can have reservation, fill na with 0 (means, no reservation on that day)__"
   ]
  },
  {
   "cell_type": "code",
   "execution_count": 29,
   "metadata": {
    "collapsed": true,
    "scrolled": true
   },
   "outputs": [],
   "source": [
    "train.loc[train[\"air_store_id\"].isin(reserve_by_date[\"air_store_id\"].unique()),\"reserve_visitors\"] = \\\n",
    "train[train[\"air_store_id\"].isin(reserve_by_date[\"air_store_id\"].unique())][\"reserve_visitors\"].fillna(0)\n",
    "\n",
    "test.loc[test[\"air_store_id\"].isin(reserve_by_date[\"air_store_id\"].unique()),\"reserve_visitors\"] = \\\n",
    "test[test[\"air_store_id\"].isin(reserve_by_date[\"air_store_id\"].unique())][\"reserve_visitors\"].fillna(0)"
   ]
  },
  {
   "cell_type": "markdown",
   "metadata": {},
   "source": [
    "__For testaurants that never have reservation, fill na with -1__"
   ]
  },
  {
   "cell_type": "code",
   "execution_count": 30,
   "metadata": {
    "collapsed": true
   },
   "outputs": [],
   "source": [
    "train.loc[~train[\"air_store_id\"].isin(reserve_by_date[\"air_store_id\"].unique()),\"reserve_visitors\"] = \\\n",
    "train[~train[\"air_store_id\"].isin(reserve_by_date[\"air_store_id\"].unique())][\"reserve_visitors\"].fillna(-1)\n",
    "\n",
    "test.loc[~test[\"air_store_id\"].isin(reserve_by_date[\"air_store_id\"].unique()),\"reserve_visitors\"] = \\\n",
    "test[~test[\"air_store_id\"].isin(reserve_by_date[\"air_store_id\"].unique())][\"reserve_visitors\"].fillna(-1)"
   ]
  },
  {
   "cell_type": "markdown",
   "metadata": {},
   "source": [
    "<a id = '4'></a>\n",
    "## Step 4: Modeling"
   ]
  },
  {
   "cell_type": "markdown",
   "metadata": {},
   "source": [
    "<a id = '4.1'></a>\n",
    "### 4.1 Loading Package & Split Test & Train"
   ]
  },
  {
   "cell_type": "code",
   "execution_count": 31,
   "metadata": {
    "collapsed": true
   },
   "outputs": [],
   "source": [
    "from sklearn.model_selection import train_test_split\n",
    "from sklearn.metrics import make_scorer\n",
    "from sklearn.model_selection import GridSearchCV"
   ]
  },
  {
   "cell_type": "code",
   "execution_count": 32,
   "metadata": {
    "collapsed": true
   },
   "outputs": [],
   "source": [
    "Xtrain = train.drop([\"visitors\",\"air_store_id\",\"visit_date\",\"delta_7days\",\"day_of_week\",\"air_area_name\"],axis=1)\n",
    "Xtrain = Xtrain.fillna(-1)\n",
    "Ytrain = train[\"visitors\"]\n",
    "\n",
    "Xtest = test.drop([\"id\",\"visitors\",\"air_store_id\",\"visit_date\",\"delta_7days\",\"day_of_week\",\"air_area_name\"],axis=1)\n",
    "Xtest = Xtest.fillna(-1)"
   ]
  },
  {
   "cell_type": "code",
   "execution_count": 33,
   "metadata": {
    "collapsed": true
   },
   "outputs": [],
   "source": [
    "train_x, test_x, train_y, test_y = \\\n",
    "train_test_split(Xtrain, Ytrain, random_state=1026, test_size=0.2)"
   ]
  },
  {
   "cell_type": "markdown",
   "metadata": {},
   "source": [
    "#### Save text and train"
   ]
  },
  {
   "cell_type": "code",
   "execution_count": 81,
   "metadata": {
    "collapsed": true
   },
   "outputs": [],
   "source": [
    "test_x.to_csv(\"../input/test_x.csv\",index = False)\n",
    "test_y.to_csv(\"../input/test_y.csv\",index = False)\n",
    "Xtest_book = test.drop([\"visitors\",\"air_store_id\",\"visit_date\",\"delta_7days\",\"day_of_week\",\"air_area_name\"],axis=1)\n",
    "Xtest_book.to_csv(\"../input/Xtest_book.csv\",index = False)"
   ]
  },
  {
   "cell_type": "code",
   "execution_count": 35,
   "metadata": {
    "collapsed": true
   },
   "outputs": [],
   "source": [
    "from sklearn.datasets import dump_svmlight_file\n",
    "dump_svmlight_file(X = train_x, y = train_y, f=\"../input/train.libsvm\")\n",
    "dump_svmlight_file(X = test_x, y = test_y, f=\"../input/test.libsvm\")"
   ]
  },
  {
   "cell_type": "markdown",
   "metadata": {},
   "source": [
    "<a id = '4.2'></a>\n",
    "### 4.2 Define RMSLE"
   ]
  },
  {
   "cell_type": "code",
   "execution_count": 34,
   "metadata": {
    "collapsed": true
   },
   "outputs": [],
   "source": [
    "def rmsle(y, yp): \n",
    "    \"\"\"\n",
    "    Compute the Root Mean Squared Log Error for hypthesis yp and targets y\n",
    "    Args:\n",
    "        yp - numpy array containing predictions with shape (n_samples, n_targets)\n",
    "        y - numpy array containing targets with shape (n_samples, n_targets)\n",
    "    \"\"\"\n",
    "    return np.sqrt(np.square(np.log1p(yp) - np.log1p(y)).mean())\n",
    "\n",
    "acc_scorer = make_scorer(score_func = rmsle, greater_is_better = False)"
   ]
  },
  {
   "cell_type": "markdown",
   "metadata": {},
   "source": [
    "<a id = '4.3'></a>\n",
    "### 4.3 Set up Cross Validation"
   ]
  },
  {
   "cell_type": "code",
   "execution_count": 35,
   "metadata": {},
   "outputs": [
    {
     "name": "stderr",
     "output_type": "stream",
     "text": [
      "C:\\Users\\yiqin\\Anaconda3\\lib\\site-packages\\sklearn\\cross_validation.py:44: DeprecationWarning: This module was deprecated in version 0.18 in favor of the model_selection module into which all the refactored classes and functions are moved. Also note that the interface of the new CV iterators are different from that of this module. This module will be removed in 0.20.\n",
      "  \"This module will be removed in 0.20.\", DeprecationWarning)\n"
     ]
    }
   ],
   "source": [
    "from sklearn.cross_validation import KFold\n",
    "def cv_rmsle (k,model,Xtrain,Ytrain,**kwargs):\n",
    "    error = []\n",
    "    n = Xtrain.shape[0]\n",
    "    kf = KFold(n, n_folds = k, shuffle=True)\n",
    "    #loop through K fold\n",
    "    for i, (train_index, test_index) in enumerate(kf):#get the train and test index generated by Kfold\n",
    "        x_tr = Xtrain.iloc[train_index] #xtrain for a fold\n",
    "        y_tr = Ytrain.iloc[train_index] #ytrain for a fold\n",
    "        x_te = Xtrain.iloc[test_index]  #xtest for a fold\n",
    "        y_te = Ytrain.iloc[test_index]  #ytest for a fold\n",
    "        \n",
    "        #predict and calculate rmsle\n",
    "        __, pred_yte = globals()[model](x_tr,y_tr,x_te,**kwargs)\n",
    "        error.append(rmsle(y_te,pred_yte))\n",
    "        print(\"finish {} round of {}, rmlse = {}\".format(i,model,rmsle(y_te,pred_yte)))\n",
    "    return error"
   ]
  },
  {
   "cell_type": "markdown",
   "metadata": {},
   "source": [
    "<a id = '4.4'></a>\n",
    "### 4.4 Linear Rregression"
   ]
  },
  {
   "cell_type": "code",
   "execution_count": 68,
   "metadata": {
    "collapsed": true
   },
   "outputs": [],
   "source": [
    "import statsmodels.api as sm"
   ]
  },
  {
   "cell_type": "code",
   "execution_count": 66,
   "metadata": {
    "collapsed": true
   },
   "outputs": [],
   "source": [
    "def linear_reg(train_x,train_y,test_x): \n",
    "    x = sm.add_constant(train_x, has_constant='add')\n",
    "    est = sm.OLS(train_y, x)\n",
    "    est = est.fit()\n",
    "    lm_summary = est.summary()\n",
    "    pred_x = sm.add_constant(test_x, has_constant='add')\n",
    "    pred_y= est.predict(pred_x)\n",
    "    return (lm_summary,pred_y)"
   ]
  },
  {
   "cell_type": "code",
   "execution_count": 84,
   "metadata": {},
   "outputs": [
    {
     "data": {
      "text/plain": [
       "0.5333079898688802"
      ]
     },
     "execution_count": 84,
     "metadata": {},
     "output_type": "execute_result"
    }
   ],
   "source": [
    "lm_summary,pred_testy = linear_reg(train_x,train_y,test_x)\n",
    "rmsle(test_y,pred_testy)"
   ]
  },
  {
   "cell_type": "code",
   "execution_count": 85,
   "metadata": {},
   "outputs": [
    {
     "data": {
      "text/html": [
       "<table class=\"simpletable\">\n",
       "<caption>OLS Regression Results</caption>\n",
       "<tr>\n",
       "  <th>Dep. Variable:</th>        <td>visitors</td>     <th>  R-squared:         </th>  <td>   0.571</td>  \n",
       "</tr>\n",
       "<tr>\n",
       "  <th>Model:</th>                   <td>OLS</td>       <th>  Adj. R-squared:    </th>  <td>   0.571</td>  \n",
       "</tr>\n",
       "<tr>\n",
       "  <th>Method:</th>             <td>Least Squares</td>  <th>  F-statistic:       </th>  <td>1.168e+04</td> \n",
       "</tr>\n",
       "<tr>\n",
       "  <th>Date:</th>             <td>Mon, 05 Mar 2018</td> <th>  Prob (F-statistic):</th>   <td>  0.00</td>   \n",
       "</tr>\n",
       "<tr>\n",
       "  <th>Time:</th>                 <td>16:28:52</td>     <th>  Log-Likelihood:    </th> <td>-7.7015e+05</td>\n",
       "</tr>\n",
       "<tr>\n",
       "  <th>No. Observations:</th>      <td>201686</td>      <th>  AIC:               </th>  <td>1.540e+06</td> \n",
       "</tr>\n",
       "<tr>\n",
       "  <th>Df Residuals:</th>          <td>201662</td>      <th>  BIC:               </th>  <td>1.541e+06</td> \n",
       "</tr>\n",
       "<tr>\n",
       "  <th>Df Model:</th>              <td>    23</td>      <th>                     </th>      <td> </td>     \n",
       "</tr>\n",
       "<tr>\n",
       "  <th>Covariance Type:</th>      <td>nonrobust</td>    <th>                     </th>      <td> </td>     \n",
       "</tr>\n",
       "</table>\n",
       "<table class=\"simpletable\">\n",
       "<tr>\n",
       "           <td></td>             <th>coef</th>     <th>std err</th>      <th>t</th>      <th>P>|t|</th>  <th>[0.025</th>    <th>0.975]</th>  \n",
       "</tr>\n",
       "<tr>\n",
       "  <th>const</th>              <td>    0.2705</td> <td>    2.118</td> <td>    0.128</td> <td> 0.898</td> <td>   -3.881</td> <td>    4.422</td>\n",
       "</tr>\n",
       "<tr>\n",
       "  <th>holiday_flg</th>        <td>    3.4601</td> <td>    0.112</td> <td>   30.903</td> <td> 0.000</td> <td>    3.241</td> <td>    3.680</td>\n",
       "</tr>\n",
       "<tr>\n",
       "  <th>fri_or_sat</th>         <td>   -0.0864</td> <td>    0.058</td> <td>   -1.500</td> <td> 0.134</td> <td>   -0.199</td> <td>    0.027</td>\n",
       "</tr>\n",
       "<tr>\n",
       "  <th>month</th>              <td>    0.0320</td> <td>    0.007</td> <td>    4.782</td> <td> 0.000</td> <td>    0.019</td> <td>    0.045</td>\n",
       "</tr>\n",
       "<tr>\n",
       "  <th>air_genre_name</th>     <td>   -0.0501</td> <td>    0.009</td> <td>   -5.472</td> <td> 0.000</td> <td>   -0.068</td> <td>   -0.032</td>\n",
       "</tr>\n",
       "<tr>\n",
       "  <th>latitude</th>           <td>   -0.0638</td> <td>    0.028</td> <td>   -2.311</td> <td> 0.021</td> <td>   -0.118</td> <td>   -0.010</td>\n",
       "</tr>\n",
       "<tr>\n",
       "  <th>longitude</th>          <td>    0.0059</td> <td>    0.022</td> <td>    0.268</td> <td> 0.789</td> <td>   -0.037</td> <td>    0.049</td>\n",
       "</tr>\n",
       "<tr>\n",
       "  <th>area1</th>              <td>    0.0564</td> <td>    0.023</td> <td>    2.435</td> <td> 0.015</td> <td>    0.011</td> <td>    0.102</td>\n",
       "</tr>\n",
       "<tr>\n",
       "  <th>area2</th>              <td>    0.0005</td> <td>    0.002</td> <td>    0.254</td> <td> 0.800</td> <td>   -0.003</td> <td>    0.004</td>\n",
       "</tr>\n",
       "<tr>\n",
       "  <th>area3</th>              <td>   -0.0007</td> <td>    0.001</td> <td>   -0.763</td> <td> 0.445</td> <td>   -0.002</td> <td>    0.001</td>\n",
       "</tr>\n",
       "<tr>\n",
       "  <th>area1_genre_max</th>    <td>    0.0001</td> <td>    0.000</td> <td>    0.877</td> <td> 0.380</td> <td>   -0.000</td> <td>    0.000</td>\n",
       "</tr>\n",
       "<tr>\n",
       "  <th>area1_genre_median</th> <td>    0.0319</td> <td>    0.021</td> <td>    1.537</td> <td> 0.124</td> <td>   -0.009</td> <td>    0.073</td>\n",
       "</tr>\n",
       "<tr>\n",
       "  <th>area1_genre_mean</th>   <td>   -0.0466</td> <td>    0.021</td> <td>   -2.208</td> <td> 0.027</td> <td>   -0.088</td> <td>   -0.005</td>\n",
       "</tr>\n",
       "<tr>\n",
       "  <th>min_all</th>            <td>    0.0315</td> <td>    0.013</td> <td>    2.424</td> <td> 0.015</td> <td>    0.006</td> <td>    0.057</td>\n",
       "</tr>\n",
       "<tr>\n",
       "  <th>max_all</th>            <td>    0.0014</td> <td>    0.000</td> <td>    3.128</td> <td> 0.002</td> <td>    0.001</td> <td>    0.002</td>\n",
       "</tr>\n",
       "<tr>\n",
       "  <th>median_all</th>         <td>    0.0670</td> <td>    0.016</td> <td>    4.185</td> <td> 0.000</td> <td>    0.036</td> <td>    0.098</td>\n",
       "</tr>\n",
       "<tr>\n",
       "  <th>mean_all</th>           <td>   -0.0626</td> <td>    0.017</td> <td>   -3.697</td> <td> 0.000</td> <td>   -0.096</td> <td>   -0.029</td>\n",
       "</tr>\n",
       "<tr>\n",
       "  <th>min_weekday</th>        <td>    0.0167</td> <td>    0.007</td> <td>    2.519</td> <td> 0.012</td> <td>    0.004</td> <td>    0.030</td>\n",
       "</tr>\n",
       "<tr>\n",
       "  <th>max_weekday</th>        <td>    0.0041</td> <td>    0.001</td> <td>    3.770</td> <td> 0.000</td> <td>    0.002</td> <td>    0.006</td>\n",
       "</tr>\n",
       "<tr>\n",
       "  <th>median_weekday</th>     <td>   -0.0006</td> <td>    0.017</td> <td>   -0.035</td> <td> 0.972</td> <td>   -0.034</td> <td>    0.033</td>\n",
       "</tr>\n",
       "<tr>\n",
       "  <th>mean_weekday</th>       <td>    0.9591</td> <td>    0.019</td> <td>   49.551</td> <td> 0.000</td> <td>    0.921</td> <td>    0.997</td>\n",
       "</tr>\n",
       "<tr>\n",
       "  <th>reserve_visitors</th>   <td>    0.3785</td> <td>    0.006</td> <td>   61.453</td> <td> 0.000</td> <td>    0.366</td> <td>    0.391</td>\n",
       "</tr>\n",
       "<tr>\n",
       "  <th>delta_2days</th>        <td>   -0.1079</td> <td>    0.029</td> <td>   -3.680</td> <td> 0.000</td> <td>   -0.165</td> <td>   -0.050</td>\n",
       "</tr>\n",
       "<tr>\n",
       "  <th>delta_long</th>         <td>   -1.4450</td> <td>    0.040</td> <td>  -35.979</td> <td> 0.000</td> <td>   -1.524</td> <td>   -1.366</td>\n",
       "</tr>\n",
       "</table>\n",
       "<table class=\"simpletable\">\n",
       "<tr>\n",
       "  <th>Omnibus:</th>       <td>297802.405</td> <th>  Durbin-Watson:     </th>    <td>   1.997</td>   \n",
       "</tr>\n",
       "<tr>\n",
       "  <th>Prob(Omnibus):</th>   <td> 0.000</td>   <th>  Jarque-Bera (JB):  </th> <td>1444659160.250</td>\n",
       "</tr>\n",
       "<tr>\n",
       "  <th>Skew:</th>            <td> 8.078</td>   <th>  Prob(JB):          </th>    <td>    0.00</td>   \n",
       "</tr>\n",
       "<tr>\n",
       "  <th>Kurtosis:</th>        <td>417.305</td>  <th>  Cond. No.          </th>    <td>3.72e+04</td>   \n",
       "</tr>\n",
       "</table>"
      ],
      "text/plain": [
       "<class 'statsmodels.iolib.summary.Summary'>\n",
       "\"\"\"\n",
       "                            OLS Regression Results                            \n",
       "==============================================================================\n",
       "Dep. Variable:               visitors   R-squared:                       0.571\n",
       "Model:                            OLS   Adj. R-squared:                  0.571\n",
       "Method:                 Least Squares   F-statistic:                 1.168e+04\n",
       "Date:                Mon, 05 Mar 2018   Prob (F-statistic):               0.00\n",
       "Time:                        16:28:52   Log-Likelihood:            -7.7015e+05\n",
       "No. Observations:              201686   AIC:                         1.540e+06\n",
       "Df Residuals:                  201662   BIC:                         1.541e+06\n",
       "Df Model:                          23                                         \n",
       "Covariance Type:            nonrobust                                         \n",
       "======================================================================================\n",
       "                         coef    std err          t      P>|t|      [0.025      0.975]\n",
       "--------------------------------------------------------------------------------------\n",
       "const                  0.2705      2.118      0.128      0.898      -3.881       4.422\n",
       "holiday_flg            3.4601      0.112     30.903      0.000       3.241       3.680\n",
       "fri_or_sat            -0.0864      0.058     -1.500      0.134      -0.199       0.027\n",
       "month                  0.0320      0.007      4.782      0.000       0.019       0.045\n",
       "air_genre_name        -0.0501      0.009     -5.472      0.000      -0.068      -0.032\n",
       "latitude              -0.0638      0.028     -2.311      0.021      -0.118      -0.010\n",
       "longitude              0.0059      0.022      0.268      0.789      -0.037       0.049\n",
       "area1                  0.0564      0.023      2.435      0.015       0.011       0.102\n",
       "area2                  0.0005      0.002      0.254      0.800      -0.003       0.004\n",
       "area3                 -0.0007      0.001     -0.763      0.445      -0.002       0.001\n",
       "area1_genre_max        0.0001      0.000      0.877      0.380      -0.000       0.000\n",
       "area1_genre_median     0.0319      0.021      1.537      0.124      -0.009       0.073\n",
       "area1_genre_mean      -0.0466      0.021     -2.208      0.027      -0.088      -0.005\n",
       "min_all                0.0315      0.013      2.424      0.015       0.006       0.057\n",
       "max_all                0.0014      0.000      3.128      0.002       0.001       0.002\n",
       "median_all             0.0670      0.016      4.185      0.000       0.036       0.098\n",
       "mean_all              -0.0626      0.017     -3.697      0.000      -0.096      -0.029\n",
       "min_weekday            0.0167      0.007      2.519      0.012       0.004       0.030\n",
       "max_weekday            0.0041      0.001      3.770      0.000       0.002       0.006\n",
       "median_weekday        -0.0006      0.017     -0.035      0.972      -0.034       0.033\n",
       "mean_weekday           0.9591      0.019     49.551      0.000       0.921       0.997\n",
       "reserve_visitors       0.3785      0.006     61.453      0.000       0.366       0.391\n",
       "delta_2days           -0.1079      0.029     -3.680      0.000      -0.165      -0.050\n",
       "delta_long            -1.4450      0.040    -35.979      0.000      -1.524      -1.366\n",
       "==============================================================================\n",
       "Omnibus:                   297802.405   Durbin-Watson:                   1.997\n",
       "Prob(Omnibus):                  0.000   Jarque-Bera (JB):       1444659160.250\n",
       "Skew:                           8.078   Prob(JB):                         0.00\n",
       "Kurtosis:                     417.305   Cond. No.                     3.72e+04\n",
       "==============================================================================\n",
       "\n",
       "Warnings:\n",
       "[1] Standard Errors assume that the covariance matrix of the errors is correctly specified.\n",
       "[2] The condition number is large, 3.72e+04. This might indicate that there are\n",
       "strong multicollinearity or other numerical problems.\n",
       "\"\"\""
      ]
     },
     "execution_count": 85,
     "metadata": {},
     "output_type": "execute_result"
    }
   ],
   "source": [
    "lm_summary"
   ]
  },
  {
   "cell_type": "code",
   "execution_count": 69,
   "metadata": {},
   "outputs": [
    {
     "name": "stdout",
     "output_type": "stream",
     "text": [
      "finish 0 round of linear_reg, rmlse = 0.5337994459742469\n",
      "finish 1 round of linear_reg, rmlse = 0.5322499517236181\n",
      "finish 2 round of linear_reg, rmlse = 0.5314546875619566\n",
      "finish 3 round of linear_reg, rmlse = 0.5354579542122219\n",
      "finish 4 round of linear_reg, rmlse = 0.533287112191213\n"
     ]
    },
    {
     "data": {
      "text/plain": [
       "0.5332498303326514"
      ]
     },
     "execution_count": 69,
     "metadata": {},
     "output_type": "execute_result"
    }
   ],
   "source": [
    "k = 5\n",
    "model = \"linear_reg\"\n",
    "rmsle_ols = cv_rmsle(k, model, Xtrain,Ytrain)\n",
    "rmsle_ols = np.mean(rmsle_ols)\n",
    "rmsle_ols"
   ]
  },
  {
   "cell_type": "markdown",
   "metadata": {},
   "source": [
    "#### linear regression final result"
   ]
  },
  {
   "cell_type": "code",
   "execution_count": 54,
   "metadata": {},
   "outputs": [
    {
     "data": {
      "text/html": [
       "<div>\n",
       "<style scoped>\n",
       "    .dataframe tbody tr th:only-of-type {\n",
       "        vertical-align: middle;\n",
       "    }\n",
       "\n",
       "    .dataframe tbody tr th {\n",
       "        vertical-align: top;\n",
       "    }\n",
       "\n",
       "    .dataframe thead th {\n",
       "        text-align: right;\n",
       "    }\n",
       "</style>\n",
       "<table border=\"1\" class=\"dataframe\">\n",
       "  <thead>\n",
       "    <tr style=\"text-align: right;\">\n",
       "      <th></th>\n",
       "      <th>id</th>\n",
       "      <th>visitors</th>\n",
       "    </tr>\n",
       "  </thead>\n",
       "  <tbody>\n",
       "    <tr>\n",
       "      <th>0</th>\n",
       "      <td>air_00a91d42b08b08d9_2017-04-23</td>\n",
       "      <td>2.448989</td>\n",
       "    </tr>\n",
       "    <tr>\n",
       "      <th>1</th>\n",
       "      <td>air_00a91d42b08b08d9_2017-04-24</td>\n",
       "      <td>22.165827</td>\n",
       "    </tr>\n",
       "    <tr>\n",
       "      <th>2</th>\n",
       "      <td>air_00a91d42b08b08d9_2017-04-25</td>\n",
       "      <td>23.981833</td>\n",
       "    </tr>\n",
       "    <tr>\n",
       "      <th>3</th>\n",
       "      <td>air_00a91d42b08b08d9_2017-04-26</td>\n",
       "      <td>27.899902</td>\n",
       "    </tr>\n",
       "    <tr>\n",
       "      <th>4</th>\n",
       "      <td>air_00a91d42b08b08d9_2017-04-27</td>\n",
       "      <td>29.575418</td>\n",
       "    </tr>\n",
       "  </tbody>\n",
       "</table>\n",
       "</div>"
      ],
      "text/plain": [
       "                                id   visitors\n",
       "0  air_00a91d42b08b08d9_2017-04-23   2.448989\n",
       "1  air_00a91d42b08b08d9_2017-04-24  22.165827\n",
       "2  air_00a91d42b08b08d9_2017-04-25  23.981833\n",
       "3  air_00a91d42b08b08d9_2017-04-26  27.899902\n",
       "4  air_00a91d42b08b08d9_2017-04-27  29.575418"
      ]
     },
     "execution_count": 54,
     "metadata": {},
     "output_type": "execute_result"
    }
   ],
   "source": [
    "lm_summary,pred_y = linear_reg(Xtrain,Ytrain,Xtest)\n",
    "sample_submission[\"visitors\"] = pred_y\n",
    "sample_submission[\"visitors\"] = sample_submission[\"visitors\"].apply(lambda x: 0 if x<0 else x)\n",
    "sample_submission.head()"
   ]
  },
  {
   "cell_type": "code",
   "execution_count": 143,
   "metadata": {
    "collapsed": true
   },
   "outputs": [],
   "source": [
    "sample_submission.to_csv(\"../output/lm1.csv\",index=False)"
   ]
  },
  {
   "cell_type": "markdown",
   "metadata": {},
   "source": [
    "<a id = '4.5'></a>\n",
    "### 4.5 Random Forest"
   ]
  },
  {
   "cell_type": "code",
   "execution_count": 40,
   "metadata": {
    "collapsed": true
   },
   "outputs": [],
   "source": [
    "from sklearn.ensemble import RandomForestRegressor"
   ]
  },
  {
   "cell_type": "code",
   "execution_count": 41,
   "metadata": {
    "collapsed": true
   },
   "outputs": [],
   "source": [
    "def random_forest(train_x,train_y,test_x,**kwargs):\n",
    "    forest = RandomForestRegressor(**kwargs)\n",
    "    forest.fit(train_x, train_y)\n",
    "    pred_y = forest.predict(test_x)\n",
    "    return forest,pred_y\n",
    "\n",
    "def plot_rf_importance(forest):\n",
    "    imp = pd.DataFrame(forest.feature_importances_, columns = [ 'Importance' ], index = train_x.columns)\n",
    "    \n",
    "    imp = imp.sort_values( [ 'Importance' ] , ascending = True )\n",
    "    imp[ : 15].plot( kind = 'barh' )"
   ]
  },
  {
   "cell_type": "markdown",
   "metadata": {},
   "source": [
    "#### grid search to find optimal parameters for random forest"
   ]
  },
  {
   "cell_type": "code",
   "execution_count": 58,
   "metadata": {},
   "outputs": [
    {
     "data": {
      "text/plain": [
       "{'max_depth': 10,\n",
       " 'max_features': 'auto',\n",
       " 'min_samples_split': 2,\n",
       " 'n_estimators': 100}"
      ]
     },
     "execution_count": 58,
     "metadata": {},
     "output_type": "execute_result"
    }
   ],
   "source": [
    "acc_scorer = make_scorer(score_func = rmsle, greater_is_better = False)\n",
    "model = RandomForestRegressor()\n",
    "parameters = {'n_estimators': [100], \n",
    "              'max_features': ['log2', 'sqrt','auto'], #The number of features to consider when looking for the best split\n",
    "              'max_depth': [5, 10,12], \n",
    "              'min_samples_split': [2, 3, 5],\n",
    "             }\n",
    "grid_obj = GridSearchCV(model, parameters, scoring=acc_scorer)\n",
    "grid_obj = grid_obj.fit(train_x, train_y)\n",
    "model_params = grid_obj.best_params_\n",
    "model_params\n",
    "#grid_obj.best_score_"
   ]
  },
  {
   "cell_type": "markdown",
   "metadata": {},
   "source": [
    "#### FIGURE 11: Top Features pick by Random Forest Algorithm\n",
    "\n",
    "__Interpretations:__\n",
    "- min_weekday means \n",
    "- median_all means\n",
    "- delta_long means"
   ]
  },
  {
   "cell_type": "markdown",
   "metadata": {},
   "source": [
    "# !!!! SOMEONE ADD SOME INTERPRETATION OF THE VARIABLES HERE. IT 'S NOT VERY OBVIOUS WHAT THESE VARIABLES MEAN"
   ]
  },
  {
   "cell_type": "code",
   "execution_count": 45,
   "metadata": {
    "scrolled": true
   },
   "outputs": [
    {
     "data": {
      "text/plain": [
       "0.5257264891187505"
      ]
     },
     "execution_count": 45,
     "metadata": {},
     "output_type": "execute_result"
    },
    {
     "data": {
      "image/png": "[encoded data removed]",
      "text/plain": [
       "<matplotlib.figure.Figure at 0x1b4c40d2fd0>"
      ]
     },
     "metadata": {},
     "output_type": "display_data"
    }
   ],
   "source": [
    "model_params = {'max_depth': 10,\n",
    " 'max_features': 'auto',\n",
    " 'min_samples_split': 2,\n",
    " 'n_estimators': 100}\n",
    "forest, pred_testy = random_forest(train_x,train_y,test_x,**model_params)\n",
    "rmsle(test_y,pred_testy)\n",
    "plot_rf_importance(forest)"
   ]
  },
  {
   "cell_type": "code",
   "execution_count": 58,
   "metadata": {},
   "outputs": [
    {
     "name": "stdout",
     "output_type": "stream",
     "text": [
      "finish 0 round of random_forest, rmlse = 0.5255914468507514\n",
      "finish 1 round of random_forest, rmlse = 0.5255024307516576\n",
      "finish 2 round of random_forest, rmlse = 0.5241612343155102\n",
      "finish 3 round of random_forest, rmlse = 0.5226477454740996\n",
      "finish 4 round of random_forest, rmlse = 0.5309899640537721\n"
     ]
    },
    {
     "data": {
      "text/plain": [
       "0.5257785642891581"
      ]
     },
     "execution_count": 58,
     "metadata": {},
     "output_type": "execute_result"
    }
   ],
   "source": [
    "k = 5\n",
    "model = \"random_forest\"\n",
    "model_params = {'max_depth': 10,\n",
    " 'max_features': 'auto',\n",
    " 'min_samples_split': 3,\n",
    " 'n_estimators': 60}\n",
    "rmsle_rf = cv_rmsle(k, model, Xtrain,Ytrain,**model_params)\n",
    "rmsle_rf = np.mean(rmsle_rf)\n",
    "rmsle_rf"
   ]
  },
  {
   "cell_type": "markdown",
   "metadata": {},
   "source": [
    "#### Random forest final result"
   ]
  },
  {
   "cell_type": "code",
   "execution_count": 65,
   "metadata": {},
   "outputs": [
    {
     "data": {
      "text/html": [
       "<div>\n",
       "<style scoped>\n",
       "    .dataframe tbody tr th:only-of-type {\n",
       "        vertical-align: middle;\n",
       "    }\n",
       "\n",
       "    .dataframe tbody tr th {\n",
       "        vertical-align: top;\n",
       "    }\n",
       "\n",
       "    .dataframe thead th {\n",
       "        text-align: right;\n",
       "    }\n",
       "</style>\n",
       "<table border=\"1\" class=\"dataframe\">\n",
       "  <thead>\n",
       "    <tr style=\"text-align: right;\">\n",
       "      <th></th>\n",
       "      <th>id</th>\n",
       "      <th>visitors</th>\n",
       "    </tr>\n",
       "  </thead>\n",
       "  <tbody>\n",
       "    <tr>\n",
       "      <th>0</th>\n",
       "      <td>air_00a91d42b08b08d9_2017-04-23</td>\n",
       "      <td>1.948231</td>\n",
       "    </tr>\n",
       "    <tr>\n",
       "      <th>1</th>\n",
       "      <td>air_00a91d42b08b08d9_2017-04-24</td>\n",
       "      <td>20.833786</td>\n",
       "    </tr>\n",
       "    <tr>\n",
       "      <th>2</th>\n",
       "      <td>air_00a91d42b08b08d9_2017-04-25</td>\n",
       "      <td>24.019948</td>\n",
       "    </tr>\n",
       "    <tr>\n",
       "      <th>3</th>\n",
       "      <td>air_00a91d42b08b08d9_2017-04-26</td>\n",
       "      <td>27.449413</td>\n",
       "    </tr>\n",
       "    <tr>\n",
       "      <th>4</th>\n",
       "      <td>air_00a91d42b08b08d9_2017-04-27</td>\n",
       "      <td>29.702137</td>\n",
       "    </tr>\n",
       "  </tbody>\n",
       "</table>\n",
       "</div>"
      ],
      "text/plain": [
       "                                id   visitors\n",
       "0  air_00a91d42b08b08d9_2017-04-23   1.948231\n",
       "1  air_00a91d42b08b08d9_2017-04-24  20.833786\n",
       "2  air_00a91d42b08b08d9_2017-04-25  24.019948\n",
       "3  air_00a91d42b08b08d9_2017-04-26  27.449413\n",
       "4  air_00a91d42b08b08d9_2017-04-27  29.702137"
      ]
     },
     "execution_count": 65,
     "metadata": {},
     "output_type": "execute_result"
    }
   ],
   "source": [
    "forest, pred_y = random_forest(Xtrain,Ytrain,Xtest,**model_params)\n",
    "sample_submission[\"visitors\"] = pred_y\n",
    "sample_submission[\"visitors\"] = sample_submission[\"visitors\"].apply(lambda x: 0 if x<0 else x)\n",
    "sample_submission.head()"
   ]
  },
  {
   "cell_type": "code",
   "execution_count": 37,
   "metadata": {
    "collapsed": true
   },
   "outputs": [],
   "source": [
    "sample_submission.to_csv(\"../output/rf2.csv\",index=False)"
   ]
  },
  {
   "cell_type": "markdown",
   "metadata": {},
   "source": [
    "<a id = '4.6'></a>\n",
    "### 4.6 XGBoost"
   ]
  },
  {
   "cell_type": "code",
   "execution_count": 36,
   "metadata": {
    "collapsed": true
   },
   "outputs": [],
   "source": [
    "import xgboost as xgb\n",
    "from xgboost.sklearn import XGBClassifier"
   ]
  },
  {
   "cell_type": "code",
   "execution_count": 37,
   "metadata": {
    "collapsed": true
   },
   "outputs": [],
   "source": [
    "def opt_num_boost_round(train_x,train_y,xgb_params):\n",
    "    dtrain = xgb.DMatrix(train_x, train_y)\n",
    "    cv_output = xgb.cv(xgb_params, dtrain, num_boost_round=150, early_stopping_rounds=100,\n",
    "        verbose_eval=20, show_stdv=False)\n",
    "    cv_output[['train-rmse-mean', 'test-rmse-mean']].plot()\n",
    "    \n",
    "def xgb_model(train_x,train_y,test_x,xgb_params,num_round):\n",
    "    dtrain = xgb.DMatrix(train_x, train_y)\n",
    "    xgb_model = xgb.train(dict(xgb_params, silent=0), dtrain, num_boost_round=num_round)\n",
    "    pred = xgb_model.predict(xgb.DMatrix(test_x))\n",
    "    return xgb_model,pred"
   ]
  },
  {
   "cell_type": "code",
   "execution_count": 38,
   "metadata": {
    "scrolled": true
   },
   "outputs": [
    {
     "name": "stderr",
     "output_type": "stream",
     "text": [
      "C:\\Users\\yiqin\\Anaconda3\\lib\\site-packages\\sklearn\\preprocessing\\label.py:171: DeprecationWarning: The truth value of an empty array is ambiguous. Returning False, but in future this will result in an error. Use `array.size > 0` to check that an array is not empty.\n",
      "  if diff:\n",
      "C:\\Users\\yiqin\\Anaconda3\\lib\\site-packages\\sklearn\\preprocessing\\label.py:171: DeprecationWarning: The truth value of an empty array is ambiguous. Returning False, but in future this will result in an error. Use `array.size > 0` to check that an array is not empty.\n",
      "  if diff:\n",
      "C:\\Users\\yiqin\\Anaconda3\\lib\\site-packages\\sklearn\\preprocessing\\label.py:171: DeprecationWarning: The truth value of an empty array is ambiguous. Returning False, but in future this will result in an error. Use `array.size > 0` to check that an array is not empty.\n",
      "  if diff:\n",
      "C:\\Users\\yiqin\\Anaconda3\\lib\\site-packages\\sklearn\\preprocessing\\label.py:171: DeprecationWarning: The truth value of an empty array is ambiguous. Returning False, but in future this will result in an error. Use `array.size > 0` to check that an array is not empty.\n",
      "  if diff:\n",
      "C:\\Users\\yiqin\\Anaconda3\\lib\\site-packages\\sklearn\\preprocessing\\label.py:171: DeprecationWarning: The truth value of an empty array is ambiguous. Returning False, but in future this will result in an error. Use `array.size > 0` to check that an array is not empty.\n",
      "  if diff:\n",
      "C:\\Users\\yiqin\\Anaconda3\\lib\\site-packages\\sklearn\\preprocessing\\label.py:171: DeprecationWarning: The truth value of an empty array is ambiguous. Returning False, but in future this will result in an error. Use `array.size > 0` to check that an array is not empty.\n",
      "  if diff:\n",
      "C:\\Users\\yiqin\\Anaconda3\\lib\\site-packages\\sklearn\\preprocessing\\label.py:171: DeprecationWarning: The truth value of an empty array is ambiguous. Returning False, but in future this will result in an error. Use `array.size > 0` to check that an array is not empty.\n",
      "  if diff:\n",
      "C:\\Users\\yiqin\\Anaconda3\\lib\\site-packages\\sklearn\\preprocessing\\label.py:171: DeprecationWarning: The truth value of an empty array is ambiguous. Returning False, but in future this will result in an error. Use `array.size > 0` to check that an array is not empty.\n",
      "  if diff:\n",
      "C:\\Users\\yiqin\\Anaconda3\\lib\\site-packages\\sklearn\\preprocessing\\label.py:171: DeprecationWarning: The truth value of an empty array is ambiguous. Returning False, but in future this will result in an error. Use `array.size > 0` to check that an array is not empty.\n",
      "  if diff:\n",
      "C:\\Users\\yiqin\\Anaconda3\\lib\\site-packages\\sklearn\\preprocessing\\label.py:171: DeprecationWarning: The truth value of an empty array is ambiguous. Returning False, but in future this will result in an error. Use `array.size > 0` to check that an array is not empty.\n",
      "  if diff:\n",
      "C:\\Users\\yiqin\\Anaconda3\\lib\\site-packages\\sklearn\\preprocessing\\label.py:171: DeprecationWarning: The truth value of an empty array is ambiguous. Returning False, but in future this will result in an error. Use `array.size > 0` to check that an array is not empty.\n",
      "  if diff:\n",
      "C:\\Users\\yiqin\\Anaconda3\\lib\\site-packages\\sklearn\\preprocessing\\label.py:171: DeprecationWarning: The truth value of an empty array is ambiguous. Returning False, but in future this will result in an error. Use `array.size > 0` to check that an array is not empty.\n",
      "  if diff:\n",
      "C:\\Users\\yiqin\\Anaconda3\\lib\\site-packages\\sklearn\\preprocessing\\label.py:171: DeprecationWarning: The truth value of an empty array is ambiguous. Returning False, but in future this will result in an error. Use `array.size > 0` to check that an array is not empty.\n",
      "  if diff:\n",
      "C:\\Users\\yiqin\\Anaconda3\\lib\\site-packages\\sklearn\\preprocessing\\label.py:171: DeprecationWarning: The truth value of an empty array is ambiguous. Returning False, but in future this will result in an error. Use `array.size > 0` to check that an array is not empty.\n",
      "  if diff:\n",
      "C:\\Users\\yiqin\\Anaconda3\\lib\\site-packages\\sklearn\\preprocessing\\label.py:171: DeprecationWarning: The truth value of an empty array is ambiguous. Returning False, but in future this will result in an error. Use `array.size > 0` to check that an array is not empty.\n",
      "  if diff:\n",
      "C:\\Users\\yiqin\\Anaconda3\\lib\\site-packages\\sklearn\\preprocessing\\label.py:171: DeprecationWarning: The truth value of an empty array is ambiguous. Returning False, but in future this will result in an error. Use `array.size > 0` to check that an array is not empty.\n",
      "  if diff:\n",
      "C:\\Users\\yiqin\\Anaconda3\\lib\\site-packages\\sklearn\\preprocessing\\label.py:171: DeprecationWarning: The truth value of an empty array is ambiguous. Returning False, but in future this will result in an error. Use `array.size > 0` to check that an array is not empty.\n",
      "  if diff:\n",
      "C:\\Users\\yiqin\\Anaconda3\\lib\\site-packages\\sklearn\\preprocessing\\label.py:171: DeprecationWarning: The truth value of an empty array is ambiguous. Returning False, but in future this will result in an error. Use `array.size > 0` to check that an array is not empty.\n",
      "  if diff:\n",
      "C:\\Users\\yiqin\\Anaconda3\\lib\\site-packages\\sklearn\\preprocessing\\label.py:171: DeprecationWarning: The truth value of an empty array is ambiguous. Returning False, but in future this will result in an error. Use `array.size > 0` to check that an array is not empty.\n",
      "  if diff:\n",
      "C:\\Users\\yiqin\\Anaconda3\\lib\\site-packages\\sklearn\\preprocessing\\label.py:171: DeprecationWarning: The truth value of an empty array is ambiguous. Returning False, but in future this will result in an error. Use `array.size > 0` to check that an array is not empty.\n",
      "  if diff:\n",
      "C:\\Users\\yiqin\\Anaconda3\\lib\\site-packages\\sklearn\\preprocessing\\label.py:171: DeprecationWarning: The truth value of an empty array is ambiguous. Returning False, but in future this will result in an error. Use `array.size > 0` to check that an array is not empty.\n",
      "  if diff:\n",
      "C:\\Users\\yiqin\\Anaconda3\\lib\\site-packages\\sklearn\\preprocessing\\label.py:171: DeprecationWarning: The truth value of an empty array is ambiguous. Returning False, but in future this will result in an error. Use `array.size > 0` to check that an array is not empty.\n",
      "  if diff:\n",
      "C:\\Users\\yiqin\\Anaconda3\\lib\\site-packages\\sklearn\\preprocessing\\label.py:171: DeprecationWarning: The truth value of an empty array is ambiguous. Returning False, but in future this will result in an error. Use `array.size > 0` to check that an array is not empty.\n",
      "  if diff:\n",
      "C:\\Users\\yiqin\\Anaconda3\\lib\\site-packages\\sklearn\\preprocessing\\label.py:171: DeprecationWarning: The truth value of an empty array is ambiguous. Returning False, but in future this will result in an error. Use `array.size > 0` to check that an array is not empty.\n",
      "  if diff:\n"
     ]
    },
    {
     "data": {
      "text/plain": [
       "{'colsample_bytree': 0.7,\n",
       " 'gamma': 0,\n",
       " 'learning_rate': 0.05,\n",
       " 'max_depth': 8,\n",
       " 'min_child_weight': 1,\n",
       " 'n_estimators': 150,\n",
       " 'objective': 'reg:linear',\n",
       " 'subsample': 0.7}"
      ]
     },
     "execution_count": 38,
     "metadata": {},
     "output_type": "execute_result"
    }
   ],
   "source": [
    "acc_scorer = make_scorer(score_func = rmsle, greater_is_better = False)\n",
    "model = XGBClassifier(nthread=3, scale_pos_weight=1, seed=27)\n",
    "model_params = {'learning_rate': [0.05],\n",
    "              'n_estimators': [150], \n",
    "              'max_depth': [8, 10, 12], \n",
    "              'subsample': [0.7,0.8],\n",
    "              'colsample_bytree': [0.7],\n",
    "              'objective': ['reg:linear'],\n",
    "              'min_child_weight': [1],\n",
    "              'gamma': [0]\n",
    "             }\n",
    "grid_obj = GridSearchCV(model, model_params, scoring=acc_scorer)\n",
    "grid_obj = grid_obj.fit(test_x, test_y)\n",
    "model_params = grid_obj.best_params_\n",
    "model_params\n",
    "#grid_obj.best_score_"
   ]
  },
  {
   "cell_type": "markdown",
   "metadata": {},
   "source": [
    "#### FIGURE 12: RMSE of Training Set VS MSE of Testing Set\n",
    "\n",
    "__Interpretations:__\n",
    "- In the graph below, y axis is the RMSE, x aixs is ???\n",
    "- This visualization is useful to choose the best ???"
   ]
  },
  {
   "cell_type": "markdown",
   "metadata": {},
   "source": [
    "# !!!!!! SOMEONE FINISH THE INTERPRETATION OF THE GRAPH\n",
    "# ALSO, ARE RMSE AND RMSLE DIFFERENT THINGS? WHAT'S THE DIFFERENCE?"
   ]
  },
  {
   "cell_type": "code",
   "execution_count": 73,
   "metadata": {
    "scrolled": false
   },
   "outputs": [
    {
     "name": "stdout",
     "output_type": "stream",
     "text": [
      "[0]\ttrain-rmse:25.4007\ttest-rmse:25.4085\n",
      "[20]\ttrain-rmse:13.5199\ttest-rmse:13.7497\n",
      "[40]\ttrain-rmse:10.8733\ttest-rmse:11.332\n",
      "[60]\ttrain-rmse:10.3339\ttest-rmse:10.9617\n",
      "[80]\ttrain-rmse:10.1817\ttest-rmse:10.9054\n",
      "[100]\ttrain-rmse:10.0872\ttest-rmse:10.8983\n",
      "[120]\ttrain-rmse:10.0202\ttest-rmse:10.9011\n",
      "[140]\ttrain-rmse:9.95711\ttest-rmse:10.8975\n"
     ]
    },
    {
     "data": {
      "image/png": "[encoded data removed]",
      "text/plain": [
       "<matplotlib.figure.Figure at 0x1c640357da0>"
      ]
     },
     "metadata": {},
     "output_type": "display_data"
    }
   ],
   "source": [
    "xgb_params = {\n",
    "    'eta': 0.05,\n",
    "    'max_depth': 8,\n",
    "    'subsample': 0.7,\n",
    "    'colsample_bytree': 0.7,\n",
    "    'objective': 'reg:linear',\n",
    "    'eval_metric': 'rmse',\n",
    "    'silent': 1\n",
    "}\n",
    "opt_num_boost_round(train_x,train_y,xgb_params)"
   ]
  },
  {
   "cell_type": "code",
   "execution_count": 74,
   "metadata": {},
   "outputs": [
    {
     "data": {
      "text/plain": [
       "0.5182742361749587"
      ]
     },
     "execution_count": 74,
     "metadata": {},
     "output_type": "execute_result"
    }
   ],
   "source": [
    "xgboost_model, pred_testy = xgb_model(train_x,train_y,test_x,xgb_params,70)\n",
    "rmsle(test_y,pred_testy)"
   ]
  },
  {
   "cell_type": "code",
   "execution_count": 62,
   "metadata": {},
   "outputs": [
    {
     "name": "stdout",
     "output_type": "stream",
     "text": [
      "finish 0 round of xgb_model, rmlse = 0.5162937433224921\n",
      "finish 1 round of xgb_model, rmlse = 0.5227695325892232\n",
      "finish 2 round of xgb_model, rmlse = 0.5188040666327323\n",
      "finish 3 round of xgb_model, rmlse = 0.5201080802747058\n",
      "finish 4 round of xgb_model, rmlse = 0.5156263027321398\n"
     ]
    },
    {
     "data": {
      "text/plain": [
       "0.5187203451102587"
      ]
     },
     "execution_count": 62,
     "metadata": {},
     "output_type": "execute_result"
    }
   ],
   "source": [
    "k = 5\n",
    "xgb_params = {\n",
    "    'eta': 0.05,\n",
    "    'max_depth': 8,\n",
    "    'subsample': 0.7,\n",
    "    'colsample_bytree': 0.7,\n",
    "    'objective': 'reg:linear',\n",
    "    'eval_metric': 'rmse',\n",
    "    'silent': 1\n",
    "}\n",
    "model = \"xgb_model\"\n",
    "model_params = {\n",
    "   \"xgb_params\": xgb_params,\n",
    "    \"num_round\": 70\n",
    "}\n",
    "\n",
    "rmsle_xgb = cv_rmsle(k, model, Xtrain,Ytrain,**model_params)\n",
    "rmsle_xgb = np.mean(rmsle_xgb)\n",
    "rmsle_xgb"
   ]
  },
  {
   "cell_type": "markdown",
   "metadata": {},
   "source": [
    "#### XGBoost final result"
   ]
  },
  {
   "cell_type": "code",
   "execution_count": 103,
   "metadata": {
    "scrolled": true
   },
   "outputs": [
    {
     "data": {
      "text/html": [
       "<div>\n",
       "<style scoped>\n",
       "    .dataframe tbody tr th:only-of-type {\n",
       "        vertical-align: middle;\n",
       "    }\n",
       "\n",
       "    .dataframe tbody tr th {\n",
       "        vertical-align: top;\n",
       "    }\n",
       "\n",
       "    .dataframe thead th {\n",
       "        text-align: right;\n",
       "    }\n",
       "</style>\n",
       "<table border=\"1\" class=\"dataframe\">\n",
       "  <thead>\n",
       "    <tr style=\"text-align: right;\">\n",
       "      <th></th>\n",
       "      <th>id</th>\n",
       "      <th>visitors</th>\n",
       "    </tr>\n",
       "  </thead>\n",
       "  <tbody>\n",
       "    <tr>\n",
       "      <th>0</th>\n",
       "      <td>air_00a91d42b08b08d9_2017-04-23</td>\n",
       "      <td>2.230275</td>\n",
       "    </tr>\n",
       "    <tr>\n",
       "      <th>1</th>\n",
       "      <td>air_00a91d42b08b08d9_2017-04-24</td>\n",
       "      <td>19.570179</td>\n",
       "    </tr>\n",
       "    <tr>\n",
       "      <th>2</th>\n",
       "      <td>air_00a91d42b08b08d9_2017-04-25</td>\n",
       "      <td>22.631840</td>\n",
       "    </tr>\n",
       "    <tr>\n",
       "      <th>3</th>\n",
       "      <td>air_00a91d42b08b08d9_2017-04-26</td>\n",
       "      <td>26.775152</td>\n",
       "    </tr>\n",
       "    <tr>\n",
       "      <th>4</th>\n",
       "      <td>air_00a91d42b08b08d9_2017-04-27</td>\n",
       "      <td>28.565804</td>\n",
       "    </tr>\n",
       "  </tbody>\n",
       "</table>\n",
       "</div>"
      ],
      "text/plain": [
       "                                id   visitors\n",
       "0  air_00a91d42b08b08d9_2017-04-23   2.230275\n",
       "1  air_00a91d42b08b08d9_2017-04-24  19.570179\n",
       "2  air_00a91d42b08b08d9_2017-04-25  22.631840\n",
       "3  air_00a91d42b08b08d9_2017-04-26  26.775152\n",
       "4  air_00a91d42b08b08d9_2017-04-27  28.565804"
      ]
     },
     "execution_count": 103,
     "metadata": {},
     "output_type": "execute_result"
    }
   ],
   "source": [
    "xgboost_model,pred_y = xgb_model(Xtrain,Ytrain,Xtest,xgb_params,60)\n",
    "sample_submission[\"visitors\"] = pred_y\n",
    "sample_submission[\"visitors\"] = sample_submission[\"visitors\"].apply(lambda x: 0 if x<0 else x)\n",
    "sample_submission.head()"
   ]
  },
  {
   "cell_type": "code",
   "execution_count": 187,
   "metadata": {
    "collapsed": true
   },
   "outputs": [],
   "source": [
    "sample_submission.to_csv(\"../output/xgb2.csv\",index=False)"
   ]
  },
  {
   "cell_type": "markdown",
   "metadata": {},
   "source": [
    "<a id = '4.7'></a>\n",
    "### 4.7 Model Comparison"
   ]
  },
  {
   "cell_type": "code",
   "execution_count": 80,
   "metadata": {},
   "outputs": [
    {
     "data": {
      "text/html": [
       "<div>\n",
       "<style scoped>\n",
       "    .dataframe tbody tr th:only-of-type {\n",
       "        vertical-align: middle;\n",
       "    }\n",
       "\n",
       "    .dataframe tbody tr th {\n",
       "        vertical-align: top;\n",
       "    }\n",
       "\n",
       "    .dataframe thead th {\n",
       "        text-align: right;\n",
       "    }\n",
       "</style>\n",
       "<table border=\"1\" class=\"dataframe\">\n",
       "  <thead>\n",
       "    <tr style=\"text-align: right;\">\n",
       "      <th></th>\n",
       "      <th>rmsle</th>\n",
       "    </tr>\n",
       "  </thead>\n",
       "  <tbody>\n",
       "    <tr>\n",
       "      <th>ols</th>\n",
       "      <td>0.533250</td>\n",
       "    </tr>\n",
       "    <tr>\n",
       "      <th>random forest</th>\n",
       "      <td>0.525779</td>\n",
       "    </tr>\n",
       "    <tr>\n",
       "      <th>xgboost</th>\n",
       "      <td>0.518720</td>\n",
       "    </tr>\n",
       "  </tbody>\n",
       "</table>\n",
       "</div>"
      ],
      "text/plain": [
       "                  rmsle\n",
       "ols            0.533250\n",
       "random forest  0.525779\n",
       "xgboost        0.518720"
      ]
     },
     "execution_count": 80,
     "metadata": {},
     "output_type": "execute_result"
    }
   ],
   "source": [
    "cv_compare = {\"ols\": rmsle_ols,\n",
    "            \"random forest\": rmsle_rf,\n",
    "            \"xgboost\": rmsle_xgb\n",
    "\n",
    "}          \n",
    "cv_compare = pd.DataFrame.from_dict(cv_compare,orient='index')\n",
    "cv_compare.columns = [\"rmsle\"]\n",
    "cv_compare"
   ]
  },
  {
   "cell_type": "markdown",
   "metadata": {},
   "source": [
    "#### Save Model"
   ]
  },
  {
   "cell_type": "code",
   "execution_count": 104,
   "metadata": {
    "collapsed": true
   },
   "outputs": [],
   "source": [
    "xgboost_model.save_model('../model/xgb02.model')"
   ]
  },
  {
   "cell_type": "code",
   "execution_count": 2,
   "metadata": {
    "collapsed": true
   },
   "outputs": [],
   "source": [
    "xgb_load = xgb.Booster({'nthread':4}) #init model\n",
    "xgb_load.load_model(\"../model/xgb02.model\") # load model"
   ]
  },
  {
   "cell_type": "code",
   "execution_count": 107,
   "metadata": {
    "scrolled": true
   },
   "outputs": [
    {
     "data": {
      "text/plain": [
       "array([ 2.2302752, 19.570179 , 22.63184  , 26.775152 , 28.565804 ,\n",
       "       35.27316  , 21.732435 ,  2.2302752, 19.63949  , 22.70115  ],\n",
       "      dtype=float32)"
      ]
     },
     "execution_count": 107,
     "metadata": {},
     "output_type": "execute_result"
    }
   ],
   "source": [
    "t = xgb_load.predict(xgb.DMatrix(Xtest))\n",
    "t[0:10]"
   ]
  },
  {
   "cell_type": "markdown",
   "metadata": {
    "collapsed": true
   },
   "source": [
    "<a id = '5'></a>\n",
    "## Step 5: Summary\n",
    "\n",
    "The model we developed has a predictive power of ????%\n",
    "Any Interesting Takeaways for this exercise/Highlights?\n",
    "Anything to improve?"
   ]
  },
  {
   "cell_type": "markdown",
   "metadata": {
    "collapsed": true
   },
   "source": [
    "# !!! SOMEONE GIVE SOME IDEAS FOR THE CELL ABOVE. I CAN HELP PUT THEM INTO PARAGRAPHS"
   ]
  }
 ],
 "metadata": {
  "kernelspec": {
   "display_name": "Python 3",
   "language": "python",
   "name": "python3"
  },
  "language_info": {
   "codemirror_mode": {
    "name": "ipython",
    "version": 3
   },
   "file_extension": ".py",
   "mimetype": "text/x-python",
   "name": "python",
   "nbconvert_exporter": "python",
   "pygments_lexer": "ipython3",
   "version": "3.6.2"
  }
 },
 "nbformat": 4,
 "nbformat_minor": 2
}
