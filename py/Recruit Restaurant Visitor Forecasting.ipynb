{
 "cells": [
  {
   "cell_type": "code",
   "execution_count": 3,
   "metadata": {},
   "outputs": [],
   "source": [
    "import numpy as np\n",
    "import datetime\n",
    "import pandas as pd\n",
    "import matplotlib as mpl\n",
    "import matplotlib.pyplot as plt\n",
    "import seaborn as sns\n",
    "import math, warnings\n",
    "#from mpl_toolkits.basemap import Basemap\n",
    "plt.style.use('seaborn-whitegrid')\n",
    "%matplotlib inline\n",
    "from matplotlib.pylab import rcParams\n",
    "rcParams['figure.figsize'] = 15, 6\n",
    "warnings.filterwarnings('ignore')\n",
    "\n",
    "from IPython.core.interactiveshell import InteractiveShell\n",
    "InteractiveShell.ast_node_interactivity = \"all\""
   ]
  },
  {
   "cell_type": "code",
   "execution_count": 4,
   "metadata": {},
   "outputs": [
    {
     "name": "stdout",
     "output_type": "stream",
     "text": [
      "air_reserve.csv\n",
      "air_store_info.csv\n",
      "air_visit_data.csv\n",
      "date_info.csv\n",
      "hpg_store_info.csv\n",
      "sample_submission.csv\n",
      "store_id_relation.csv\n",
      "\n"
     ]
    }
   ],
   "source": [
    "from subprocess import check_output\n",
    "print(check_output([\"ls\", \"../input\"]).decode(\"utf8\"))\n",
    "file_list = check_output([\"ls\", \"../input\"]).decode(\"utf8\")\n",
    "file_list = file_list.strip().split('\\n')"
   ]
  },
  {
   "cell_type": "markdown",
   "metadata": {},
   "source": [
    "# Read data and display info"
   ]
  },
  {
   "cell_type": "code",
   "execution_count": 5,
   "metadata": {},
   "outputs": [
    {
     "name": "stdout",
     "output_type": "stream",
     "text": [
      "air_reserve.csv\n",
      "Shape: (92378, 4)\n",
      "\n",
      "\n",
      "<class 'pandas.core.frame.DataFrame'>\n",
      "RangeIndex: 92378 entries, 0 to 92377\n",
      "Data columns (total 4 columns):\n",
      "air_store_id        92378 non-null object\n",
      "visit_datetime      92378 non-null datetime64[ns]\n",
      "reserve_datetime    92378 non-null datetime64[ns]\n",
      "reserve_visitors    92378 non-null int64\n",
      "dtypes: datetime64[ns](2), int64(1), object(1)\n",
      "memory usage: 2.8+ MB\n",
      "None\n",
      "\n",
      "\n",
      "           air_store_id      visit_datetime    reserve_datetime  \\\n",
      "0  air_877f79706adbfb06 2016-01-01 19:00:00 2016-01-01 16:00:00   \n",
      "1  air_db4b38ebe7a7ceff 2016-01-01 19:00:00 2016-01-01 19:00:00   \n",
      "2  air_db4b38ebe7a7ceff 2016-01-01 19:00:00 2016-01-01 19:00:00   \n",
      "3  air_877f79706adbfb06 2016-01-01 20:00:00 2016-01-01 16:00:00   \n",
      "4  air_db80363d35f10926 2016-01-01 20:00:00 2016-01-01 01:00:00   \n",
      "\n",
      "   reserve_visitors  \n",
      "0                 1  \n",
      "1                 3  \n",
      "2                 6  \n",
      "3                 2  \n",
      "4                 5  \n",
      "***********************************************************************************\n",
      "air_store_info.csv\n",
      "Shape: (829, 5)\n",
      "\n",
      "\n",
      "<class 'pandas.core.frame.DataFrame'>\n",
      "RangeIndex: 829 entries, 0 to 828\n",
      "Data columns (total 5 columns):\n",
      "air_store_id      829 non-null object\n",
      "air_genre_name    829 non-null object\n",
      "air_area_name     829 non-null object\n",
      "latitude          829 non-null float64\n",
      "longitude         829 non-null float64\n",
      "dtypes: float64(2), object(3)\n",
      "memory usage: 32.5+ KB\n",
      "None\n",
      "\n",
      "\n",
      "           air_store_id  air_genre_name                 air_area_name  \\\n",
      "0  air_0f0cdeee6c9bf3d7  Italian/French  Hyōgo-ken Kōbe-shi Kumoidōri   \n",
      "1  air_7cc17a324ae5c7dc  Italian/French  Hyōgo-ken Kōbe-shi Kumoidōri   \n",
      "2  air_fee8dcf4d619598e  Italian/French  Hyōgo-ken Kōbe-shi Kumoidōri   \n",
      "3  air_a17f0778617c76e2  Italian/French  Hyōgo-ken Kōbe-shi Kumoidōri   \n",
      "4  air_83db5aff8f50478e  Italian/French  Tōkyō-to Minato-ku Shibakōen   \n",
      "\n",
      "    latitude   longitude  \n",
      "0  34.695124  135.197852  \n",
      "1  34.695124  135.197852  \n",
      "2  34.695124  135.197852  \n",
      "3  34.695124  135.197852  \n",
      "4  35.658068  139.751599  \n",
      "***********************************************************************************\n",
      "air_visit_data.csv\n",
      "Shape: (252108, 3)\n",
      "\n",
      "\n",
      "<class 'pandas.core.frame.DataFrame'>\n",
      "RangeIndex: 252108 entries, 0 to 252107\n",
      "Data columns (total 3 columns):\n",
      "air_store_id    252108 non-null object\n",
      "visit_date      252108 non-null datetime64[ns]\n",
      "visitors        252108 non-null int64\n",
      "dtypes: datetime64[ns](1), int64(1), object(1)\n",
      "memory usage: 5.8+ MB\n",
      "None\n",
      "\n",
      "\n",
      "           air_store_id visit_date  visitors\n",
      "0  air_ba937bf13d40fb24 2016-01-13        25\n",
      "1  air_ba937bf13d40fb24 2016-01-14        32\n",
      "2  air_ba937bf13d40fb24 2016-01-15        29\n",
      "3  air_ba937bf13d40fb24 2016-01-16        22\n",
      "4  air_ba937bf13d40fb24 2016-01-18         6\n",
      "***********************************************************************************\n",
      "date_info.csv\n",
      "Shape: (517, 3)\n",
      "\n",
      "\n",
      "<class 'pandas.core.frame.DataFrame'>\n",
      "RangeIndex: 517 entries, 0 to 516\n",
      "Data columns (total 3 columns):\n",
      "calendar_date    517 non-null datetime64[ns]\n",
      "day_of_week      517 non-null object\n",
      "holiday_flg      517 non-null int64\n",
      "dtypes: datetime64[ns](1), int64(1), object(1)\n",
      "memory usage: 12.2+ KB\n",
      "None\n",
      "\n",
      "\n",
      "  calendar_date day_of_week  holiday_flg\n",
      "0    2016-01-01      Friday            1\n",
      "1    2016-01-02    Saturday            1\n",
      "2    2016-01-03      Sunday            1\n",
      "3    2016-01-04      Monday            0\n",
      "4    2016-01-05     Tuesday            0\n",
      "***********************************************************************************\n",
      "hpg_store_info.csv\n",
      "Shape: (4690, 5)\n",
      "\n",
      "\n",
      "<class 'pandas.core.frame.DataFrame'>\n",
      "RangeIndex: 4690 entries, 0 to 4689\n",
      "Data columns (total 5 columns):\n",
      "hpg_store_id      4690 non-null object\n",
      "hpg_genre_name    4690 non-null object\n",
      "hpg_area_name     4690 non-null object\n",
      "latitude          4690 non-null float64\n",
      "longitude         4690 non-null float64\n",
      "dtypes: float64(2), object(3)\n",
      "memory usage: 183.3+ KB\n",
      "None\n",
      "\n",
      "\n",
      "           hpg_store_id  hpg_genre_name                  hpg_area_name  \\\n",
      "0  hpg_6622b62385aec8bf  Japanese style  Tōkyō-to Setagaya-ku Taishidō   \n",
      "1  hpg_e9e068dd49c5fa00  Japanese style  Tōkyō-to Setagaya-ku Taishidō   \n",
      "2  hpg_2976f7acb4b3a3bc  Japanese style  Tōkyō-to Setagaya-ku Taishidō   \n",
      "3  hpg_e51a522e098f024c  Japanese style  Tōkyō-to Setagaya-ku Taishidō   \n",
      "4  hpg_e3d0e1519894f275  Japanese style  Tōkyō-to Setagaya-ku Taishidō   \n",
      "\n",
      "    latitude   longitude  \n",
      "0  35.643675  139.668221  \n",
      "1  35.643675  139.668221  \n",
      "2  35.643675  139.668221  \n",
      "3  35.643675  139.668221  \n",
      "4  35.643675  139.668221  \n",
      "***********************************************************************************\n",
      "sample_submission.csv\n",
      "Shape: (32019, 2)\n",
      "\n",
      "\n",
      "<class 'pandas.core.frame.DataFrame'>\n",
      "RangeIndex: 32019 entries, 0 to 32018\n",
      "Data columns (total 2 columns):\n",
      "id          32019 non-null object\n",
      "visitors    32019 non-null int64\n",
      "dtypes: int64(1), object(1)\n",
      "memory usage: 500.4+ KB\n",
      "None\n",
      "\n",
      "\n",
      "                                id  visitors\n",
      "0  air_00a91d42b08b08d9_2017-04-23         0\n",
      "1  air_00a91d42b08b08d9_2017-04-24         0\n",
      "2  air_00a91d42b08b08d9_2017-04-25         0\n",
      "3  air_00a91d42b08b08d9_2017-04-26         0\n",
      "4  air_00a91d42b08b08d9_2017-04-27         0\n",
      "***********************************************************************************\n",
      "store_id_relation.csv\n",
      "Shape: (150, 2)\n",
      "\n",
      "\n",
      "<class 'pandas.core.frame.DataFrame'>\n",
      "RangeIndex: 150 entries, 0 to 149\n",
      "Data columns (total 2 columns):\n",
      "air_store_id    150 non-null object\n",
      "hpg_store_id    150 non-null object\n",
      "dtypes: object(2)\n",
      "memory usage: 2.4+ KB\n",
      "None\n",
      "\n",
      "\n",
      "           air_store_id          hpg_store_id\n",
      "0  air_63b13c56b7201bd9  hpg_4bc649e72e2a239a\n",
      "1  air_a24bf50c3e90d583  hpg_c34b496d0305a809\n",
      "2  air_c7f78b4f3cba33ff  hpg_cd8ae0d9bbd58ff9\n",
      "3  air_947eb2cae4f3e8f2  hpg_de24ea49dc25d6b8\n",
      "4  air_965b2e0cf4119003  hpg_653238a84804d8e7\n",
      "***********************************************************************************\n"
     ]
    }
   ],
   "source": [
    "for index, file in enumerate(file_list):\n",
    "    var_name = file.rstrip('.csv')\n",
    "    locals()[var_name] = pd.read_csv('../input/' + file)\n",
    "    print(file)\n",
    "    \n",
    "    # convert to datetime\n",
    "    for col in locals()[var_name].columns:\n",
    "        if col.endswith('datetime') or col.endswith('date'):\n",
    "            locals()[var_name][col] = pd.to_datetime(locals()[var_name][col])\n",
    "    \n",
    "    print('Shape:', locals()[var_name].shape)\n",
    "    print('\\n')\n",
    "    print(locals()[var_name].info())\n",
    "    print('\\n')\n",
    "    print(locals()[var_name].head())\n",
    "    print('***********************************************************************************')"
   ]
  },
  {
   "cell_type": "code",
   "execution_count": 6,
   "metadata": {},
   "outputs": [
    {
     "data": {
      "text/html": [
       "<div>\n",
       "<style scoped>\n",
       "    .dataframe tbody tr th:only-of-type {\n",
       "        vertical-align: middle;\n",
       "    }\n",
       "\n",
       "    .dataframe tbody tr th {\n",
       "        vertical-align: top;\n",
       "    }\n",
       "\n",
       "    .dataframe thead th {\n",
       "        text-align: right;\n",
       "    }\n",
       "</style>\n",
       "<table border=\"1\" class=\"dataframe\">\n",
       "  <thead>\n",
       "    <tr style=\"text-align: right;\">\n",
       "      <th></th>\n",
       "      <th>hpg_store_id</th>\n",
       "      <th>hpg_genre_name</th>\n",
       "      <th>hpg_area_name</th>\n",
       "      <th>latitude</th>\n",
       "      <th>longitude</th>\n",
       "    </tr>\n",
       "  </thead>\n",
       "  <tbody>\n",
       "    <tr>\n",
       "      <th>0</th>\n",
       "      <td>hpg_6622b62385aec8bf</td>\n",
       "      <td>Japanese style</td>\n",
       "      <td>Tōkyō-to Setagaya-ku Taishidō</td>\n",
       "      <td>35.643675</td>\n",
       "      <td>139.668221</td>\n",
       "    </tr>\n",
       "    <tr>\n",
       "      <th>1</th>\n",
       "      <td>hpg_e9e068dd49c5fa00</td>\n",
       "      <td>Japanese style</td>\n",
       "      <td>Tōkyō-to Setagaya-ku Taishidō</td>\n",
       "      <td>35.643675</td>\n",
       "      <td>139.668221</td>\n",
       "    </tr>\n",
       "    <tr>\n",
       "      <th>2</th>\n",
       "      <td>hpg_2976f7acb4b3a3bc</td>\n",
       "      <td>Japanese style</td>\n",
       "      <td>Tōkyō-to Setagaya-ku Taishidō</td>\n",
       "      <td>35.643675</td>\n",
       "      <td>139.668221</td>\n",
       "    </tr>\n",
       "    <tr>\n",
       "      <th>3</th>\n",
       "      <td>hpg_e51a522e098f024c</td>\n",
       "      <td>Japanese style</td>\n",
       "      <td>Tōkyō-to Setagaya-ku Taishidō</td>\n",
       "      <td>35.643675</td>\n",
       "      <td>139.668221</td>\n",
       "    </tr>\n",
       "    <tr>\n",
       "      <th>4</th>\n",
       "      <td>hpg_e3d0e1519894f275</td>\n",
       "      <td>Japanese style</td>\n",
       "      <td>Tōkyō-to Setagaya-ku Taishidō</td>\n",
       "      <td>35.643675</td>\n",
       "      <td>139.668221</td>\n",
       "    </tr>\n",
       "  </tbody>\n",
       "</table>\n",
       "</div>"
      ],
      "text/plain": [
       "           hpg_store_id  hpg_genre_name                  hpg_area_name  \\\n",
       "0  hpg_6622b62385aec8bf  Japanese style  Tōkyō-to Setagaya-ku Taishidō   \n",
       "1  hpg_e9e068dd49c5fa00  Japanese style  Tōkyō-to Setagaya-ku Taishidō   \n",
       "2  hpg_2976f7acb4b3a3bc  Japanese style  Tōkyō-to Setagaya-ku Taishidō   \n",
       "3  hpg_e51a522e098f024c  Japanese style  Tōkyō-to Setagaya-ku Taishidō   \n",
       "4  hpg_e3d0e1519894f275  Japanese style  Tōkyō-to Setagaya-ku Taishidō   \n",
       "\n",
       "    latitude   longitude  \n",
       "0  35.643675  139.668221  \n",
       "1  35.643675  139.668221  \n",
       "2  35.643675  139.668221  \n",
       "3  35.643675  139.668221  \n",
       "4  35.643675  139.668221  "
      ]
     },
     "execution_count": 6,
     "metadata": {},
     "output_type": "execute_result"
    }
   ],
   "source": [
    "hpg_store_info.head()"
   ]
  },
  {
   "cell_type": "markdown",
   "metadata": {},
   "source": [
    "# Store Distribution map"
   ]
  },
  {
   "cell_type": "code",
   "execution_count": 7,
   "metadata": {},
   "outputs": [
    {
     "ename": "NameError",
     "evalue": "name 'Basemap' is not defined",
     "output_type": "error",
     "traceback": [
      "\u001b[0;31m---------------------------------------------------------------------------\u001b[0m",
      "\u001b[0;31mNameError\u001b[0m                                 Traceback (most recent call last)",
      "\u001b[0;32m<ipython-input-7-213b0a2b3aa5>\u001b[0m in \u001b[0;36m<module>\u001b[0;34m()\u001b[0m\n\u001b[1;32m      4\u001b[0m \u001b[0mtitle\u001b[0m \u001b[0;34m=\u001b[0m \u001b[0;34m[\u001b[0m\u001b[0;34m'air_store distribution'\u001b[0m\u001b[0;34m,\u001b[0m \u001b[0;34m'hpg_store distribution'\u001b[0m\u001b[0;34m]\u001b[0m\u001b[0;34m\u001b[0m\u001b[0m\n\u001b[1;32m      5\u001b[0m \u001b[0;32mfor\u001b[0m \u001b[0mi\u001b[0m\u001b[0;34m,\u001b[0m\u001b[0mdata\u001b[0m \u001b[0;32min\u001b[0m \u001b[0menumerate\u001b[0m\u001b[0;34m(\u001b[0m\u001b[0;34m[\u001b[0m\u001b[0mair_store_info\u001b[0m\u001b[0;34m,\u001b[0m\u001b[0mhpg_store_info\u001b[0m\u001b[0;34m]\u001b[0m\u001b[0;34m)\u001b[0m\u001b[0;34m:\u001b[0m\u001b[0;34m\u001b[0m\u001b[0m\n\u001b[0;32m----> 6\u001b[0;31m     m = Basemap(resolution = 'h',lon_0 = 0, lat_0 = 0,llcrnrlon=127, urcrnrlon=147,\n\u001b[0m\u001b[1;32m      7\u001b[0m                       llcrnrlat=29, urcrnrlat=47, ax = ax[i])\n\u001b[1;32m      8\u001b[0m     \u001b[0mm\u001b[0m\u001b[0;34m.\u001b[0m\u001b[0mbluemarble\u001b[0m\u001b[0;34m(\u001b[0m\u001b[0;34m)\u001b[0m\u001b[0;34m\u001b[0m\u001b[0m\n",
      "\u001b[0;31mNameError\u001b[0m: name 'Basemap' is not defined"
     ]
    },
    {
     "data": {
      "image/png": "[encoded data removed]",
      "text/plain": [
       "<matplotlib.figure.Figure at 0x109ec4b00>"
      ]
     },
     "metadata": {},
     "output_type": "display_data"
    }
   ],
   "source": [
    "fig,ax = plt.subplots(1,2,figsize = (16,16))\n",
    "\n",
    "color = ['red','yellow']\n",
    "title = ['air_store distribution', 'hpg_store distribution']\n",
    "for i,data in enumerate([air_store_info,hpg_store_info]):\n",
    "    m = Basemap(resolution = 'h',lon_0 = 0, lat_0 = 0,llcrnrlon=127, urcrnrlon=147,\n",
    "                      llcrnrlat=29, urcrnrlat=47, ax = ax[i])\n",
    "    m.bluemarble()\n",
    "    m.drawcoastlines(color = 'gray')\n",
    "    m.drawcountries(color = 'gray')\n",
    "    m.drawstates(color = 'gray')\n",
    "    m.scatter(data['longitude'], data['latitude'], latlon = True, color = color[i], marker='o')\n",
    "    ax[i].set_title(title[i])"
   ]
  },
  {
   "cell_type": "markdown",
   "metadata": {
    "collapsed": true
   },
   "source": [
    "# Visitors visualization"
   ]
  },
  {
   "cell_type": "markdown",
   "metadata": {},
   "source": [
    "Aggregated vistors by visit date"
   ]
  },
  {
   "cell_type": "code",
   "execution_count": 8,
   "metadata": {},
   "outputs": [
    {
     "data": {
      "text/plain": [
       "<matplotlib.axes._subplots.AxesSubplot at 0x10bc53e48>"
      ]
     },
     "execution_count": 8,
     "metadata": {},
     "output_type": "execute_result"
    },
    {
     "data": {
      "text/plain": [
       "[Text(0,0.5,'Dailyvisitors'), Text(0.5,0,'')]"
      ]
     },
     "execution_count": 8,
     "metadata": {},
     "output_type": "execute_result"
    },
    {
     "data": {
      "text/plain": [
       "<matplotlib.axes._subplots.AxesSubplot at 0x10bc9c358>"
      ]
     },
     "execution_count": 8,
     "metadata": {},
     "output_type": "execute_result"
    },
    {
     "data": {
      "text/plain": [
       "[Text(0,0.5,'Weeklyvisitors'), Text(0.5,0,'')]"
      ]
     },
     "execution_count": 8,
     "metadata": {},
     "output_type": "execute_result"
    },
    {
     "data": {
      "text/plain": [
       "<matplotlib.axes._subplots.AxesSubplot at 0x10bcd2780>"
      ]
     },
     "execution_count": 8,
     "metadata": {},
     "output_type": "execute_result"
    },
    {
     "data": {
      "text/plain": [
       "[Text(0,0.5,'Monthlyvisitors'), Text(0.5,0,'')]"
      ]
     },
     "execution_count": 8,
     "metadata": {},
     "output_type": "execute_result"
    },
    {
     "data": {
      "text/plain": [
       "Text(0.5,0,'visit date')"
      ]
     },
     "execution_count": 8,
     "metadata": {},
     "output_type": "execute_result"
    },
    {
     "data": {
      "image/png": "[encoded data removed]",
      "text/plain": [
       "<matplotlib.figure.Figure at 0x10bc53780>"
      ]
     },
     "metadata": {},
     "output_type": "display_data"
    }
   ],
   "source": [
    "fig,ax = plt.subplots(3,1, figsize = (16,16))\n",
    "Fre = [\"Daily\", \"Weekly\", \"Monthly\"]\n",
    "\n",
    "for i,fre in enumerate([\"D\",\"W\",\"M\"]):\n",
    "    air_visit_data.groupby('visit_date')['visitors'].sum().resample(fre).sum().plot(ax = ax[i])\n",
    "    ax[i].set(ylabel = (Fre[i] + 'visitors'), xlabel = \"\")\n",
    "plt.xlabel('visit date', fontsize = 18)"
   ]
  },
  {
   "cell_type": "markdown",
   "metadata": {
    "collapsed": true
   },
   "source": [
    "Let's get deeper into Reservasion dataset."
   ]
  },
  {
   "cell_type": "code",
   "execution_count": 9,
   "metadata": {},
   "outputs": [
    {
     "ename": "NameError",
     "evalue": "name 'hpg_reserve' is not defined",
     "output_type": "error",
     "traceback": [
      "\u001b[0;31m---------------------------------------------------------------------------\u001b[0m",
      "\u001b[0;31mNameError\u001b[0m                                 Traceback (most recent call last)",
      "\u001b[0;32m<ipython-input-9-036fa1ad57d0>\u001b[0m in \u001b[0;36m<module>\u001b[0;34m()\u001b[0m\n\u001b[1;32m      1\u001b[0m \u001b[0;31m# convert hpg_store_id to air_store_id\u001b[0m\u001b[0;34m\u001b[0m\u001b[0;34m\u001b[0m\u001b[0m\n\u001b[0;32m----> 2\u001b[0;31m \u001b[0mhpg_reserve\u001b[0m \u001b[0;34m=\u001b[0m \u001b[0mhpg_reserve\u001b[0m\u001b[0;34m.\u001b[0m\u001b[0mmerge\u001b[0m\u001b[0;34m(\u001b[0m\u001b[0mstore_id_relation\u001b[0m\u001b[0;34m,\u001b[0m \u001b[0mon\u001b[0m \u001b[0;34m=\u001b[0m \u001b[0;34m'hpg_store_id'\u001b[0m\u001b[0;34m,\u001b[0m \u001b[0mhow\u001b[0m \u001b[0;34m=\u001b[0m \u001b[0;34m'left'\u001b[0m\u001b[0;34m)\u001b[0m\u001b[0;34m\u001b[0m\u001b[0m\n\u001b[0m\u001b[1;32m      3\u001b[0m \u001b[0mair\u001b[0m \u001b[0;34m=\u001b[0m \u001b[0mhpg_reserve\u001b[0m\u001b[0;34m[\u001b[0m\u001b[0;34m'air_store_id'\u001b[0m\u001b[0;34m]\u001b[0m\u001b[0;34m\u001b[0m\u001b[0m\n\u001b[1;32m      4\u001b[0m \u001b[0mhpg_reserve\u001b[0m\u001b[0;34m[\u001b[0m\u001b[0;34m'hpg_store_id'\u001b[0m\u001b[0;34m]\u001b[0m \u001b[0;34m=\u001b[0m \u001b[0mair\u001b[0m\u001b[0;34m\u001b[0m\u001b[0m\n\u001b[1;32m      5\u001b[0m \u001b[0mhpg_reserve\u001b[0m \u001b[0;34m=\u001b[0m \u001b[0mhpg_reserve\u001b[0m\u001b[0;34m[\u001b[0m\u001b[0mhpg_reserve\u001b[0m\u001b[0;34m[\u001b[0m\u001b[0;34m'hpg_store_id'\u001b[0m\u001b[0;34m]\u001b[0m\u001b[0;34m.\u001b[0m\u001b[0mnotnull\u001b[0m\u001b[0;34m(\u001b[0m\u001b[0;34m)\u001b[0m\u001b[0;34m]\u001b[0m\u001b[0;34m\u001b[0m\u001b[0m\n",
      "\u001b[0;31mNameError\u001b[0m: name 'hpg_reserve' is not defined"
     ]
    }
   ],
   "source": [
    "# convert hpg_store_id to air_store_id\n",
    "hpg_reserve = hpg_reserve.merge(store_id_relation, on = 'hpg_store_id', how = 'left')\n",
    "air = hpg_reserve['air_store_id']\n",
    "hpg_reserve['hpg_store_id'] = air\n",
    "hpg_reserve = hpg_reserve[hpg_reserve['hpg_store_id'].notnull()]\n",
    "hpg_reserve = hpg_reserve.drop('air_store_id', axis = 1)\n",
    "hpg_reserve.head()"
   ]
  },
  {
   "cell_type": "code",
   "execution_count": 8,
   "metadata": {},
   "outputs": [
    {
     "data": {
      "text/html": [
       "<div>\n",
       "<style scoped>\n",
       "    .dataframe tbody tr th:only-of-type {\n",
       "        vertical-align: middle;\n",
       "    }\n",
       "\n",
       "    .dataframe tbody tr th {\n",
       "        vertical-align: top;\n",
       "    }\n",
       "\n",
       "    .dataframe thead th {\n",
       "        text-align: right;\n",
       "    }\n",
       "</style>\n",
       "<table border=\"1\" class=\"dataframe\">\n",
       "  <thead>\n",
       "    <tr style=\"text-align: right;\">\n",
       "      <th></th>\n",
       "      <th>store_id</th>\n",
       "      <th>visit_datetime</th>\n",
       "      <th>reserve_datetime</th>\n",
       "      <th>reserve_visitors</th>\n",
       "      <th>delta_reservation</th>\n",
       "      <th>delta_2days</th>\n",
       "      <th>delta_7days</th>\n",
       "      <th>delta_long</th>\n",
       "      <th>date</th>\n",
       "    </tr>\n",
       "  </thead>\n",
       "  <tbody>\n",
       "    <tr>\n",
       "      <th>0</th>\n",
       "      <td>air_877f79706adbfb06</td>\n",
       "      <td>2016-01-01 19:00:00</td>\n",
       "      <td>2016-01-01 16:00:00</td>\n",
       "      <td>1</td>\n",
       "      <td>03:00:00</td>\n",
       "      <td>1</td>\n",
       "      <td>0</td>\n",
       "      <td>0</td>\n",
       "      <td>2016-01-01</td>\n",
       "    </tr>\n",
       "    <tr>\n",
       "      <th>1</th>\n",
       "      <td>air_db4b38ebe7a7ceff</td>\n",
       "      <td>2016-01-01 19:00:00</td>\n",
       "      <td>2016-01-01 19:00:00</td>\n",
       "      <td>3</td>\n",
       "      <td>00:00:00</td>\n",
       "      <td>1</td>\n",
       "      <td>0</td>\n",
       "      <td>0</td>\n",
       "      <td>2016-01-01</td>\n",
       "    </tr>\n",
       "    <tr>\n",
       "      <th>2</th>\n",
       "      <td>air_db4b38ebe7a7ceff</td>\n",
       "      <td>2016-01-01 19:00:00</td>\n",
       "      <td>2016-01-01 19:00:00</td>\n",
       "      <td>6</td>\n",
       "      <td>00:00:00</td>\n",
       "      <td>1</td>\n",
       "      <td>0</td>\n",
       "      <td>0</td>\n",
       "      <td>2016-01-01</td>\n",
       "    </tr>\n",
       "    <tr>\n",
       "      <th>3</th>\n",
       "      <td>air_877f79706adbfb06</td>\n",
       "      <td>2016-01-01 20:00:00</td>\n",
       "      <td>2016-01-01 16:00:00</td>\n",
       "      <td>2</td>\n",
       "      <td>04:00:00</td>\n",
       "      <td>1</td>\n",
       "      <td>0</td>\n",
       "      <td>0</td>\n",
       "      <td>2016-01-01</td>\n",
       "    </tr>\n",
       "    <tr>\n",
       "      <th>4</th>\n",
       "      <td>air_db80363d35f10926</td>\n",
       "      <td>2016-01-01 20:00:00</td>\n",
       "      <td>2016-01-01 01:00:00</td>\n",
       "      <td>5</td>\n",
       "      <td>19:00:00</td>\n",
       "      <td>1</td>\n",
       "      <td>0</td>\n",
       "      <td>0</td>\n",
       "      <td>2016-01-01</td>\n",
       "    </tr>\n",
       "  </tbody>\n",
       "</table>\n",
       "</div>"
      ],
      "text/plain": [
       "               store_id      visit_datetime    reserve_datetime  \\\n",
       "0  air_877f79706adbfb06 2016-01-01 19:00:00 2016-01-01 16:00:00   \n",
       "1  air_db4b38ebe7a7ceff 2016-01-01 19:00:00 2016-01-01 19:00:00   \n",
       "2  air_db4b38ebe7a7ceff 2016-01-01 19:00:00 2016-01-01 19:00:00   \n",
       "3  air_877f79706adbfb06 2016-01-01 20:00:00 2016-01-01 16:00:00   \n",
       "4  air_db80363d35f10926 2016-01-01 20:00:00 2016-01-01 01:00:00   \n",
       "\n",
       "   reserve_visitors delta_reservation  delta_2days  delta_7days  delta_long  \\\n",
       "0                 1          03:00:00            1            0           0   \n",
       "1                 3          00:00:00            1            0           0   \n",
       "2                 6          00:00:00            1            0           0   \n",
       "3                 2          04:00:00            1            0           0   \n",
       "4                 5          19:00:00            1            0           0   \n",
       "\n",
       "         date  \n",
       "0  2016-01-01  \n",
       "1  2016-01-01  \n",
       "2  2016-01-01  \n",
       "3  2016-01-01  \n",
       "4  2016-01-01  "
      ]
     },
     "execution_count": 8,
     "metadata": {},
     "output_type": "execute_result"
    }
   ],
   "source": [
    "# add new feature, combine two dataset\n",
    "def delta_reservation(df):\n",
    "    df['delta_reservation'] = df['visit_datetime'] - df['reserve_datetime']\n",
    "    df['delta_2days'] = df['delta_reservation'].apply(lambda x: int(x.days < 2))\n",
    "    df['delta_7days'] = df['delta_reservation'].apply(lambda x: int(2 <= x.days < 7))\n",
    "    df['delta_long'] = df['delta_reservation'].apply(lambda x: int(x.days >= 7))\n",
    "    return df\n",
    "\n",
    "air_reserve = delta_reservation(air_reserve)\n",
    "hpg_reserve = delta_reservation(hpg_reserve)\n",
    "\n",
    "air_reserve.rename(columns = {'air_store_id':'store_id'}, inplace = True)\n",
    "hpg_reserve.rename(columns = {'hpg_store_id':'store_id'}, inplace = True)\n",
    "total_reserve = pd.concat([air_reserve, hpg_reserve])\n",
    "total_reserve['date'] = total_reserve['visit_datetime'].apply(lambda x:x.date())\n",
    "total_reserve.head()"
   ]
  },
  {
   "cell_type": "markdown",
   "metadata": {},
   "source": [
    "How many unique stores are reserved? How many unique stores are visited?"
   ]
  },
  {
   "cell_type": "code",
   "execution_count": 9,
   "metadata": {},
   "outputs": [
    {
     "name": "stdout",
     "output_type": "stream",
     "text": [
      "333 stores are reserved\n",
      "829 stores are visited\n"
     ]
    }
   ],
   "source": [
    "num_reserve = total_reserve['store_id'].nunique()\n",
    "num_visit = air_visit_data['air_store_id'].nunique()\n",
    "print(\"{} stores are reserved\".format(num_reserve))\n",
    "print(\"{} stores are visited\".format(num_visit))"
   ]
  },
  {
   "cell_type": "code",
   "execution_count": 10,
   "metadata": {
    "scrolled": true
   },
   "outputs": [
    {
     "data": {
      "text/plain": [
       "[<matplotlib.lines.Line2D at 0x2605deefef0>]"
      ]
     },
     "execution_count": 10,
     "metadata": {},
     "output_type": "execute_result"
    },
    {
     "data": {
      "text/plain": [
       "[<matplotlib.lines.Line2D at 0x2605e407940>]"
      ]
     },
     "execution_count": 10,
     "metadata": {},
     "output_type": "execute_result"
    },
    {
     "data": {
      "text/plain": [
       "<matplotlib.legend.Legend at 0x26058e87550>"
      ]
     },
     "execution_count": 10,
     "metadata": {},
     "output_type": "execute_result"
    },
    {
     "data": {
      "text/plain": [
       "Text(0,0.5,'Visitors')"
      ]
     },
     "execution_count": 10,
     "metadata": {},
     "output_type": "execute_result"
    },
    {
     "data": {
      "text/plain": [
       "Text(0.5,0,'Date')"
      ]
     },
     "execution_count": 10,
     "metadata": {},
     "output_type": "execute_result"
    },
    {
     "data": {
      "image/png": "[encoded data removed]",
      "text/plain": [
       "<matplotlib.figure.Figure at 0x26058e42fd0>"
      ]
     },
     "metadata": {},
     "output_type": "display_data"
    }
   ],
   "source": [
    "reserve_by_date = total_reserve.groupby('date').sum().reset_index()\n",
    "visit_by_date = air_visit_data.groupby('visit_date').sum().reset_index()\n",
    "\n",
    "plt.plot(reserve_by_date['date'], reserve_by_date['reserve_visitors'], color = 'green', label = 'number of reservations')\n",
    "plt.plot(visit_by_date['visit_date'], visit_by_date['visitors'], color = 'blue', label = 'number of visitors')\n",
    "plt.legend(loc = 'upper left')\n",
    "plt.ylabel('Visitors', fontsize = 14)\n",
    "plt.xlabel('Date', fontsize = 14)"
   ]
  },
  {
   "cell_type": "markdown",
   "metadata": {},
   "source": [
    "What time do people usually make a reservation and visit?"
   ]
  },
  {
   "cell_type": "code",
   "execution_count": 11,
   "metadata": {
    "scrolled": false
   },
   "outputs": [
    {
     "data": {
      "text/plain": [
       "[<matplotlib.lines.Line2D at 0x2605fe67da0>]"
      ]
     },
     "execution_count": 11,
     "metadata": {},
     "output_type": "execute_result"
    },
    {
     "data": {
      "text/plain": [
       "[<matplotlib.lines.Line2D at 0x2605f90d400>]"
      ]
     },
     "execution_count": 11,
     "metadata": {},
     "output_type": "execute_result"
    },
    {
     "data": {
      "text/plain": [
       "([<matplotlib.axis.XTick at 0x2605e94de48>,\n",
       "  <matplotlib.axis.XTick at 0x2605fe67fd0>,\n",
       "  <matplotlib.axis.XTick at 0x2605f90d8d0>,\n",
       "  <matplotlib.axis.XTick at 0x2605f90df60>,\n",
       "  <matplotlib.axis.XTick at 0x2605f9056d8>,\n",
       "  <matplotlib.axis.XTick at 0x2605f905e80>],\n",
       " <a list of 6 Text xticklabel objects>)"
      ]
     },
     "execution_count": 11,
     "metadata": {},
     "output_type": "execute_result"
    },
    {
     "data": {
      "text/plain": [
       "<matplotlib.legend.Legend at 0x2605e94d2b0>"
      ]
     },
     "execution_count": 11,
     "metadata": {},
     "output_type": "execute_result"
    },
    {
     "data": {
      "text/plain": [
       "Text(0,0.5,'reserve visitors')"
      ]
     },
     "execution_count": 11,
     "metadata": {},
     "output_type": "execute_result"
    },
    {
     "data": {
      "text/plain": [
       "Text(0.5,0,'time')"
      ]
     },
     "execution_count": 11,
     "metadata": {},
     "output_type": "execute_result"
    },
    {
     "data": {
      "text/plain": [
       "(0, 86400)"
      ]
     },
     "execution_count": 11,
     "metadata": {},
     "output_type": "execute_result"
    },
    {
     "data": {
      "image/png": "[encoded data removed]",
      "text/plain": [
       "<matplotlib.figure.Figure at 0x2605f3c2dd8>"
      ]
     },
     "metadata": {},
     "output_type": "display_data"
    }
   ],
   "source": [
    "df1 = total_reserve.groupby('reserve_datetime')['reserve_visitors'].sum()\n",
    "reserve_time = df1.groupby(df1.index.time).mean().reset_index()\n",
    "\n",
    "df2 = total_reserve.groupby('visit_datetime')['reserve_visitors'].sum()\n",
    "visit_time = df2.groupby(df2.index.time).mean().reset_index()\n",
    "\n",
    "hourly_ticks = 4 * 60 * 60 * np.arange(6)\n",
    "plt.plot(reserve_time['index'], reserve_time['reserve_visitors'],color = 'red', label = 'reservation')\n",
    "plt.plot(visit_time['index'], visit_time['reserve_visitors'], color = 'blue', label = 'visit')\n",
    "plt.xticks(hourly_ticks)\n",
    "plt.legend(loc = 'upper left')\n",
    "plt.ylabel('reserve visitors', fontsize = 16)\n",
    "plt.xlabel('time', fontsize = 16)\n",
    "plt.xlim(0,4 * 60 * 60 * 6)"
   ]
  },
  {
   "cell_type": "markdown",
   "metadata": {},
   "source": [
    "What day of week do people usually reserve and visit?"
   ]
  },
  {
   "cell_type": "code",
   "execution_count": 13,
   "metadata": {
    "scrolled": false
   },
   "outputs": [
    {
     "data": {
      "text/plain": [
       "<matplotlib.axes._subplots.AxesSubplot at 0x26060626908>"
      ]
     },
     "execution_count": 13,
     "metadata": {},
     "output_type": "execute_result"
    },
    {
     "data": {
      "text/plain": [
       "<matplotlib.axes._subplots.AxesSubplot at 0x26060626908>"
      ]
     },
     "execution_count": 13,
     "metadata": {},
     "output_type": "execute_result"
    },
    {
     "data": {
      "text/plain": [
       "<matplotlib.legend.Legend at 0x260603b1c18>"
      ]
     },
     "execution_count": 13,
     "metadata": {},
     "output_type": "execute_result"
    },
    {
     "data": {
      "text/plain": [
       "Text(0,0.5,'reserve visitors')"
      ]
     },
     "execution_count": 13,
     "metadata": {},
     "output_type": "execute_result"
    },
    {
     "data": {
      "text/plain": [
       "Text(0.5,0,'day of week')"
      ]
     },
     "execution_count": 13,
     "metadata": {},
     "output_type": "execute_result"
    },
    {
     "data": {
      "image/png": "[encoded data removed]",
      "text/plain": [
       "<matplotlib.figure.Figure at 0x2606060d908>"
      ]
     },
     "metadata": {},
     "output_type": "display_data"
    }
   ],
   "source": [
    "by_weekday_df1 = df1.groupby(df1.index.dayofweek).mean()\n",
    "by_weekday_df1.index = ['Mon', 'Tues', 'Wed', 'Thurs', 'Fri', 'Sat', 'Sun']\n",
    "by_weekday_df1.plot(color = 'red', label = 'reservation')\n",
    "\n",
    "by_weekday_df2 = df2.groupby(df2.index.dayofweek).mean()\n",
    "by_weekday_df2.index = ['Mon', 'Tues', 'Wed', 'Thurs', 'Fri', 'Sat', 'Sun']\n",
    "by_weekday_df2.plot(color = 'blue', label = 'visit')\n",
    "plt.legend(loc = 'upper left')\n",
    "plt.ylabel('reserve visitors', fontsize = 16)\n",
    "plt.xlabel('day of week', fontsize = 16)"
   ]
  },
  {
   "cell_type": "code",
   "execution_count": 14,
   "metadata": {},
   "outputs": [
    {
     "data": {
      "image/png": "[encoded data removed]",
      "text/plain": [
       "<matplotlib.figure.Figure at 0x244c9b6e0f0>"
      ]
     },
     "metadata": {},
     "output_type": "display_data"
    }
   ],
   "source": [
    "weekend = np.where(df1.index.weekday < 5, 'Weekday', 'Weekend')\n",
    "by_time = df1.groupby([weekend, df1.index.time]).mean()\n",
    "\n",
    "fig, ax = plt.subplots(1, 2, figsize=(14, 5))\n",
    "by_time.ix['Weekday'].plot(ax=ax[0], title='Weekdays',\n",
    "                           xticks=hourly_ticks)\n",
    "by_time.ix['Weekend'].plot(ax=ax[1], title='Weekends',\n",
    "                           xticks=hourly_ticks);"
   ]
  },
  {
   "cell_type": "markdown",
   "metadata": {},
   "source": [
    "What are the distribution of time period between reserve and visit?"
   ]
  },
  {
   "cell_type": "code",
   "execution_count": 14,
   "metadata": {},
   "outputs": [
    {
     "data": {
      "text/plain": [
       "<matplotlib.axes._subplots.AxesSubplot at 0x2604e7f0358>"
      ]
     },
     "execution_count": 14,
     "metadata": {},
     "output_type": "execute_result"
    },
    {
     "data": {
      "text/plain": [
       "Text(0,0.5,'count')"
      ]
     },
     "execution_count": 14,
     "metadata": {},
     "output_type": "execute_result"
    },
    {
     "data": {
      "image/png": "[encoded data removed]",
      "text/plain": [
       "<matplotlib.figure.Figure at 0x260583e5748>"
      ]
     },
     "metadata": {},
     "output_type": "display_data"
    }
   ],
   "source": [
    "total_reserve['delta_reservation'].value_counts().plot()\n",
    "plt.ylabel('count')"
   ]
  },
  {
   "cell_type": "markdown",
   "metadata": {},
   "source": [
    "How many visitors for each time period?"
   ]
  },
  {
   "cell_type": "code",
   "execution_count": 15,
   "metadata": {},
   "outputs": [
    {
     "data": {
      "text/plain": [
       "<matplotlib.axes._subplots.AxesSubplot at 0x2605fb81da0>"
      ]
     },
     "execution_count": 15,
     "metadata": {},
     "output_type": "execute_result"
    },
    {
     "data": {
      "text/plain": [
       "Text(0,0.5,'reserve_visitors')"
      ]
     },
     "execution_count": 15,
     "metadata": {},
     "output_type": "execute_result"
    },
    {
     "data": {
      "image/png": "[encoded data removed]",
      "text/plain": [
       "<matplotlib.figure.Figure at 0x2605ee8b198>"
      ]
     },
     "metadata": {},
     "output_type": "display_data"
    }
   ],
   "source": [
    "total_reserve.groupby('delta_reservation')['reserve_visitors'].sum().plot()\n",
    "plt.ylabel('reserve_visitors')"
   ]
  },
  {
   "cell_type": "markdown",
   "metadata": {},
   "source": [
    "What are the distribution of air_genre_name and air_area_name?"
   ]
  },
  {
   "cell_type": "markdown",
   "metadata": {},
   "source": [
    "What is the holiday influence?"
   ]
  },
  {
   "cell_type": "code",
   "execution_count": 16,
   "metadata": {},
   "outputs": [
    {
     "data": {
      "text/plain": [
       "<matplotlib.axes._subplots.AxesSubplot at 0x2605f64d828>"
      ]
     },
     "execution_count": 16,
     "metadata": {},
     "output_type": "execute_result"
    },
    {
     "data": {
      "text/plain": [
       "(array([0, 1]), <a list of 2 Text xticklabel objects>)"
      ]
     },
     "execution_count": 16,
     "metadata": {},
     "output_type": "execute_result"
    },
    {
     "data": {
      "text/plain": [
       "Text(0,0.5,'visitors')"
      ]
     },
     "execution_count": 16,
     "metadata": {},
     "output_type": "execute_result"
    },
    {
     "data": {
      "image/png": "[encoded data removed]",
      "text/plain": [
       "<matplotlib.figure.Figure at 0x2605fb72b70>"
      ]
     },
     "metadata": {},
     "output_type": "display_data"
    }
   ],
   "source": [
    "date_info = date_info.rename(columns = {'calendar_date':'visit_date'})\n",
    "air_holiday = air_visit_data.merge(date_info, how = 'inner', on = 'visit_date')\n",
    "holiday = air_holiday.groupby('holiday_flg')['visitors'].mean()\n",
    "holiday.index = ['not holiday', 'holiday']\n",
    "holiday.plot(kind = 'bar')\n",
    "plt.xticks(rotation = 'horizontal', fontsize = 16)\n",
    "plt.ylabel('visitors', fontsize =16)"
   ]
  },
  {
   "cell_type": "markdown",
   "metadata": {},
   "source": [
    "Seems holiday has even a positive influence."
   ]
  },
  {
   "cell_type": "markdown",
   "metadata": {},
   "source": [
    "Which restaurants are similar? Cluster\n",
    "K-means\n",
    "plotly\n",
    "\n",
    "Cluster EDA  ---> decide number of clusters\n",
    "scatter plot\n",
    "PCA/Cluster\n",
    "PCA more deeply"
   ]
  },
  {
   "cell_type": "markdown",
   "metadata": {},
   "source": [
    "counts per hour per restaurant\n",
    "\n",
    "median income \n",
    "median price for the home\n",
    "population\n",
    "demographoic\n",
    "how does sensonality affact data?\n",
    "how many restaurant in the city?\n",
    "Urban/Rural Area Classification"
   ]
  },
  {
   "cell_type": "markdown",
   "metadata": {
    "collapsed": true
   },
   "source": [
    "# Model Data Prepare"
   ]
  },
  {
   "cell_type": "markdown",
   "metadata": {},
   "source": [
    "Initialize train and text, merge with visit date (weekday and holiday)"
   ]
  },
  {
   "cell_type": "code",
   "execution_count": 17,
   "metadata": {
    "scrolled": false
   },
   "outputs": [
    {
     "data": {
      "text/html": [
       "<div>\n",
       "<style scoped>\n",
       "    .dataframe tbody tr th:only-of-type {\n",
       "        vertical-align: middle;\n",
       "    }\n",
       "\n",
       "    .dataframe tbody tr th {\n",
       "        vertical-align: top;\n",
       "    }\n",
       "\n",
       "    .dataframe thead th {\n",
       "        text-align: right;\n",
       "    }\n",
       "</style>\n",
       "<table border=\"1\" class=\"dataframe\">\n",
       "  <thead>\n",
       "    <tr style=\"text-align: right;\">\n",
       "      <th></th>\n",
       "      <th>air_store_id</th>\n",
       "      <th>visit_date</th>\n",
       "      <th>visitors</th>\n",
       "      <th>day_of_week</th>\n",
       "      <th>holiday_flg</th>\n",
       "    </tr>\n",
       "  </thead>\n",
       "  <tbody>\n",
       "    <tr>\n",
       "      <th>0</th>\n",
       "      <td>air_ba937bf13d40fb24</td>\n",
       "      <td>2016-01-13</td>\n",
       "      <td>25</td>\n",
       "      <td>2</td>\n",
       "      <td>0</td>\n",
       "    </tr>\n",
       "    <tr>\n",
       "      <th>1</th>\n",
       "      <td>air_ba937bf13d40fb24</td>\n",
       "      <td>2016-01-14</td>\n",
       "      <td>32</td>\n",
       "      <td>3</td>\n",
       "      <td>0</td>\n",
       "    </tr>\n",
       "    <tr>\n",
       "      <th>2</th>\n",
       "      <td>air_ba937bf13d40fb24</td>\n",
       "      <td>2016-01-15</td>\n",
       "      <td>29</td>\n",
       "      <td>4</td>\n",
       "      <td>0</td>\n",
       "    </tr>\n",
       "    <tr>\n",
       "      <th>3</th>\n",
       "      <td>air_ba937bf13d40fb24</td>\n",
       "      <td>2016-01-16</td>\n",
       "      <td>22</td>\n",
       "      <td>5</td>\n",
       "      <td>0</td>\n",
       "    </tr>\n",
       "    <tr>\n",
       "      <th>4</th>\n",
       "      <td>air_ba937bf13d40fb24</td>\n",
       "      <td>2016-01-18</td>\n",
       "      <td>6</td>\n",
       "      <td>0</td>\n",
       "      <td>0</td>\n",
       "    </tr>\n",
       "  </tbody>\n",
       "</table>\n",
       "</div>"
      ],
      "text/plain": [
       "           air_store_id visit_date  visitors  day_of_week  holiday_flg\n",
       "0  air_ba937bf13d40fb24 2016-01-13        25            2            0\n",
       "1  air_ba937bf13d40fb24 2016-01-14        32            3            0\n",
       "2  air_ba937bf13d40fb24 2016-01-15        29            4            0\n",
       "3  air_ba937bf13d40fb24 2016-01-16        22            5            0\n",
       "4  air_ba937bf13d40fb24 2016-01-18         6            0            0"
      ]
     },
     "execution_count": 17,
     "metadata": {},
     "output_type": "execute_result"
    }
   ],
   "source": [
    "train = air_visit_data.copy()\n",
    "train = train.merge(date_info, how = 'left', on = 'visit_date')\n",
    "train[\"day_of_week\"] = train[\"visit_date\"].dt.weekday #0 is monday, 6 is Sunday\n",
    "train.head()\n",
    "\n",
    "test = sample_submission.copy()\n",
    "test[\"air_store_id\"] = test[\"id\"].apply(lambda x: x[0:20])\n",
    "test[\"visit_date\"] = test[\"id\"].apply(lambda x: x[21:])\n",
    "test[\"visit_date\"] = pd.to_datetime(test[\"visit_date\"]) \n",
    "test = test.merge(date_info, how = 'left', on = 'visit_date')\n",
    "test[\"day_of_week\"] = test[\"visit_date\"].dt.weekday"
   ]
  },
  {
   "cell_type": "markdown",
   "metadata": {},
   "source": [
    "Merge with min/max/mean/median visit by store"
   ]
  },
  {
   "cell_type": "code",
   "execution_count": 18,
   "metadata": {
    "scrolled": true
   },
   "outputs": [
    {
     "data": {
      "text/html": [
       "<div>\n",
       "<style scoped>\n",
       "    .dataframe tbody tr th:only-of-type {\n",
       "        vertical-align: middle;\n",
       "    }\n",
       "\n",
       "    .dataframe tbody tr th {\n",
       "        vertical-align: top;\n",
       "    }\n",
       "\n",
       "    .dataframe thead th {\n",
       "        text-align: right;\n",
       "    }\n",
       "</style>\n",
       "<table border=\"1\" class=\"dataframe\">\n",
       "  <thead>\n",
       "    <tr style=\"text-align: right;\">\n",
       "      <th></th>\n",
       "      <th>air_store_id</th>\n",
       "      <th>visit_date</th>\n",
       "      <th>visitors</th>\n",
       "      <th>day_of_week</th>\n",
       "      <th>holiday_flg</th>\n",
       "      <th>min</th>\n",
       "      <th>max</th>\n",
       "      <th>median</th>\n",
       "      <th>mean</th>\n",
       "    </tr>\n",
       "  </thead>\n",
       "  <tbody>\n",
       "    <tr>\n",
       "      <th>0</th>\n",
       "      <td>air_ba937bf13d40fb24</td>\n",
       "      <td>2016-01-13</td>\n",
       "      <td>25</td>\n",
       "      <td>2</td>\n",
       "      <td>0</td>\n",
       "      <td>1</td>\n",
       "      <td>61</td>\n",
       "      <td>22.0</td>\n",
       "      <td>22.782609</td>\n",
       "    </tr>\n",
       "    <tr>\n",
       "      <th>1</th>\n",
       "      <td>air_ba937bf13d40fb24</td>\n",
       "      <td>2016-01-14</td>\n",
       "      <td>32</td>\n",
       "      <td>3</td>\n",
       "      <td>0</td>\n",
       "      <td>1</td>\n",
       "      <td>61</td>\n",
       "      <td>22.0</td>\n",
       "      <td>22.782609</td>\n",
       "    </tr>\n",
       "    <tr>\n",
       "      <th>2</th>\n",
       "      <td>air_ba937bf13d40fb24</td>\n",
       "      <td>2016-01-15</td>\n",
       "      <td>29</td>\n",
       "      <td>4</td>\n",
       "      <td>0</td>\n",
       "      <td>1</td>\n",
       "      <td>61</td>\n",
       "      <td>22.0</td>\n",
       "      <td>22.782609</td>\n",
       "    </tr>\n",
       "  </tbody>\n",
       "</table>\n",
       "</div>"
      ],
      "text/plain": [
       "           air_store_id visit_date  visitors  day_of_week  holiday_flg  min  \\\n",
       "0  air_ba937bf13d40fb24 2016-01-13        25            2            0    1   \n",
       "1  air_ba937bf13d40fb24 2016-01-14        32            3            0    1   \n",
       "2  air_ba937bf13d40fb24 2016-01-15        29            4            0    1   \n",
       "\n",
       "   max  median       mean  \n",
       "0   61    22.0  22.782609  \n",
       "1   61    22.0  22.782609  \n",
       "2   61    22.0  22.782609  "
      ]
     },
     "execution_count": 18,
     "metadata": {},
     "output_type": "execute_result"
    }
   ],
   "source": [
    "visit_by_store = train.groupby([\"air_store_id\"])[\"visitors\"].aggregate([min,max,np.median,np.mean]).reset_index()\n",
    "train = train.merge(visit_by_store,how = \"left\", on = \"air_store_id\")\n",
    "test = test.merge(visit_by_store,how = \"left\", on = \"air_store_id\")\n",
    "train.head(3)"
   ]
  },
  {
   "cell_type": "markdown",
   "metadata": {},
   "source": [
    "Merge with min/max/mean/median visit by store on same weekday"
   ]
  },
  {
   "cell_type": "code",
   "execution_count": 19,
   "metadata": {
    "scrolled": true
   },
   "outputs": [
    {
     "data": {
      "text/html": [
       "<div>\n",
       "<style scoped>\n",
       "    .dataframe tbody tr th:only-of-type {\n",
       "        vertical-align: middle;\n",
       "    }\n",
       "\n",
       "    .dataframe tbody tr th {\n",
       "        vertical-align: top;\n",
       "    }\n",
       "\n",
       "    .dataframe thead th {\n",
       "        text-align: right;\n",
       "    }\n",
       "</style>\n",
       "<table border=\"1\" class=\"dataframe\">\n",
       "  <thead>\n",
       "    <tr style=\"text-align: right;\">\n",
       "      <th></th>\n",
       "      <th>air_store_id</th>\n",
       "      <th>visit_date</th>\n",
       "      <th>visitors</th>\n",
       "      <th>day_of_week</th>\n",
       "      <th>holiday_flg</th>\n",
       "      <th>min_all</th>\n",
       "      <th>max_all</th>\n",
       "      <th>median_all</th>\n",
       "      <th>mean_all</th>\n",
       "      <th>min_weekday</th>\n",
       "      <th>max_weekday</th>\n",
       "      <th>median_weekday</th>\n",
       "      <th>mean_weekday</th>\n",
       "    </tr>\n",
       "  </thead>\n",
       "  <tbody>\n",
       "    <tr>\n",
       "      <th>0</th>\n",
       "      <td>air_ba937bf13d40fb24</td>\n",
       "      <td>2016-01-13</td>\n",
       "      <td>25</td>\n",
       "      <td>2</td>\n",
       "      <td>0</td>\n",
       "      <td>1</td>\n",
       "      <td>61</td>\n",
       "      <td>22.0</td>\n",
       "      <td>22.782609</td>\n",
       "      <td>7</td>\n",
       "      <td>57</td>\n",
       "      <td>25.0</td>\n",
       "      <td>23.843750</td>\n",
       "    </tr>\n",
       "    <tr>\n",
       "      <th>1</th>\n",
       "      <td>air_ba937bf13d40fb24</td>\n",
       "      <td>2016-01-14</td>\n",
       "      <td>32</td>\n",
       "      <td>3</td>\n",
       "      <td>0</td>\n",
       "      <td>1</td>\n",
       "      <td>61</td>\n",
       "      <td>22.0</td>\n",
       "      <td>22.782609</td>\n",
       "      <td>2</td>\n",
       "      <td>54</td>\n",
       "      <td>21.0</td>\n",
       "      <td>20.292308</td>\n",
       "    </tr>\n",
       "    <tr>\n",
       "      <th>2</th>\n",
       "      <td>air_ba937bf13d40fb24</td>\n",
       "      <td>2016-01-15</td>\n",
       "      <td>29</td>\n",
       "      <td>4</td>\n",
       "      <td>0</td>\n",
       "      <td>1</td>\n",
       "      <td>61</td>\n",
       "      <td>22.0</td>\n",
       "      <td>22.782609</td>\n",
       "      <td>4</td>\n",
       "      <td>61</td>\n",
       "      <td>35.0</td>\n",
       "      <td>34.738462</td>\n",
       "    </tr>\n",
       "    <tr>\n",
       "      <th>3</th>\n",
       "      <td>air_ba937bf13d40fb24</td>\n",
       "      <td>2016-01-16</td>\n",
       "      <td>22</td>\n",
       "      <td>5</td>\n",
       "      <td>0</td>\n",
       "      <td>1</td>\n",
       "      <td>61</td>\n",
       "      <td>22.0</td>\n",
       "      <td>22.782609</td>\n",
       "      <td>6</td>\n",
       "      <td>53</td>\n",
       "      <td>27.0</td>\n",
       "      <td>27.651515</td>\n",
       "    </tr>\n",
       "    <tr>\n",
       "      <th>4</th>\n",
       "      <td>air_ba937bf13d40fb24</td>\n",
       "      <td>2016-01-18</td>\n",
       "      <td>6</td>\n",
       "      <td>0</td>\n",
       "      <td>0</td>\n",
       "      <td>1</td>\n",
       "      <td>61</td>\n",
       "      <td>22.0</td>\n",
       "      <td>22.782609</td>\n",
       "      <td>2</td>\n",
       "      <td>34</td>\n",
       "      <td>12.0</td>\n",
       "      <td>13.754386</td>\n",
       "    </tr>\n",
       "  </tbody>\n",
       "</table>\n",
       "</div>"
      ],
      "text/plain": [
       "           air_store_id visit_date  visitors  day_of_week  holiday_flg  \\\n",
       "0  air_ba937bf13d40fb24 2016-01-13        25            2            0   \n",
       "1  air_ba937bf13d40fb24 2016-01-14        32            3            0   \n",
       "2  air_ba937bf13d40fb24 2016-01-15        29            4            0   \n",
       "3  air_ba937bf13d40fb24 2016-01-16        22            5            0   \n",
       "4  air_ba937bf13d40fb24 2016-01-18         6            0            0   \n",
       "\n",
       "   min_all  max_all  median_all   mean_all  min_weekday  max_weekday  \\\n",
       "0        1       61        22.0  22.782609            7           57   \n",
       "1        1       61        22.0  22.782609            2           54   \n",
       "2        1       61        22.0  22.782609            4           61   \n",
       "3        1       61        22.0  22.782609            6           53   \n",
       "4        1       61        22.0  22.782609            2           34   \n",
       "\n",
       "   median_weekday  mean_weekday  \n",
       "0            25.0     23.843750  \n",
       "1            21.0     20.292308  \n",
       "2            35.0     34.738462  \n",
       "3            27.0     27.651515  \n",
       "4            12.0     13.754386  "
      ]
     },
     "execution_count": 19,
     "metadata": {},
     "output_type": "execute_result"
    }
   ],
   "source": [
    "visit_by_store_weekly = train.groupby([\"air_store_id\",\"day_of_week\"])[\"visitors\"].aggregate([min,max,np.median,np.mean]).reset_index()\n",
    "train = train.merge(visit_by_store_weekly,how = \"left\", on = [\"air_store_id\",\"day_of_week\"], suffixes=[\"_all\", \"_weekday\"])\n",
    "test = test.merge(visit_by_store_weekly,how = \"left\", on = [\"air_store_id\",\"day_of_week\"], suffixes=[\"_all\", \"_weekday\"])\n",
    "train.head()"
   ]
  },
  {
   "cell_type": "markdown",
   "metadata": {},
   "source": [
    "Merge with reverse by date"
   ]
  },
  {
   "cell_type": "code",
   "execution_count": 20,
   "metadata": {
    "scrolled": true
   },
   "outputs": [
    {
     "data": {
      "text/html": [
       "<div>\n",
       "<style scoped>\n",
       "    .dataframe tbody tr th:only-of-type {\n",
       "        vertical-align: middle;\n",
       "    }\n",
       "\n",
       "    .dataframe tbody tr th {\n",
       "        vertical-align: top;\n",
       "    }\n",
       "\n",
       "    .dataframe thead th {\n",
       "        text-align: right;\n",
       "    }\n",
       "</style>\n",
       "<table border=\"1\" class=\"dataframe\">\n",
       "  <thead>\n",
       "    <tr style=\"text-align: right;\">\n",
       "      <th></th>\n",
       "      <th>air_store_id</th>\n",
       "      <th>visit_date</th>\n",
       "      <th>visitors</th>\n",
       "      <th>day_of_week</th>\n",
       "      <th>holiday_flg</th>\n",
       "      <th>min_all</th>\n",
       "      <th>max_all</th>\n",
       "      <th>median_all</th>\n",
       "      <th>mean_all</th>\n",
       "      <th>min_weekday</th>\n",
       "      <th>max_weekday</th>\n",
       "      <th>median_weekday</th>\n",
       "      <th>mean_weekday</th>\n",
       "      <th>reserve_visitors</th>\n",
       "      <th>delta_2days</th>\n",
       "      <th>delta_7days</th>\n",
       "      <th>delta_long</th>\n",
       "    </tr>\n",
       "  </thead>\n",
       "  <tbody>\n",
       "    <tr>\n",
       "      <th>0</th>\n",
       "      <td>air_ba937bf13d40fb24</td>\n",
       "      <td>2016-01-13</td>\n",
       "      <td>25</td>\n",
       "      <td>2</td>\n",
       "      <td>0</td>\n",
       "      <td>1</td>\n",
       "      <td>61</td>\n",
       "      <td>22.0</td>\n",
       "      <td>22.782609</td>\n",
       "      <td>7</td>\n",
       "      <td>57</td>\n",
       "      <td>25.0</td>\n",
       "      <td>23.843750</td>\n",
       "      <td>NaN</td>\n",
       "      <td>NaN</td>\n",
       "      <td>NaN</td>\n",
       "      <td>NaN</td>\n",
       "    </tr>\n",
       "    <tr>\n",
       "      <th>1</th>\n",
       "      <td>air_ba937bf13d40fb24</td>\n",
       "      <td>2016-01-14</td>\n",
       "      <td>32</td>\n",
       "      <td>3</td>\n",
       "      <td>0</td>\n",
       "      <td>1</td>\n",
       "      <td>61</td>\n",
       "      <td>22.0</td>\n",
       "      <td>22.782609</td>\n",
       "      <td>2</td>\n",
       "      <td>54</td>\n",
       "      <td>21.0</td>\n",
       "      <td>20.292308</td>\n",
       "      <td>NaN</td>\n",
       "      <td>NaN</td>\n",
       "      <td>NaN</td>\n",
       "      <td>NaN</td>\n",
       "    </tr>\n",
       "    <tr>\n",
       "      <th>2</th>\n",
       "      <td>air_ba937bf13d40fb24</td>\n",
       "      <td>2016-01-15</td>\n",
       "      <td>29</td>\n",
       "      <td>4</td>\n",
       "      <td>0</td>\n",
       "      <td>1</td>\n",
       "      <td>61</td>\n",
       "      <td>22.0</td>\n",
       "      <td>22.782609</td>\n",
       "      <td>4</td>\n",
       "      <td>61</td>\n",
       "      <td>35.0</td>\n",
       "      <td>34.738462</td>\n",
       "      <td>NaN</td>\n",
       "      <td>NaN</td>\n",
       "      <td>NaN</td>\n",
       "      <td>NaN</td>\n",
       "    </tr>\n",
       "    <tr>\n",
       "      <th>3</th>\n",
       "      <td>air_ba937bf13d40fb24</td>\n",
       "      <td>2016-01-16</td>\n",
       "      <td>22</td>\n",
       "      <td>5</td>\n",
       "      <td>0</td>\n",
       "      <td>1</td>\n",
       "      <td>61</td>\n",
       "      <td>22.0</td>\n",
       "      <td>22.782609</td>\n",
       "      <td>6</td>\n",
       "      <td>53</td>\n",
       "      <td>27.0</td>\n",
       "      <td>27.651515</td>\n",
       "      <td>NaN</td>\n",
       "      <td>NaN</td>\n",
       "      <td>NaN</td>\n",
       "      <td>NaN</td>\n",
       "    </tr>\n",
       "    <tr>\n",
       "      <th>4</th>\n",
       "      <td>air_ba937bf13d40fb24</td>\n",
       "      <td>2016-01-18</td>\n",
       "      <td>6</td>\n",
       "      <td>0</td>\n",
       "      <td>0</td>\n",
       "      <td>1</td>\n",
       "      <td>61</td>\n",
       "      <td>22.0</td>\n",
       "      <td>22.782609</td>\n",
       "      <td>2</td>\n",
       "      <td>34</td>\n",
       "      <td>12.0</td>\n",
       "      <td>13.754386</td>\n",
       "      <td>NaN</td>\n",
       "      <td>NaN</td>\n",
       "      <td>NaN</td>\n",
       "      <td>NaN</td>\n",
       "    </tr>\n",
       "  </tbody>\n",
       "</table>\n",
       "</div>"
      ],
      "text/plain": [
       "           air_store_id visit_date  visitors  day_of_week  holiday_flg  \\\n",
       "0  air_ba937bf13d40fb24 2016-01-13        25            2            0   \n",
       "1  air_ba937bf13d40fb24 2016-01-14        32            3            0   \n",
       "2  air_ba937bf13d40fb24 2016-01-15        29            4            0   \n",
       "3  air_ba937bf13d40fb24 2016-01-16        22            5            0   \n",
       "4  air_ba937bf13d40fb24 2016-01-18         6            0            0   \n",
       "\n",
       "   min_all  max_all  median_all   mean_all  min_weekday  max_weekday  \\\n",
       "0        1       61        22.0  22.782609            7           57   \n",
       "1        1       61        22.0  22.782609            2           54   \n",
       "2        1       61        22.0  22.782609            4           61   \n",
       "3        1       61        22.0  22.782609            6           53   \n",
       "4        1       61        22.0  22.782609            2           34   \n",
       "\n",
       "   median_weekday  mean_weekday  reserve_visitors  delta_2days  delta_7days  \\\n",
       "0            25.0     23.843750               NaN          NaN          NaN   \n",
       "1            21.0     20.292308               NaN          NaN          NaN   \n",
       "2            35.0     34.738462               NaN          NaN          NaN   \n",
       "3            27.0     27.651515               NaN          NaN          NaN   \n",
       "4            12.0     13.754386               NaN          NaN          NaN   \n",
       "\n",
       "   delta_long  \n",
       "0         NaN  \n",
       "1         NaN  \n",
       "2         NaN  \n",
       "3         NaN  \n",
       "4         NaN  "
      ]
     },
     "execution_count": 20,
     "metadata": {},
     "output_type": "execute_result"
    }
   ],
   "source": [
    "reserve_by_date = total_reserve.groupby([\"store_id\",\"date\"]).sum().reset_index()\n",
    "reserve_by_date = reserve_by_date.rename(columns = {'store_id':'air_store_id','date':'visit_date'})\n",
    "reserve_by_date[\"visit_date\"] = pd.to_datetime(reserve_by_date[\"visit_date\"])\n",
    "\n",
    "train = train.merge(reserve_by_date, how = \"left\", on=[\"air_store_id\",\"visit_date\"])\n",
    "test = test.merge(reserve_by_date, how = \"left\", on=[\"air_store_id\",\"visit_date\"])\n",
    "train.head()"
   ]
  },
  {
   "cell_type": "code",
   "execution_count": 21,
   "metadata": {},
   "outputs": [
    {
     "name": "stdout",
     "output_type": "stream",
     "text": [
      "There are 829 unique restaurants in train data set, while just 333 of them have reservation.\n"
     ]
    }
   ],
   "source": [
    "print(\"There are {} unique restaurants in train data set, while just {} of them have reservation.\".format(\n",
    "    train[\"air_store_id\"].nunique(),reserve_by_date[\"air_store_id\"].nunique()))"
   ]
  },
  {
   "cell_type": "markdown",
   "metadata": {},
   "source": [
    "For restaurants that can have reservation, fill na with 0 (means, no reservation on that day)"
   ]
  },
  {
   "cell_type": "code",
   "execution_count": 22,
   "metadata": {
    "scrolled": true
   },
   "outputs": [],
   "source": [
    "train.loc[train[\"air_store_id\"].isin(reserve_by_date[\"air_store_id\"].unique()),\"reserve_visitors\"] = \\\n",
    "train[train[\"air_store_id\"].isin(reserve_by_date[\"air_store_id\"].unique())][\"reserve_visitors\"].fillna(0)\n",
    "\n",
    "test.loc[test[\"air_store_id\"].isin(reserve_by_date[\"air_store_id\"].unique()),\"reserve_visitors\"] = \\\n",
    "test[test[\"air_store_id\"].isin(reserve_by_date[\"air_store_id\"].unique())][\"reserve_visitors\"].fillna(0)"
   ]
  },
  {
   "cell_type": "markdown",
   "metadata": {},
   "source": [
    "For testaurants that never have reservation, fill na with -999"
   ]
  },
  {
   "cell_type": "code",
   "execution_count": 23,
   "metadata": {},
   "outputs": [],
   "source": [
    "train.loc[~train[\"air_store_id\"].isin(reserve_by_date[\"air_store_id\"].unique()),\"reserve_visitors\"] = \\\n",
    "train[~train[\"air_store_id\"].isin(reserve_by_date[\"air_store_id\"].unique())][\"reserve_visitors\"].fillna(-999)\n",
    "\n",
    "test.loc[~test[\"air_store_id\"].isin(reserve_by_date[\"air_store_id\"].unique()),\"reserve_visitors\"] = \\\n",
    "test[~test[\"air_store_id\"].isin(reserve_by_date[\"air_store_id\"].unique())][\"reserve_visitors\"].fillna(-999)"
   ]
  },
  {
   "cell_type": "markdown",
   "metadata": {},
   "source": [
    "# Modeling"
   ]
  },
  {
   "cell_type": "code",
   "execution_count": 24,
   "metadata": {
    "collapsed": true
   },
   "outputs": [],
   "source": [
    "from sklearn.model_selection import train_test_split\n",
    "from sklearn.metrics import make_scorer\n",
    "from sklearn.model_selection import GridSearchCV"
   ]
  },
  {
   "cell_type": "code",
   "execution_count": 25,
   "metadata": {
    "collapsed": true
   },
   "outputs": [],
   "source": [
    "Xtrain = train.drop([\"visitors\",\"air_store_id\",\"visit_date\",\"delta_7days\"],axis=1)\n",
    "Xtrain = Xtrain.fillna(-999)\n",
    "Ytrain = train[\"visitors\"]\n",
    "\n",
    "Xtest = test.drop([\"id\",\"visitors\",\"air_store_id\",\"visit_date\",\"delta_7days\"],axis=1)\n",
    "Xtest = Xtest.fillna(-999)"
   ]
  },
  {
   "cell_type": "code",
   "execution_count": 26,
   "metadata": {
    "collapsed": true
   },
   "outputs": [],
   "source": [
    "train_x, test_x, train_y, test_y = \\\n",
    "train_test_split(Xtrain, Ytrain, random_state=1026, test_size=0.2)"
   ]
  },
  {
   "cell_type": "code",
   "execution_count": 27,
   "metadata": {
    "collapsed": true
   },
   "outputs": [],
   "source": [
    "def rmsle(y, yp): \n",
    "    \"\"\"\n",
    "    Compute the Root Mean Squared Log Error for hypthesis yp and targets y\n",
    "    Args:\n",
    "        yp - numpy array containing predictions with shape (n_samples, n_targets)\n",
    "        y - numpy array containing targets with shape (n_samples, n_targets)\n",
    "    \"\"\"\n",
    "    return np.sqrt(np.square(np.log1p(yp) - np.log1p(y)).mean())\n",
    "\n",
    "acc_scorer = make_scorer(score_func = rmsle, greater_is_better = False)"
   ]
  },
  {
   "cell_type": "markdown",
   "metadata": {},
   "source": [
    "# Linear Regression"
   ]
  },
  {
   "cell_type": "code",
   "execution_count": 118,
   "metadata": {
    "collapsed": true
   },
   "outputs": [],
   "source": [
    "import statsmodels.api as sm"
   ]
  },
  {
   "cell_type": "code",
   "execution_count": 206,
   "metadata": {
    "collapsed": true
   },
   "outputs": [],
   "source": [
    "def linear_reg(train_x,train_y,test_x): \n",
    "    x = sm.add_constant(train_x, has_constant='add')\n",
    "    est = sm.OLS(train_y, x)\n",
    "    est = est.fit()\n",
    "    lm_summary = est.summary()\n",
    "    pred_x = sm.add_constant(test_x, has_constant='add')\n",
    "    pred_y= est.predict(pred_x)\n",
    "    return (lm_summary,pred_y)"
   ]
  },
  {
   "cell_type": "code",
   "execution_count": 207,
   "metadata": {
    "scrolled": true
   },
   "outputs": [
    {
     "data": {
      "text/plain": [
       "0.5349050651862041"
      ]
     },
     "execution_count": 207,
     "metadata": {},
     "output_type": "execute_result"
    }
   ],
   "source": [
    "lm_summary,pred_testy = linear_reg(train_x,train_y,test_x)\n",
    "rmsle(test_y,pred_testy)"
   ]
  },
  {
   "cell_type": "markdown",
   "metadata": {},
   "source": [
    "## linear regression final result"
   ]
  },
  {
   "cell_type": "code",
   "execution_count": 146,
   "metadata": {},
   "outputs": [
    {
     "data": {
      "text/html": [
       "<div>\n",
       "<style scoped>\n",
       "    .dataframe tbody tr th:only-of-type {\n",
       "        vertical-align: middle;\n",
       "    }\n",
       "\n",
       "    .dataframe tbody tr th {\n",
       "        vertical-align: top;\n",
       "    }\n",
       "\n",
       "    .dataframe thead th {\n",
       "        text-align: right;\n",
       "    }\n",
       "</style>\n",
       "<table border=\"1\" class=\"dataframe\">\n",
       "  <thead>\n",
       "    <tr style=\"text-align: right;\">\n",
       "      <th></th>\n",
       "      <th>id</th>\n",
       "      <th>visitors</th>\n",
       "    </tr>\n",
       "  </thead>\n",
       "  <tbody>\n",
       "    <tr>\n",
       "      <th>0</th>\n",
       "      <td>air_00a91d42b08b08d9_2017-04-23</td>\n",
       "      <td>1.099238</td>\n",
       "    </tr>\n",
       "    <tr>\n",
       "      <th>1</th>\n",
       "      <td>air_00a91d42b08b08d9_2017-04-24</td>\n",
       "      <td>21.189447</td>\n",
       "    </tr>\n",
       "    <tr>\n",
       "      <th>2</th>\n",
       "      <td>air_00a91d42b08b08d9_2017-04-25</td>\n",
       "      <td>23.075842</td>\n",
       "    </tr>\n",
       "    <tr>\n",
       "      <th>3</th>\n",
       "      <td>air_00a91d42b08b08d9_2017-04-26</td>\n",
       "      <td>26.876391</td>\n",
       "    </tr>\n",
       "    <tr>\n",
       "      <th>4</th>\n",
       "      <td>air_00a91d42b08b08d9_2017-04-27</td>\n",
       "      <td>28.611301</td>\n",
       "    </tr>\n",
       "  </tbody>\n",
       "</table>\n",
       "</div>"
      ],
      "text/plain": [
       "                                id   visitors\n",
       "0  air_00a91d42b08b08d9_2017-04-23   1.099238\n",
       "1  air_00a91d42b08b08d9_2017-04-24  21.189447\n",
       "2  air_00a91d42b08b08d9_2017-04-25  23.075842\n",
       "3  air_00a91d42b08b08d9_2017-04-26  26.876391\n",
       "4  air_00a91d42b08b08d9_2017-04-27  28.611301"
      ]
     },
     "execution_count": 146,
     "metadata": {},
     "output_type": "execute_result"
    }
   ],
   "source": [
    "lm_summary,pred_y = linear_reg(Xtrain,Ytrain,Xtest)\n",
    "sample_submission[\"visitors\"] = pred_y\n",
    "sample_submission[\"visitors\"] = sample_submission[\"visitors\"].apply(lambda x: 0 if x<0 else x)\n",
    "sample_submission.head()"
   ]
  },
  {
   "cell_type": "code",
   "execution_count": 143,
   "metadata": {
    "collapsed": true
   },
   "outputs": [],
   "source": [
    "sample_submission.to_csv(\"../output/lm1.csv\",index=False)"
   ]
  },
  {
   "cell_type": "markdown",
   "metadata": {},
   "source": [
    "# Random Forest"
   ]
  },
  {
   "cell_type": "code",
   "execution_count": 28,
   "metadata": {
    "collapsed": true
   },
   "outputs": [],
   "source": [
    "from sklearn.ensemble import RandomForestRegressor"
   ]
  },
  {
   "cell_type": "code",
   "execution_count": 29,
   "metadata": {
    "collapsed": true
   },
   "outputs": [],
   "source": [
    "def random_forest(train_x,train_y,test_x,**kwargs):\n",
    "    forest = RandomForestRegressor(**kwargs)\n",
    "    forest.fit(train_x, train_y)\n",
    "    pred_y = forest.predict(test_x)\n",
    "    return forest,pred_y\n",
    "\n",
    "def plot_rf_importance(forest):\n",
    "    imp = pd.DataFrame( \n",
    "    forest.feature_importances_  , \n",
    "    columns = [ 'Importance' ] , \n",
    "    index = train_x.columns)\n",
    "    \n",
    "    imp = imp.sort_values( [ 'Importance' ] , ascending = True )\n",
    "    imp[ : 10 ].plot( kind = 'barh' )"
   ]
  },
  {
   "cell_type": "markdown",
   "metadata": {},
   "source": [
    "grid search to find optimal parameters for random forest"
   ]
  },
  {
   "cell_type": "code",
   "execution_count": 33,
   "metadata": {},
   "outputs": [
    {
     "data": {
      "text/plain": [
       "{'max_depth': 10,\n",
       " 'max_features': 'auto',\n",
       " 'min_samples_split': 3,\n",
       " 'n_estimators': 60}"
      ]
     },
     "execution_count": 33,
     "metadata": {},
     "output_type": "execute_result"
    }
   ],
   "source": [
    "acc_scorer = make_scorer(score_func = rmsle, greater_is_better = False)\n",
    "model = RandomForestRegressor()\n",
    "parameters = {'n_estimators': [50,60], \n",
    "              'max_features': ['log2', 'sqrt','auto'], #The number of features to consider when looking for the best split\n",
    "              'max_depth': [3, 5, 10], \n",
    "              'min_samples_split': [2, 3, 5],\n",
    "             }\n",
    "grid_obj = GridSearchCV(model, parameters, scoring=acc_scorer)\n",
    "grid_obj = grid_obj.fit(test_x, test_y)\n",
    "parms = grid_obj.best_params_\n",
    "parms\n",
    "#grid_obj.best_score_"
   ]
  },
  {
   "cell_type": "code",
   "execution_count": 32,
   "metadata": {},
   "outputs": [
    {
     "data": {
      "text/plain": [
       "0.5263122151432635"
      ]
     },
     "execution_count": 32,
     "metadata": {},
     "output_type": "execute_result"
    },
    {
     "data": {
      "image/png": "[encoded data removed]",
      "text/plain": [
       "<matplotlib.figure.Figure at 0x260040e0b38>"
      ]
     },
     "metadata": {},
     "output_type": "display_data"
    }
   ],
   "source": [
    "forest, pred_testy = random_forest(train_x,train_y,test_x,**parms)\n",
    "rmsle(test_y,pred_testy)\n",
    "plot_rf_importance(forest)"
   ]
  },
  {
   "cell_type": "markdown",
   "metadata": {},
   "source": [
    "## Random forest final result"
   ]
  },
  {
   "cell_type": "code",
   "execution_count": 35,
   "metadata": {},
   "outputs": [
    {
     "data": {
      "text/html": [
       "<div>\n",
       "<style scoped>\n",
       "    .dataframe tbody tr th:only-of-type {\n",
       "        vertical-align: middle;\n",
       "    }\n",
       "\n",
       "    .dataframe tbody tr th {\n",
       "        vertical-align: top;\n",
       "    }\n",
       "\n",
       "    .dataframe thead th {\n",
       "        text-align: right;\n",
       "    }\n",
       "</style>\n",
       "<table border=\"1\" class=\"dataframe\">\n",
       "  <thead>\n",
       "    <tr style=\"text-align: right;\">\n",
       "      <th></th>\n",
       "      <th>id</th>\n",
       "      <th>visitors</th>\n",
       "    </tr>\n",
       "  </thead>\n",
       "  <tbody>\n",
       "    <tr>\n",
       "      <th>0</th>\n",
       "      <td>air_00a91d42b08b08d9_2017-04-23</td>\n",
       "      <td>2.009557</td>\n",
       "    </tr>\n",
       "    <tr>\n",
       "      <th>1</th>\n",
       "      <td>air_00a91d42b08b08d9_2017-04-24</td>\n",
       "      <td>20.573762</td>\n",
       "    </tr>\n",
       "    <tr>\n",
       "      <th>2</th>\n",
       "      <td>air_00a91d42b08b08d9_2017-04-25</td>\n",
       "      <td>23.444297</td>\n",
       "    </tr>\n",
       "    <tr>\n",
       "      <th>3</th>\n",
       "      <td>air_00a91d42b08b08d9_2017-04-26</td>\n",
       "      <td>27.120910</td>\n",
       "    </tr>\n",
       "    <tr>\n",
       "      <th>4</th>\n",
       "      <td>air_00a91d42b08b08d9_2017-04-27</td>\n",
       "      <td>29.414499</td>\n",
       "    </tr>\n",
       "  </tbody>\n",
       "</table>\n",
       "</div>"
      ],
      "text/plain": [
       "                                id   visitors\n",
       "0  air_00a91d42b08b08d9_2017-04-23   2.009557\n",
       "1  air_00a91d42b08b08d9_2017-04-24  20.573762\n",
       "2  air_00a91d42b08b08d9_2017-04-25  23.444297\n",
       "3  air_00a91d42b08b08d9_2017-04-26  27.120910\n",
       "4  air_00a91d42b08b08d9_2017-04-27  29.414499"
      ]
     },
     "execution_count": 35,
     "metadata": {},
     "output_type": "execute_result"
    }
   ],
   "source": [
    "forest, pred_y = random_forest(Xtrain,Ytrain,Xtest,**parms)\n",
    "sample_submission[\"visitors\"] = pred_y\n",
    "sample_submission[\"visitors\"] = sample_submission[\"visitors\"].apply(lambda x: 0 if x<0 else x)\n",
    "sample_submission.head()"
   ]
  },
  {
   "cell_type": "code",
   "execution_count": 37,
   "metadata": {
    "collapsed": true
   },
   "outputs": [],
   "source": [
    "sample_submission.to_csv(\"../output/rf2.csv\",index=False)"
   ]
  },
  {
   "cell_type": "markdown",
   "metadata": {},
   "source": [
    "# XGBoost"
   ]
  },
  {
   "cell_type": "code",
   "execution_count": 175,
   "metadata": {},
   "outputs": [
    {
     "name": "stderr",
     "output_type": "stream",
     "text": [
      "C:\\Users\\yiqin\\Anaconda3\\lib\\site-packages\\sklearn\\cross_validation.py:44: DeprecationWarning: This module was deprecated in version 0.18 in favor of the model_selection module into which all the refactored classes and functions are moved. Also note that the interface of the new CV iterators are different from that of this module. This module will be removed in 0.20.\n",
      "  \"This module will be removed in 0.20.\", DeprecationWarning)\n"
     ]
    }
   ],
   "source": [
    "import xgboost as xgb"
   ]
  },
  {
   "cell_type": "code",
   "execution_count": 219,
   "metadata": {
    "collapsed": true
   },
   "outputs": [],
   "source": [
    "def opt_num_boost_round(train_x,train_y,xgb_params):\n",
    "    dtrain = xgb.DMatrix(train_x, train_y)\n",
    "    cv_output = xgb.cv(xgb_params, dtrain, num_boost_round=200, early_stopping_rounds=100,\n",
    "        verbose_eval=20, show_stdv=False)\n",
    "    cv_output[['train-rmse-mean', 'test-rmse-mean']].plot()\n",
    "    \n",
    "def xgb_model(train_x,train_y,test_x,xgb_params,num_round):\n",
    "    dtrain = xgb.DMatrix(train_x, train_y)\n",
    "    xgb_model = xgb.train(dict(xgb_params, silent=0), dtrain, num_boost_round=num_round)\n",
    "    pred = xgb_model.predict(xgb.DMatrix(test_x))\n",
    "    return xgb_model,pred"
   ]
  },
  {
   "cell_type": "code",
   "execution_count": 184,
   "metadata": {
    "scrolled": true
   },
   "outputs": [
    {
     "name": "stdout",
     "output_type": "stream",
     "text": [
      "[0]\ttrain-rmse:25.4082\ttest-rmse:25.4134\n",
      "[20]\ttrain-rmse:13.6315\ttest-rmse:13.7638\n",
      "[40]\ttrain-rmse:11.1187\ttest-rmse:11.3749\n",
      "[60]\ttrain-rmse:10.6945\ttest-rmse:11.023\n",
      "[80]\ttrain-rmse:10.6035\ttest-rmse:10.9793\n",
      "[100]\ttrain-rmse:10.5702\ttest-rmse:10.9726\n",
      "[120]\ttrain-rmse:10.5477\ttest-rmse:10.9741\n",
      "[140]\ttrain-rmse:10.5345\ttest-rmse:10.9773\n",
      "[160]\ttrain-rmse:10.5223\ttest-rmse:10.9804\n",
      "[180]\ttrain-rmse:10.5106\ttest-rmse:10.9823\n"
     ]
    },
    {
     "data": {
      "image/png": "[encoded data removed]",
      "text/plain": [
       "<matplotlib.figure.Figure at 0x2448092fac8>"
      ]
     },
     "metadata": {},
     "output_type": "display_data"
    }
   ],
   "source": [
    "xgb_params = {\n",
    "    'eta': 0.05,\n",
    "    'max_depth': 8,\n",
    "    'subsample': 0.7,\n",
    "    'colsample_bytree': 0.7,\n",
    "    'objective': 'reg:linear',\n",
    "    'eval_metric': 'rmse',\n",
    "    'silent': 1\n",
    "}\n",
    "\n",
    "opt_num_boost_round(train_x,train_y,xgb_params)"
   ]
  },
  {
   "cell_type": "code",
   "execution_count": 185,
   "metadata": {},
   "outputs": [
    {
     "data": {
      "text/plain": [
       "0.5196354966482392"
      ]
     },
     "execution_count": 185,
     "metadata": {},
     "output_type": "execute_result"
    }
   ],
   "source": [
    "pred_testy = xgb_model(train_x,train_y,test_x,xgb_params,60)\n",
    "rmsle(test_y,pred_testy)"
   ]
  },
  {
   "cell_type": "markdown",
   "metadata": {},
   "source": [
    "## XGBoost final result"
   ]
  },
  {
   "cell_type": "code",
   "execution_count": 186,
   "metadata": {
    "scrolled": true
   },
   "outputs": [
    {
     "data": {
      "text/html": [
       "<div>\n",
       "<style scoped>\n",
       "    .dataframe tbody tr th:only-of-type {\n",
       "        vertical-align: middle;\n",
       "    }\n",
       "\n",
       "    .dataframe tbody tr th {\n",
       "        vertical-align: top;\n",
       "    }\n",
       "\n",
       "    .dataframe thead th {\n",
       "        text-align: right;\n",
       "    }\n",
       "</style>\n",
       "<table border=\"1\" class=\"dataframe\">\n",
       "  <thead>\n",
       "    <tr style=\"text-align: right;\">\n",
       "      <th></th>\n",
       "      <th>id</th>\n",
       "      <th>visitors</th>\n",
       "    </tr>\n",
       "  </thead>\n",
       "  <tbody>\n",
       "    <tr>\n",
       "      <th>0</th>\n",
       "      <td>air_00a91d42b08b08d9_2017-04-23</td>\n",
       "      <td>2.210022</td>\n",
       "    </tr>\n",
       "    <tr>\n",
       "      <th>1</th>\n",
       "      <td>air_00a91d42b08b08d9_2017-04-24</td>\n",
       "      <td>19.903069</td>\n",
       "    </tr>\n",
       "    <tr>\n",
       "      <th>2</th>\n",
       "      <td>air_00a91d42b08b08d9_2017-04-25</td>\n",
       "      <td>22.702095</td>\n",
       "    </tr>\n",
       "    <tr>\n",
       "      <th>3</th>\n",
       "      <td>air_00a91d42b08b08d9_2017-04-26</td>\n",
       "      <td>26.485523</td>\n",
       "    </tr>\n",
       "    <tr>\n",
       "      <th>4</th>\n",
       "      <td>air_00a91d42b08b08d9_2017-04-27</td>\n",
       "      <td>28.022711</td>\n",
       "    </tr>\n",
       "  </tbody>\n",
       "</table>\n",
       "</div>"
      ],
      "text/plain": [
       "                                id   visitors\n",
       "0  air_00a91d42b08b08d9_2017-04-23   2.210022\n",
       "1  air_00a91d42b08b08d9_2017-04-24  19.903069\n",
       "2  air_00a91d42b08b08d9_2017-04-25  22.702095\n",
       "3  air_00a91d42b08b08d9_2017-04-26  26.485523\n",
       "4  air_00a91d42b08b08d9_2017-04-27  28.022711"
      ]
     },
     "execution_count": 186,
     "metadata": {},
     "output_type": "execute_result"
    }
   ],
   "source": [
    "pred_y = xgb_model(Xtrain,Ytrain,Xtest,xgb_params,60)\n",
    "sample_submission[\"visitors\"] = pred_y\n",
    "sample_submission[\"visitors\"] = sample_submission[\"visitors\"].apply(lambda x: 0 if x<0 else x)\n",
    "sample_submission.head()"
   ]
  },
  {
   "cell_type": "code",
   "execution_count": 187,
   "metadata": {
    "collapsed": true
   },
   "outputs": [],
   "source": [
    "sample_submission.to_csv(\"../output/xgb2.csv\",index=False)"
   ]
  },
  {
   "cell_type": "code",
   "execution_count": 188,
   "metadata": {
    "collapsed": true
   },
   "outputs": [],
   "source": [
    "from sklearn.cross_validation import KFold"
   ]
  },
  {
   "cell_type": "code",
   "execution_count": 244,
   "metadata": {},
   "outputs": [],
   "source": [
    "def cv_rmsle (k,model,Xtrain,Ytrain,**kwargs):\n",
    "    error = []\n",
    "    n = Xtrain.shape[0]\n",
    "    kf = KFold(n, n_folds = k, shuffle=True)\n",
    "    #loop through K fold\n",
    "    for i, (train_index, test_index) in enumerate(kf):#get the train and test index generated by Kfold\n",
    "        x_tr = Xtrain.iloc[train_index] #xtrain for a fold\n",
    "        y_tr = Ytrain.iloc[train_index] #ytrain for a fold\n",
    "        x_te = Xtrain.iloc[test_index]  #xtest for a fold\n",
    "        y_te = Ytrain.iloc[test_index]  #ytest for a fold\n",
    "        \n",
    "        #predict and calculate rmsle\n",
    "        __, pred_yte = globals()[model](x_tr,y_tr,x_te,**kwargs)\n",
    "        error.append(rmsle(y_te,pred_yte))\n",
    "        print(\"finish {} round of {}, rmlse = {}\".format(i,model,rmsle(y_te,pred_yte)))\n",
    "    return error"
   ]
  },
  {
   "cell_type": "code",
   "execution_count": 246,
   "metadata": {
    "scrolled": true
   },
   "outputs": [
    {
     "name": "stdout",
     "output_type": "stream",
     "text": [
      "finish 0 round of linear_reg, rmlse = 0.5314624357003316\n",
      "finish 1 round of linear_reg, rmlse = 0.5354645236850739\n",
      "finish 2 round of linear_reg, rmlse = 0.5362603823008182\n",
      "finish 3 round of linear_reg, rmlse = 0.5368049090650254\n",
      "finish 4 round of linear_reg, rmlse = 0.5352185406054286\n"
     ]
    }
   ],
   "source": [
    "k = 5\n",
    "model = \"linear_reg\"\n",
    "error = cv_rmsle(k, model, Xtrain,Ytrain)"
   ]
  },
  {
   "cell_type": "code",
   "execution_count": 242,
   "metadata": {
    "scrolled": true
   },
   "outputs": [
    {
     "name": "stdout",
     "output_type": "stream",
     "text": [
      "0.5204517626364877\n",
      "0.518266049543694\n"
     ]
    },
    {
     "data": {
      "text/plain": [
       "[0.5204517626364877, 0.518266049543694]"
      ]
     },
     "execution_count": 242,
     "metadata": {},
     "output_type": "execute_result"
    }
   ],
   "source": [
    "k = 2\n",
    "model = \"xgb_model\"\n",
    "model_params = {\n",
    "   \"xgb_params\": xgb_params,\n",
    "    \"num_round\": 60\n",
    "}\n",
    "error = cv_rmsle(k, model, Xtrain,Ytrain,**model_params)\n",
    "error"
   ]
  },
  {
   "cell_type": "markdown",
   "metadata": {},
   "source": [
    "## Times Series Model Notes\n",
    "- Need to make sure data is stationary (there is no upward or downward trend). Test stationarity using Dicky-Fuller Test (sample Codes as below). In our case, we should figure out a way to asjust for the two huge gaps.\n",
    "\n",
    "- ARIMA model: https://machinelearningmastery.com/time-series-forecast-study-python-monthly-sales-french-champagne/\n"
   ]
  },
  {
   "cell_type": "code",
   "execution_count": 10,
   "metadata": {},
   "outputs": [
    {
     "data": {
      "text/plain": [
       "\"\\n# difference data\\nmonths_in_year = 12\\nstationary = difference(X, months_in_year)\\nstationary.index = series.index[months_in_year:]\\n# check if stationary\\nresult = adfuller(stationary)\\nprint('ADF Statistic: %f' % result[0])\\nprint('p-value: %f' % result[1])\\nprint('Critical Values:')\\nfor key, value in result[4].items():\\n    print('\\t%s: %.3f' % (key, value))\\n\""
      ]
     },
     "execution_count": 10,
     "metadata": {},
     "output_type": "execute_result"
    }
   ],
   "source": [
    "# Dicky Fuller Test\n",
    "'''\n",
    "# difference data\n",
    "months_in_year = 12\n",
    "stationary = difference(X, months_in_year)\n",
    "stationary.index = series.index[months_in_year:]\n",
    "# check if stationary\n",
    "result = adfuller(stationary)\n",
    "print('ADF Statistic: %f' % result[0])\n",
    "print('p-value: %f' % result[1])\n",
    "print('Critical Values:')\n",
    "for key, value in result[4].items():\n",
    "    print('\\t%s: %.3f' % (key, value))\n",
    "'''"
   ]
  },
  {
   "cell_type": "code",
   "execution_count": null,
   "metadata": {
    "collapsed": true
   },
   "outputs": [],
   "source": []
  },
  {
   "cell_type": "code",
   "execution_count": null,
   "metadata": {
    "collapsed": true
   },
   "outputs": [],
   "source": []
  },
  {
   "cell_type": "code",
   "execution_count": null,
   "metadata": {
    "collapsed": true
   },
   "outputs": [],
   "source": []
  },
  {
   "cell_type": "code",
   "execution_count": null,
   "metadata": {
    "collapsed": true
   },
   "outputs": [],
   "source": []
  },
  {
   "cell_type": "code",
   "execution_count": null,
   "metadata": {
    "collapsed": true
   },
   "outputs": [],
   "source": []
  },
  {
   "cell_type": "code",
   "execution_count": null,
   "metadata": {
    "collapsed": true
   },
   "outputs": [],
   "source": []
  },
  {
   "cell_type": "code",
   "execution_count": null,
   "metadata": {
    "collapsed": true
   },
   "outputs": [],
   "source": []
  }
 ],
 "metadata": {
  "kernelspec": {
   "display_name": "Python 3",
   "language": "python",
   "name": "python3"
  },
  "language_info": {
   "codemirror_mode": {
    "name": "ipython",
    "version": 3
   },
   "file_extension": ".py",
   "mimetype": "text/x-python",
   "name": "python",
   "nbconvert_exporter": "python",
   "pygments_lexer": "ipython3",
   "version": "3.6.3"
  }
 },
 "nbformat": 4,
 "nbformat_minor": 2
}
